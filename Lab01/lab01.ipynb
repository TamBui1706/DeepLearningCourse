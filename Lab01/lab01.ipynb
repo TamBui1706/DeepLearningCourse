{
  "nbformat": 4,
  "nbformat_minor": 0,
  "metadata": {
    "colab": {
      "provenance": [],
      "authorship_tag": "ABX9TyOIodAbn74p6hIeizhDfldI",
      "include_colab_link": true
    },
    "kernelspec": {
      "name": "python3",
      "display_name": "Python 3"
    },
    "language_info": {
      "name": "python"
    }
  },
  "cells": [
    {
      "cell_type": "markdown",
      "metadata": {
        "id": "view-in-github",
        "colab_type": "text"
      },
      "source": [
        "<a href=\"https://colab.research.google.com/github/TamBui1706/DeepLearningCourse/blob/main/Lab01/lab01.ipynb\" target=\"_parent\"><img src=\"https://colab.research.google.com/assets/colab-badge.svg\" alt=\"Open In Colab\"/></a>"
      ]
    },
    {
      "cell_type": "code",
      "execution_count": null,
      "metadata": {
        "id": "7tsxVhPOnx4c"
      },
      "outputs": [],
      "source": [
        "import numpy as np\n",
        "from keras.datasets import mnist\n",
        "from keras.utils import to_categorical"
      ]
    },
    {
      "cell_type": "code",
      "source": [
        "# Tải dữ liệu MNIST\n",
        "(x_train, y_train), (x_test, y_test) = mnist.load_data()\n",
        "\n",
        "# Chuẩn bị dữ liệu\n",
        "x_train = x_train.reshape(-1, 784) / 255.0  # Chuyển thành vector 784 chiều và chuẩn hóa [0,1]\n",
        "x_test = x_test.reshape(-1, 784) / 255.0\n",
        "y_train = to_categorical(y_train, 10)  # Chuyển nhãn thành one-hot encoding\n",
        "y_test = to_categorical(y_test, 10)\n",
        "\n",
        "print(\"Kích thước tập huấn luyện:\", x_train.shape)\n",
        "print(\"Kích thước tập kiểm tra:\", x_test.shape)"
      ],
      "metadata": {
        "colab": {
          "base_uri": "https://localhost:8080/"
        },
        "id": "ELPzzVEUny_6",
        "outputId": "ddec82e9-92be-465f-81ea-374e9a2205e7"
      },
      "execution_count": null,
      "outputs": [
        {
          "output_type": "stream",
          "name": "stdout",
          "text": [
            "Downloading data from https://storage.googleapis.com/tensorflow/tf-keras-datasets/mnist.npz\n",
            "\u001b[1m11490434/11490434\u001b[0m \u001b[32m━━━━━━━━━━━━━━━━━━━━\u001b[0m\u001b[37m\u001b[0m \u001b[1m0s\u001b[0m 0us/step\n",
            "Kích thước tập huấn luyện: (60000, 784)\n",
            "Kích thước tập kiểm tra: (10000, 784)\n"
          ]
        }
      ]
    },
    {
      "cell_type": "code",
      "source": [
        "def sigmoid(x):\n",
        "    return 1 / (1 + np.exp(-x))\n",
        "\n",
        "def relu(x):\n",
        "    return np.maximum(0, x)\n",
        "\n",
        "def softmax(x):\n",
        "    exp_x = np.exp(x - np.max(x, axis=1, keepdims=True))  # Tránh tràn số\n",
        "    return exp_x / np.sum(exp_x, axis=1, keepdims=True)"
      ],
      "metadata": {
        "id": "xyfi32aWopXe"
      },
      "execution_count": null,
      "outputs": []
    },
    {
      "cell_type": "code",
      "source": [
        "def cross_entropy_loss(y_true, y_pred):\n",
        "    return -np.sum(y_true * np.log(y_pred + 1e-8)) / y_true.shape[0]  # Thêm 1e-8 để tránh log(0)"
      ],
      "metadata": {
        "id": "9kcNy6Xtoq-5"
      },
      "execution_count": null,
      "outputs": []
    },
    {
      "cell_type": "code",
      "source": [
        "def initialize_weights(input_size, hidden_size, output_size):\n",
        "    W1 = np.random.randn(input_size, hidden_size) * 0.01  # Trọng số lớp đầu vào -> lớp ẩn\n",
        "    b1 = np.zeros((1, hidden_size))  # Bias lớp ẩn\n",
        "    W2 = np.random.randn(hidden_size, output_size) * 0.01  # Trọng số lớp ẩn -> lớp đầu ra\n",
        "    b2 = np.zeros((1, output_size))  # Bias lớp đầu ra\n",
        "    return W1, b1, W2, b2"
      ],
      "metadata": {
        "id": "Iyud6B7EotFe"
      },
      "execution_count": null,
      "outputs": []
    },
    {
      "cell_type": "code",
      "source": [
        "def forward_propagation(X, W1, b1, W2, b2, activation):\n",
        "    Z1 = np.dot(X, W1) + b1  # Tính toán lớp ẩn\n",
        "    if activation == 'relu':\n",
        "        A1 = relu(Z1)\n",
        "    else:\n",
        "        A1 = sigmoid(Z1)\n",
        "    Z2 = np.dot(A1, W2) + b2  # Tính toán lớp đầu ra\n",
        "    A2 = softmax(Z2)  # Đầu ra xác suất\n",
        "    return Z1, A1, Z2, A2"
      ],
      "metadata": {
        "id": "2m49KhoRoujz"
      },
      "execution_count": null,
      "outputs": []
    },
    {
      "cell_type": "code",
      "source": [
        "def backward_propagation(X, y, Z1, A1, Z2, A2, W1, W2, activation):\n",
        "    m = X.shape[0]\n",
        "    dZ2 = A2 - y  # Gradient lớp đầu ra\n",
        "    dW2 = np.dot(A1.T, dZ2) / m\n",
        "    db2 = np.sum(dZ2, axis=0, keepdims=True) / m\n",
        "    if activation == 'relu':\n",
        "        dA1 = np.dot(dZ2, W2.T)\n",
        "        dZ1 = dA1 * (Z1 > 0)  # Đạo hàm ReLU\n",
        "    else:\n",
        "        dA1 = np.dot(dZ2, W2.T)\n",
        "        dZ1 = dA1 * A1 * (1 - A1)  # Đạo hàm Sigmoid\n",
        "    dW1 = np.dot(X.T, dZ1) / m\n",
        "    db1 = np.sum(dZ1, axis=0, keepdims=True) / m\n",
        "    return dW1, db1, dW2, db2"
      ],
      "metadata": {
        "id": "5q5AW3j8ov6l"
      },
      "execution_count": null,
      "outputs": []
    },
    {
      "cell_type": "code",
      "source": [
        "def update_weights(W1, b1, W2, b2, dW1, db1, dW2, db2, learning_rate):\n",
        "    W1 -= learning_rate * dW1\n",
        "    b1 -= learning_rate * db1\n",
        "    W2 -= learning_rate * dW2\n",
        "    b2 -= learning_rate * db2\n",
        "    return W1, b1, W2, b2"
      ],
      "metadata": {
        "id": "2Vb9v_n7oxc-"
      },
      "execution_count": null,
      "outputs": []
    },
    {
      "cell_type": "code",
      "source": [
        "def train_model(X_train, y_train, X_test, y_test, hidden_size, activation, batch_size, learning_rate, epochs):\n",
        "    input_size = X_train.shape[1]  # 784\n",
        "    output_size = y_train.shape[1]  # 10\n",
        "    W1, b1, W2, b2 = initialize_weights(input_size, hidden_size, output_size)\n",
        "\n",
        "    for epoch in range(epochs):\n",
        "        for i in range(0, X_train.shape[0], batch_size):\n",
        "            X_batch = X_train[i:i+batch_size]\n",
        "            y_batch = y_train[i:i+batch_size]\n",
        "            Z1, A1, Z2, A2 = forward_propagation(X_batch, W1, b1, W2, b2, activation)\n",
        "            dW1, db1, dW2, db2 = backward_propagation(X_batch, y_batch, Z1, A1, Z2, A2, W1, W2, activation)\n",
        "            W1, b1, W2, b2 = update_weights(W1, b1, W2, b2, dW1, db1, dW2, db2, learning_rate)\n",
        "\n",
        "        if epoch % 10 == 0:\n",
        "            _, _, _, A2_train = forward_propagation(X_train, W1, b1, W2, b2, activation)\n",
        "            train_loss = cross_entropy_loss(y_train, A2_train)\n",
        "            train_acc = np.mean(np.argmax(A2_train, axis=1) == np.argmax(y_train, axis=1))\n",
        "            print(f'Epoch {epoch}, Loss: {train_loss:.4f}, Accuracy: {train_acc:.4f}')\n",
        "\n",
        "    return W1, b1, W2, b2"
      ],
      "metadata": {
        "id": "5RegArhdoy2t"
      },
      "execution_count": null,
      "outputs": []
    },
    {
      "cell_type": "code",
      "source": [
        "def evaluate_model(X_test, y_test, W1, b1, W2, b2, activation):\n",
        "    _, _, _, A2_test = forward_propagation(X_test, W1, b1, W2, b2, activation)\n",
        "    test_acc = np.mean(np.argmax(A2_test, axis=1) == np.argmax(y_test, axis=1))\n",
        "    return test_acc"
      ],
      "metadata": {
        "id": "8fDa5S7Co2OR"
      },
      "execution_count": null,
      "outputs": []
    },
    {
      "cell_type": "code",
      "source": [
        "# Danh sách các bộ siêu tham số\n",
        "hyperparameters = [\n",
        "    (32, 0.1, 16, 'relu'),\n",
        "    (16, 0.01, 64, 'sigmoid'),\n",
        "    (64, 0.05, 32, 'relu'),\n",
        "    (32, 0.001, 128, 'sigmoid'),\n",
        "    (128, 0.1, 64, 'relu')\n",
        "]\n",
        "\n",
        "# Thử nghiệm\n",
        "for hp in hyperparameters:\n",
        "    batch_size, learning_rate, hidden_size, activation = hp\n",
        "    accuracies = []\n",
        "    print(f\"\\nThử nghiệm với siêu tham số: {hp}\")\n",
        "\n",
        "    for trial in range(5):\n",
        "        print(f\"Lần chạy {trial+1}/5\")\n",
        "        W1, b1, W2, b2 = train_model(x_train, y_train, x_test, y_test, hidden_size, activation,\n",
        "                                    batch_size, learning_rate, epochs=50)\n",
        "        acc = evaluate_model(x_test, y_test, W1, b1, W2, b2, activation)\n",
        "        accuracies.append(acc)\n",
        "        print(f\"Độ chính xác: {acc:.4f}\")\n",
        "\n",
        "    mean_acc = np.mean(accuracies)\n",
        "    std_acc = np.std(accuracies)\n",
        "    print(f\"Kết quả: Trung bình = {mean_acc:.4f}, Độ lệch chuẩn = {std_acc:.4f}\")"
      ],
      "metadata": {
        "colab": {
          "base_uri": "https://localhost:8080/"
        },
        "id": "TFwE-mS9o5MJ",
        "outputId": "4e1ee9c4-6944-46b6-8a5b-e5a6e95643e8"
      },
      "execution_count": null,
      "outputs": [
        {
          "output_type": "stream",
          "name": "stdout",
          "text": [
            "\n",
            "Thử nghiệm với siêu tham số: (32, 0.1, 16, 'relu')\n",
            "Lần chạy 1/5\n",
            "Epoch 0, Loss: 0.2795, Accuracy: 0.9163\n",
            "Epoch 10, Loss: 0.1381, Accuracy: 0.9582\n",
            "Epoch 20, Loss: 0.1183, Accuracy: 0.9638\n",
            "Epoch 30, Loss: 0.1101, Accuracy: 0.9663\n",
            "Epoch 40, Loss: 0.1051, Accuracy: 0.9672\n",
            "Độ chính xác: 0.9481\n",
            "Lần chạy 2/5\n",
            "Epoch 0, Loss: 0.2899, Accuracy: 0.9120\n",
            "Epoch 10, Loss: 0.1420, Accuracy: 0.9558\n",
            "Epoch 20, Loss: 0.1230, Accuracy: 0.9615\n",
            "Epoch 30, Loss: 0.1177, Accuracy: 0.9632\n",
            "Epoch 40, Loss: 0.1131, Accuracy: 0.9640\n",
            "Độ chính xác: 0.9432\n",
            "Lần chạy 3/5\n",
            "Epoch 0, Loss: 0.2800, Accuracy: 0.9155\n",
            "Epoch 10, Loss: 0.1410, Accuracy: 0.9575\n",
            "Epoch 20, Loss: 0.1197, Accuracy: 0.9626\n",
            "Epoch 30, Loss: 0.1109, Accuracy: 0.9656\n",
            "Epoch 40, Loss: 0.1054, Accuracy: 0.9666\n",
            "Độ chính xác: 0.9523\n",
            "Lần chạy 4/5\n",
            "Epoch 0, Loss: 0.2734, Accuracy: 0.9185\n",
            "Epoch 10, Loss: 0.1445, Accuracy: 0.9548\n",
            "Epoch 20, Loss: 0.1329, Accuracy: 0.9588\n",
            "Epoch 30, Loss: 0.1237, Accuracy: 0.9615\n",
            "Epoch 40, Loss: 0.1162, Accuracy: 0.9641\n",
            "Độ chính xác: 0.9481\n",
            "Lần chạy 5/5\n",
            "Epoch 0, Loss: 0.2853, Accuracy: 0.9118\n",
            "Epoch 10, Loss: 0.1406, Accuracy: 0.9570\n",
            "Epoch 20, Loss: 0.1190, Accuracy: 0.9632\n",
            "Epoch 30, Loss: 0.1082, Accuracy: 0.9659\n",
            "Epoch 40, Loss: 0.0984, Accuracy: 0.9688\n",
            "Độ chính xác: 0.9511\n",
            "Kết quả: Trung bình = 0.9486, Độ lệch chuẩn = 0.0031\n",
            "\n",
            "Thử nghiệm với siêu tham số: (16, 0.01, 64, 'sigmoid')\n",
            "Lần chạy 1/5\n",
            "Epoch 0, Loss: 1.3063, Accuracy: 0.6410\n",
            "Epoch 10, Loss: 0.2694, Accuracy: 0.9233\n",
            "Epoch 20, Loss: 0.2050, Accuracy: 0.9422\n",
            "Epoch 30, Loss: 0.1681, Accuracy: 0.9523\n",
            "Epoch 40, Loss: 0.1435, Accuracy: 0.9591\n",
            "Độ chính xác: 0.9579\n",
            "Lần chạy 2/5\n",
            "Epoch 0, Loss: 1.3380, Accuracy: 0.6260\n",
            "Epoch 10, Loss: 0.2676, Accuracy: 0.9227\n",
            "Epoch 20, Loss: 0.2011, Accuracy: 0.9429\n",
            "Epoch 30, Loss: 0.1626, Accuracy: 0.9532\n",
            "Epoch 40, Loss: 0.1375, Accuracy: 0.9606\n",
            "Độ chính xác: 0.9615\n",
            "Lần chạy 3/5\n",
            "Epoch 0, Loss: 1.3041, Accuracy: 0.6546\n",
            "Epoch 10, Loss: 0.2683, Accuracy: 0.9234\n",
            "Epoch 20, Loss: 0.2061, Accuracy: 0.9402\n",
            "Epoch 30, Loss: 0.1686, Accuracy: 0.9515\n",
            "Epoch 40, Loss: 0.1425, Accuracy: 0.9590\n",
            "Độ chính xác: 0.9608\n",
            "Lần chạy 4/5\n",
            "Epoch 0, Loss: 1.3341, Accuracy: 0.6399\n",
            "Epoch 10, Loss: 0.2688, Accuracy: 0.9229\n",
            "Epoch 20, Loss: 0.2054, Accuracy: 0.9408\n",
            "Epoch 30, Loss: 0.1666, Accuracy: 0.9520\n",
            "Epoch 40, Loss: 0.1405, Accuracy: 0.9599\n",
            "Độ chính xác: 0.9616\n",
            "Lần chạy 5/5\n",
            "Epoch 0, Loss: 1.2906, Accuracy: 0.6520\n",
            "Epoch 10, Loss: 0.2675, Accuracy: 0.9226\n",
            "Epoch 20, Loss: 0.2034, Accuracy: 0.9417\n",
            "Epoch 30, Loss: 0.1665, Accuracy: 0.9525\n",
            "Epoch 40, Loss: 0.1415, Accuracy: 0.9598\n",
            "Độ chính xác: 0.9590\n",
            "Kết quả: Trung bình = 0.9602, Độ lệch chuẩn = 0.0015\n",
            "\n",
            "Thử nghiệm với siêu tham số: (64, 0.05, 32, 'relu')\n",
            "Lần chạy 1/5\n",
            "Epoch 0, Loss: 0.3808, Accuracy: 0.8875\n",
            "Epoch 10, Loss: 0.1357, Accuracy: 0.9614\n",
            "Epoch 20, Loss: 0.0931, Accuracy: 0.9732\n",
            "Epoch 30, Loss: 0.0718, Accuracy: 0.9788\n",
            "Epoch 40, Loss: 0.0577, Accuracy: 0.9832\n",
            "Độ chính xác: 0.9700\n",
            "Lần chạy 2/5\n",
            "Epoch 0, Loss: 0.3819, Accuracy: 0.8880\n",
            "Epoch 10, Loss: 0.1361, Accuracy: 0.9601\n",
            "Epoch 20, Loss: 0.0920, Accuracy: 0.9725\n",
            "Epoch 30, Loss: 0.0741, Accuracy: 0.9772\n",
            "Epoch 40, Loss: 0.0612, Accuracy: 0.9809\n",
            "Độ chính xác: 0.9681\n",
            "Lần chạy 3/5\n",
            "Epoch 0, Loss: 0.3888, Accuracy: 0.8854\n",
            "Epoch 10, Loss: 0.1430, Accuracy: 0.9591\n",
            "Epoch 20, Loss: 0.0937, Accuracy: 0.9726\n",
            "Epoch 30, Loss: 0.0706, Accuracy: 0.9794\n",
            "Epoch 40, Loss: 0.0565, Accuracy: 0.9838\n",
            "Độ chính xác: 0.9675\n",
            "Lần chạy 4/5\n",
            "Epoch 0, Loss: 0.3799, Accuracy: 0.8877\n",
            "Epoch 10, Loss: 0.1335, Accuracy: 0.9616\n",
            "Epoch 20, Loss: 0.0901, Accuracy: 0.9741\n",
            "Epoch 30, Loss: 0.0703, Accuracy: 0.9798\n",
            "Epoch 40, Loss: 0.0580, Accuracy: 0.9832\n",
            "Độ chính xác: 0.9690\n",
            "Lần chạy 5/5\n",
            "Epoch 0, Loss: 0.3781, Accuracy: 0.8894\n",
            "Epoch 10, Loss: 0.1357, Accuracy: 0.9612\n",
            "Epoch 20, Loss: 0.0910, Accuracy: 0.9740\n",
            "Epoch 30, Loss: 0.0689, Accuracy: 0.9803\n",
            "Epoch 40, Loss: 0.0564, Accuracy: 0.9837\n",
            "Độ chính xác: 0.9710\n",
            "Kết quả: Trung bình = 0.9691, Độ lệch chuẩn = 0.0013\n",
            "\n",
            "Thử nghiệm với siêu tham số: (32, 0.001, 128, 'sigmoid')\n",
            "Lần chạy 1/5\n",
            "Epoch 0, Loss: 2.2982, Accuracy: 0.1340\n",
            "Epoch 10, Loss: 1.9882, Accuracy: 0.5078\n",
            "Epoch 20, Loss: 1.0682, Accuracy: 0.7370\n",
            "Epoch 30, Loss: 0.7214, Accuracy: 0.8219\n",
            "Epoch 40, Loss: 0.5690, Accuracy: 0.8561\n",
            "Độ chính xác: 0.8758\n",
            "Lần chạy 2/5\n",
            "Epoch 0, Loss: 2.2981, Accuracy: 0.1164\n",
            "Epoch 10, Loss: 1.9569, Accuracy: 0.5029\n",
            "Epoch 20, Loss: 1.0667, Accuracy: 0.7411\n",
            "Epoch 30, Loss: 0.7192, Accuracy: 0.8216\n",
            "Epoch 40, Loss: 0.5689, Accuracy: 0.8538\n",
            "Độ chính xác: 0.8751\n",
            "Lần chạy 3/5\n",
            "Epoch 0, Loss: 2.2988, Accuracy: 0.1689\n",
            "Epoch 10, Loss: 1.9893, Accuracy: 0.4969\n",
            "Epoch 20, Loss: 1.0695, Accuracy: 0.7357\n",
            "Epoch 30, Loss: 0.7190, Accuracy: 0.8225\n",
            "Epoch 40, Loss: 0.5687, Accuracy: 0.8542\n",
            "Độ chính xác: 0.8746\n",
            "Lần chạy 4/5\n",
            "Epoch 0, Loss: 2.2979, Accuracy: 0.1145\n",
            "Epoch 10, Loss: 1.9695, Accuracy: 0.4730\n",
            "Epoch 20, Loss: 1.0736, Accuracy: 0.7377\n",
            "Epoch 30, Loss: 0.7255, Accuracy: 0.8213\n",
            "Epoch 40, Loss: 0.5746, Accuracy: 0.8534\n",
            "Độ chính xác: 0.8744\n",
            "Lần chạy 5/5\n",
            "Epoch 0, Loss: 2.2982, Accuracy: 0.1389\n",
            "Epoch 10, Loss: 1.9777, Accuracy: 0.4762\n",
            "Epoch 20, Loss: 1.0837, Accuracy: 0.7323\n",
            "Epoch 30, Loss: 0.7298, Accuracy: 0.8214\n",
            "Epoch 40, Loss: 0.5743, Accuracy: 0.8551\n",
            "Độ chính xác: 0.8765\n",
            "Kết quả: Trung bình = 0.8753, Độ lệch chuẩn = 0.0008\n",
            "\n",
            "Thử nghiệm với siêu tham số: (128, 0.1, 64, 'relu')\n",
            "Lần chạy 1/5\n",
            "Epoch 0, Loss: 0.3745, Accuracy: 0.8885\n",
            "Epoch 10, Loss: 0.1126, Accuracy: 0.9674\n",
            "Epoch 20, Loss: 0.0664, Accuracy: 0.9802\n",
            "Epoch 30, Loss: 0.0460, Accuracy: 0.9873\n",
            "Epoch 40, Loss: 0.0343, Accuracy: 0.9908\n",
            "Độ chính xác: 0.9761\n",
            "Lần chạy 2/5\n",
            "Epoch 0, Loss: 0.3708, Accuracy: 0.8893\n",
            "Epoch 10, Loss: 0.1108, Accuracy: 0.9693\n",
            "Epoch 20, Loss: 0.0658, Accuracy: 0.9816\n",
            "Epoch 30, Loss: 0.0461, Accuracy: 0.9876\n",
            "Epoch 40, Loss: 0.0346, Accuracy: 0.9909\n",
            "Độ chính xác: 0.9765\n",
            "Lần chạy 3/5\n",
            "Epoch 0, Loss: 0.3708, Accuracy: 0.8901\n",
            "Epoch 10, Loss: 0.1147, Accuracy: 0.9675\n",
            "Epoch 20, Loss: 0.0678, Accuracy: 0.9812\n",
            "Epoch 30, Loss: 0.0462, Accuracy: 0.9876\n",
            "Epoch 40, Loss: 0.0335, Accuracy: 0.9916\n",
            "Độ chính xác: 0.9741\n",
            "Lần chạy 4/5\n",
            "Epoch 0, Loss: 0.3750, Accuracy: 0.8882\n",
            "Epoch 10, Loss: 0.1146, Accuracy: 0.9678\n",
            "Epoch 20, Loss: 0.0693, Accuracy: 0.9803\n",
            "Epoch 30, Loss: 0.0483, Accuracy: 0.9864\n",
            "Epoch 40, Loss: 0.0358, Accuracy: 0.9907\n",
            "Độ chính xác: 0.9742\n",
            "Lần chạy 5/5\n",
            "Epoch 0, Loss: 0.3720, Accuracy: 0.8891\n",
            "Epoch 10, Loss: 0.1145, Accuracy: 0.9670\n",
            "Epoch 20, Loss: 0.0683, Accuracy: 0.9808\n",
            "Epoch 30, Loss: 0.0468, Accuracy: 0.9873\n",
            "Epoch 40, Loss: 0.0343, Accuracy: 0.9911\n",
            "Độ chính xác: 0.9751\n",
            "Kết quả: Trung bình = 0.9752, Độ lệch chuẩn = 0.0010\n"
          ]
        }
      ]
    }
  ]
}