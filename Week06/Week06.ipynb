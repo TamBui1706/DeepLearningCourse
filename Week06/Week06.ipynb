{
  "cells": [
    {
      "cell_type": "markdown",
      "metadata": {
        "id": "view-in-github",
        "colab_type": "text"
      },
      "source": [
        "<a href=\"https://colab.research.google.com/github/TamBui1706/DeepLearningCourse/blob/main/Week06/Week06.ipynb\" target=\"_parent\"><img src=\"https://colab.research.google.com/assets/colab-badge.svg\" alt=\"Open In Colab\"/></a>"
      ]
    },
    {
      "cell_type": "markdown",
      "id": "9744973b",
      "metadata": {
        "id": "9744973b"
      },
      "source": [
        "# 1. Setup and Installation"
      ]
    },
    {
      "cell_type": "code",
      "execution_count": null,
      "id": "y7ayzofzBxkA",
      "metadata": {
        "colab": {
          "base_uri": "https://localhost:8080/"
        },
        "id": "y7ayzofzBxkA",
        "outputId": "3cf11c88-9f76-4d62-a6be-da2478452f3f"
      },
      "outputs": [
        {
          "name": "stdout",
          "output_type": "stream",
          "text": [
            "Requirement already satisfied: gradio in /usr/local/lib/python3.11/dist-packages (5.30.0)\n",
            "Requirement already satisfied: aiofiles<25.0,>=22.0 in /usr/local/lib/python3.11/dist-packages (from gradio) (24.1.0)\n",
            "Requirement already satisfied: anyio<5.0,>=3.0 in /usr/local/lib/python3.11/dist-packages (from gradio) (4.9.0)\n",
            "Requirement already satisfied: fastapi<1.0,>=0.115.2 in /usr/local/lib/python3.11/dist-packages (from gradio) (0.115.12)\n",
            "Requirement already satisfied: ffmpy in /usr/local/lib/python3.11/dist-packages (from gradio) (0.5.0)\n",
            "Requirement already satisfied: gradio-client==1.10.1 in /usr/local/lib/python3.11/dist-packages (from gradio) (1.10.1)\n",
            "Requirement already satisfied: groovy~=0.1 in /usr/local/lib/python3.11/dist-packages (from gradio) (0.1.2)\n",
            "Requirement already satisfied: httpx>=0.24.1 in /usr/local/lib/python3.11/dist-packages (from gradio) (0.28.1)\n",
            "Requirement already satisfied: huggingface-hub>=0.28.1 in /usr/local/lib/python3.11/dist-packages (from gradio) (0.31.4)\n",
            "Requirement already satisfied: jinja2<4.0 in /usr/local/lib/python3.11/dist-packages (from gradio) (3.1.6)\n",
            "Requirement already satisfied: markupsafe<4.0,>=2.0 in /usr/local/lib/python3.11/dist-packages (from gradio) (3.0.2)\n",
            "Requirement already satisfied: numpy<3.0,>=1.0 in /usr/local/lib/python3.11/dist-packages (from gradio) (2.0.2)\n",
            "Requirement already satisfied: orjson~=3.0 in /usr/local/lib/python3.11/dist-packages (from gradio) (3.10.18)\n",
            "Requirement already satisfied: packaging in /usr/local/lib/python3.11/dist-packages (from gradio) (24.2)\n",
            "Requirement already satisfied: pandas<3.0,>=1.0 in /usr/local/lib/python3.11/dist-packages (from gradio) (2.2.2)\n",
            "Requirement already satisfied: pillow<12.0,>=8.0 in /usr/local/lib/python3.11/dist-packages (from gradio) (11.2.1)\n",
            "Requirement already satisfied: pydantic<2.12,>=2.0 in /usr/local/lib/python3.11/dist-packages (from gradio) (2.11.4)\n",
            "Requirement already satisfied: pydub in /usr/local/lib/python3.11/dist-packages (from gradio) (0.25.1)\n",
            "Requirement already satisfied: python-multipart>=0.0.18 in /usr/local/lib/python3.11/dist-packages (from gradio) (0.0.20)\n",
            "Requirement already satisfied: pyyaml<7.0,>=5.0 in /usr/local/lib/python3.11/dist-packages (from gradio) (6.0.2)\n",
            "Requirement already satisfied: ruff>=0.9.3 in /usr/local/lib/python3.11/dist-packages (from gradio) (0.11.10)\n",
            "Requirement already satisfied: safehttpx<0.2.0,>=0.1.6 in /usr/local/lib/python3.11/dist-packages (from gradio) (0.1.6)\n",
            "Requirement already satisfied: semantic-version~=2.0 in /usr/local/lib/python3.11/dist-packages (from gradio) (2.10.0)\n",
            "Requirement already satisfied: starlette<1.0,>=0.40.0 in /usr/local/lib/python3.11/dist-packages (from gradio) (0.46.2)\n",
            "Requirement already satisfied: tomlkit<0.14.0,>=0.12.0 in /usr/local/lib/python3.11/dist-packages (from gradio) (0.13.2)\n",
            "Requirement already satisfied: typer<1.0,>=0.12 in /usr/local/lib/python3.11/dist-packages (from gradio) (0.15.3)\n",
            "Requirement already satisfied: typing-extensions~=4.0 in /usr/local/lib/python3.11/dist-packages (from gradio) (4.13.2)\n",
            "Requirement already satisfied: uvicorn>=0.14.0 in /usr/local/lib/python3.11/dist-packages (from gradio) (0.34.2)\n",
            "Requirement already satisfied: fsspec in /usr/local/lib/python3.11/dist-packages (from gradio-client==1.10.1->gradio) (2025.3.0)\n",
            "Requirement already satisfied: websockets<16.0,>=10.0 in /usr/local/lib/python3.11/dist-packages (from gradio-client==1.10.1->gradio) (15.0.1)\n",
            "Requirement already satisfied: idna>=2.8 in /usr/local/lib/python3.11/dist-packages (from anyio<5.0,>=3.0->gradio) (3.10)\n",
            "Requirement already satisfied: sniffio>=1.1 in /usr/local/lib/python3.11/dist-packages (from anyio<5.0,>=3.0->gradio) (1.3.1)\n",
            "Requirement already satisfied: certifi in /usr/local/lib/python3.11/dist-packages (from httpx>=0.24.1->gradio) (2025.4.26)\n",
            "Requirement already satisfied: httpcore==1.* in /usr/local/lib/python3.11/dist-packages (from httpx>=0.24.1->gradio) (1.0.9)\n",
            "Requirement already satisfied: h11>=0.16 in /usr/local/lib/python3.11/dist-packages (from httpcore==1.*->httpx>=0.24.1->gradio) (0.16.0)\n",
            "Requirement already satisfied: filelock in /usr/local/lib/python3.11/dist-packages (from huggingface-hub>=0.28.1->gradio) (3.18.0)\n",
            "Requirement already satisfied: requests in /usr/local/lib/python3.11/dist-packages (from huggingface-hub>=0.28.1->gradio) (2.32.3)\n",
            "Requirement already satisfied: tqdm>=4.42.1 in /usr/local/lib/python3.11/dist-packages (from huggingface-hub>=0.28.1->gradio) (4.67.1)\n",
            "Requirement already satisfied: python-dateutil>=2.8.2 in /usr/local/lib/python3.11/dist-packages (from pandas<3.0,>=1.0->gradio) (2.9.0.post0)\n",
            "Requirement already satisfied: pytz>=2020.1 in /usr/local/lib/python3.11/dist-packages (from pandas<3.0,>=1.0->gradio) (2025.2)\n",
            "Requirement already satisfied: tzdata>=2022.7 in /usr/local/lib/python3.11/dist-packages (from pandas<3.0,>=1.0->gradio) (2025.2)\n",
            "Requirement already satisfied: annotated-types>=0.6.0 in /usr/local/lib/python3.11/dist-packages (from pydantic<2.12,>=2.0->gradio) (0.7.0)\n",
            "Requirement already satisfied: pydantic-core==2.33.2 in /usr/local/lib/python3.11/dist-packages (from pydantic<2.12,>=2.0->gradio) (2.33.2)\n",
            "Requirement already satisfied: typing-inspection>=0.4.0 in /usr/local/lib/python3.11/dist-packages (from pydantic<2.12,>=2.0->gradio) (0.4.0)\n",
            "Requirement already satisfied: click>=8.0.0 in /usr/local/lib/python3.11/dist-packages (from typer<1.0,>=0.12->gradio) (8.2.0)\n",
            "Requirement already satisfied: shellingham>=1.3.0 in /usr/local/lib/python3.11/dist-packages (from typer<1.0,>=0.12->gradio) (1.5.4)\n",
            "Requirement already satisfied: rich>=10.11.0 in /usr/local/lib/python3.11/dist-packages (from typer<1.0,>=0.12->gradio) (13.9.4)\n",
            "Requirement already satisfied: six>=1.5 in /usr/local/lib/python3.11/dist-packages (from python-dateutil>=2.8.2->pandas<3.0,>=1.0->gradio) (1.17.0)\n",
            "Requirement already satisfied: markdown-it-py>=2.2.0 in /usr/local/lib/python3.11/dist-packages (from rich>=10.11.0->typer<1.0,>=0.12->gradio) (3.0.0)\n",
            "Requirement already satisfied: pygments<3.0.0,>=2.13.0 in /usr/local/lib/python3.11/dist-packages (from rich>=10.11.0->typer<1.0,>=0.12->gradio) (2.19.1)\n",
            "Requirement already satisfied: charset-normalizer<4,>=2 in /usr/local/lib/python3.11/dist-packages (from requests->huggingface-hub>=0.28.1->gradio) (3.4.2)\n",
            "Requirement already satisfied: urllib3<3,>=1.21.1 in /usr/local/lib/python3.11/dist-packages (from requests->huggingface-hub>=0.28.1->gradio) (2.4.0)\n",
            "Requirement already satisfied: mdurl~=0.1 in /usr/local/lib/python3.11/dist-packages (from markdown-it-py>=2.2.0->rich>=10.11.0->typer<1.0,>=0.12->gradio) (0.1.2)\n",
            "Requirement already satisfied: datasets in /usr/local/lib/python3.11/dist-packages (3.6.0)\n",
            "Requirement already satisfied: fsspec in /usr/local/lib/python3.11/dist-packages (2025.3.0)\n",
            "Collecting fsspec\n",
            "  Using cached fsspec-2025.5.0-py3-none-any.whl.metadata (11 kB)\n",
            "Requirement already satisfied: huggingface-hub in /usr/local/lib/python3.11/dist-packages (0.31.4)\n",
            "Requirement already satisfied: filelock in /usr/local/lib/python3.11/dist-packages (from datasets) (3.18.0)\n",
            "Requirement already satisfied: numpy>=1.17 in /usr/local/lib/python3.11/dist-packages (from datasets) (2.0.2)\n",
            "Requirement already satisfied: pyarrow>=15.0.0 in /usr/local/lib/python3.11/dist-packages (from datasets) (18.1.0)\n",
            "Requirement already satisfied: dill<0.3.9,>=0.3.0 in /usr/local/lib/python3.11/dist-packages (from datasets) (0.3.7)\n",
            "Requirement already satisfied: pandas in /usr/local/lib/python3.11/dist-packages (from datasets) (2.2.2)\n",
            "Requirement already satisfied: requests>=2.32.2 in /usr/local/lib/python3.11/dist-packages (from datasets) (2.32.3)\n",
            "Requirement already satisfied: tqdm>=4.66.3 in /usr/local/lib/python3.11/dist-packages (from datasets) (4.67.1)\n",
            "Requirement already satisfied: xxhash in /usr/local/lib/python3.11/dist-packages (from datasets) (3.5.0)\n",
            "Requirement already satisfied: multiprocess<0.70.17 in /usr/local/lib/python3.11/dist-packages (from datasets) (0.70.15)\n",
            "Requirement already satisfied: packaging in /usr/local/lib/python3.11/dist-packages (from datasets) (24.2)\n",
            "Requirement already satisfied: pyyaml>=5.1 in /usr/local/lib/python3.11/dist-packages (from datasets) (6.0.2)\n",
            "Requirement already satisfied: typing-extensions>=3.7.4.3 in /usr/local/lib/python3.11/dist-packages (from huggingface-hub) (4.13.2)\n",
            "Requirement already satisfied: aiohttp!=4.0.0a0,!=4.0.0a1 in /usr/local/lib/python3.11/dist-packages (from fsspec[http]<=2025.3.0,>=2023.1.0->datasets) (3.11.15)\n",
            "Requirement already satisfied: charset-normalizer<4,>=2 in /usr/local/lib/python3.11/dist-packages (from requests>=2.32.2->datasets) (3.4.2)\n",
            "Requirement already satisfied: idna<4,>=2.5 in /usr/local/lib/python3.11/dist-packages (from requests>=2.32.2->datasets) (3.10)\n",
            "Requirement already satisfied: urllib3<3,>=1.21.1 in /usr/local/lib/python3.11/dist-packages (from requests>=2.32.2->datasets) (2.4.0)\n",
            "Requirement already satisfied: certifi>=2017.4.17 in /usr/local/lib/python3.11/dist-packages (from requests>=2.32.2->datasets) (2025.4.26)\n",
            "Requirement already satisfied: python-dateutil>=2.8.2 in /usr/local/lib/python3.11/dist-packages (from pandas->datasets) (2.9.0.post0)\n",
            "Requirement already satisfied: pytz>=2020.1 in /usr/local/lib/python3.11/dist-packages (from pandas->datasets) (2025.2)\n",
            "Requirement already satisfied: tzdata>=2022.7 in /usr/local/lib/python3.11/dist-packages (from pandas->datasets) (2025.2)\n",
            "Requirement already satisfied: aiohappyeyeballs>=2.3.0 in /usr/local/lib/python3.11/dist-packages (from aiohttp!=4.0.0a0,!=4.0.0a1->fsspec[http]<=2025.3.0,>=2023.1.0->datasets) (2.6.1)\n",
            "Requirement already satisfied: aiosignal>=1.1.2 in /usr/local/lib/python3.11/dist-packages (from aiohttp!=4.0.0a0,!=4.0.0a1->fsspec[http]<=2025.3.0,>=2023.1.0->datasets) (1.3.2)\n",
            "Requirement already satisfied: attrs>=17.3.0 in /usr/local/lib/python3.11/dist-packages (from aiohttp!=4.0.0a0,!=4.0.0a1->fsspec[http]<=2025.3.0,>=2023.1.0->datasets) (25.3.0)\n",
            "Requirement already satisfied: frozenlist>=1.1.1 in /usr/local/lib/python3.11/dist-packages (from aiohttp!=4.0.0a0,!=4.0.0a1->fsspec[http]<=2025.3.0,>=2023.1.0->datasets) (1.6.0)\n",
            "Requirement already satisfied: multidict<7.0,>=4.5 in /usr/local/lib/python3.11/dist-packages (from aiohttp!=4.0.0a0,!=4.0.0a1->fsspec[http]<=2025.3.0,>=2023.1.0->datasets) (6.4.3)\n",
            "Requirement already satisfied: propcache>=0.2.0 in /usr/local/lib/python3.11/dist-packages (from aiohttp!=4.0.0a0,!=4.0.0a1->fsspec[http]<=2025.3.0,>=2023.1.0->datasets) (0.3.1)\n",
            "Requirement already satisfied: yarl<2.0,>=1.17.0 in /usr/local/lib/python3.11/dist-packages (from aiohttp!=4.0.0a0,!=4.0.0a1->fsspec[http]<=2025.3.0,>=2023.1.0->datasets) (1.20.0)\n",
            "Requirement already satisfied: six>=1.5 in /usr/local/lib/python3.11/dist-packages (from python-dateutil>=2.8.2->pandas->datasets) (1.17.0)\n",
            "Using device: cpu\n"
          ]
        },
        {
          "name": "stderr",
          "output_type": "stream",
          "text": [
            "[nltk_data] Downloading package punkt to /root/nltk_data...\n",
            "[nltk_data]   Package punkt is already up-to-date!\n",
            "[nltk_data] Downloading package punkt_tab to /root/nltk_data...\n",
            "[nltk_data]   Package punkt_tab is already up-to-date!\n"
          ]
        }
      ],
      "source": [
        "!pip install gradio\n",
        "!pip install --upgrade datasets fsspec huggingface-hub\n",
        "# Import necessary libraries\n",
        "import os\n",
        "import time\n",
        "import math\n",
        "import random\n",
        "import numpy as np\n",
        "import pandas as pd\n",
        "import matplotlib.pyplot as plt\n",
        "import torch\n",
        "import torch.nn as nn\n",
        "import torch.nn.functional as F\n",
        "import torch.optim as optim\n",
        "from torch.utils.data import Dataset, DataLoader, random_split\n",
        "from torch.nn.utils.rnn import pad_sequence\n",
        "from torch.utils.tensorboard import SummaryWriter\n",
        "\n",
        "from datasets import load_dataset\n",
        "import nltk\n",
        "from nltk.translate.bleu_score import corpus_bleu, sentence_bleu, SmoothingFunction\n",
        "from tqdm.notebook import tqdm\n",
        "import gradio as gr\n",
        "\n",
        "# Download NLTK resources\n",
        "nltk.download('punkt')\n",
        "# Download the required punkt_tab resource for word tokenization\n",
        "nltk.download('punkt_tab')\n",
        "\n",
        "# Set random seeds for reproducibility\n",
        "SEED = 42\n",
        "random.seed(SEED)\n",
        "np.random.seed(SEED)\n",
        "torch.manual_seed(SEED)\n",
        "torch.cuda.manual_seed(SEED)\n",
        "torch.backends.cudnn.deterministic = True\n",
        "\n",
        "# Check GPU availability\n",
        "device = torch.device('cuda' if torch.cuda.is_available() else 'cpu')\n",
        "print(f\"Using device: {device}\")"
      ]
    },
    {
      "cell_type": "markdown",
      "id": "a2b69b8d",
      "metadata": {
        "id": "a2b69b8d"
      },
      "source": [
        "# 2. Data Loading and Preproce"
      ]
    },
    {
      "cell_type": "code",
      "execution_count": null,
      "id": "L7w9cpvOBzpE",
      "metadata": {
        "colab": {
          "base_uri": "https://localhost:8080/"
        },
        "id": "L7w9cpvOBzpE",
        "outputId": "8b283e1f-6164-4b33-d9bb-d11f5c4ed9cf"
      },
      "outputs": [
        {
          "name": "stdout",
          "output_type": "stream",
          "text": [
            "Dataset structure: DatasetDict({\n",
            "    test: Dataset({\n",
            "        features: ['translation'],\n",
            "        num_rows: 2000\n",
            "    })\n",
            "    train: Dataset({\n",
            "        features: ['translation'],\n",
            "        num_rows: 1000000\n",
            "    })\n",
            "    validation: Dataset({\n",
            "        features: ['translation'],\n",
            "        num_rows: 2000\n",
            "    })\n",
            "})\n",
            "Train size: 10000\n",
            "Validation size: 100\n",
            "Test size: 100\n",
            "English vocabulary size: 7375\n",
            "Vietnamese vocabulary size: 5386\n",
            "Example data point:\n",
            "English text: What is it?\n",
            "Vietnamese text: Cái gì đó?\n",
            "English tokens (first 10): tensor([22, 21, 14,  8])\n",
            "Vietnamese input tokens (first 10): tensor([ 1, 53, 16, 19,  6])\n"
          ]
        }
      ],
      "source": [
        "# Load the Opus100 English-Vietnamese dataset\n",
        "dataset = load_dataset(\"opus100\", \"en-vi\")\n",
        "print(f\"Dataset structure: {dataset}\")\n",
        "\n",
        "# Function to preprocess and tokenize the data\n",
        "def build_tokenizers(train_data, max_vocab_size=10000):\n",
        "    # Build English vocabulary\n",
        "    en_word_freq = {}\n",
        "    for example in train_data:\n",
        "        for word in nltk.word_tokenize(example['translation']['en'].lower()):\n",
        "            if word in en_word_freq:\n",
        "                en_word_freq[word] += 1\n",
        "            else:\n",
        "                en_word_freq[word] = 1\n",
        "\n",
        "    # Build Vietnamese vocabulary\n",
        "    vi_word_freq = {}\n",
        "    for example in train_data:\n",
        "        for word in nltk.word_tokenize(example['translation']['vi'].lower()):\n",
        "            if word in vi_word_freq:\n",
        "                vi_word_freq[word] += 1\n",
        "            else:\n",
        "                vi_word_freq[word] = 1\n",
        "\n",
        "    # Sort by frequency\n",
        "    en_word_freq = sorted(en_word_freq.items(), key=lambda x: x[1], reverse=True)\n",
        "    vi_word_freq = sorted(vi_word_freq.items(), key=lambda x: x[1], reverse=True)\n",
        "\n",
        "    # Create vocabulary with special tokens\n",
        "    en_vocab = {'<pad>': 0, '<sos>': 1, '<eos>': 2, '<unk>': 3}\n",
        "    vi_vocab = {'<pad>': 0, '<sos>': 1, '<eos>': 2, '<unk>': 3}\n",
        "\n",
        "    # Add most frequent words to vocabulary (up to max_vocab_size)\n",
        "    for word, _ in en_word_freq[:max_vocab_size-4]:\n",
        "        en_vocab[word] = len(en_vocab)\n",
        "\n",
        "    for word, _ in vi_word_freq[:max_vocab_size-4]:\n",
        "        vi_vocab[word] = len(vi_vocab)\n",
        "\n",
        "    # Create reverse vocabulary (index to word)\n",
        "    en_idx2word = {v: k for k, v in en_vocab.items()}\n",
        "    vi_idx2word = {v: k for k, v in vi_vocab.items()}\n",
        "\n",
        "    return en_vocab, vi_vocab, en_idx2word, vi_idx2word\n",
        "\n",
        "# Function to tokenize a sentence\n",
        "def tokenize_sentence(sentence, vocab):\n",
        "    tokens = []\n",
        "    for word in nltk.word_tokenize(sentence.lower()):\n",
        "        if word in vocab:\n",
        "            tokens.append(vocab[word])\n",
        "        else:\n",
        "            tokens.append(vocab['<unk>'])\n",
        "    return tokens\n",
        "\n",
        "# Extract a subset of the dataset for training\n",
        "train_data = dataset['train'].select(range(10000))\n",
        "val_data = dataset['validation'].select(range(100))\n",
        "test_data = dataset['test'].select(range(100))\n",
        "\n",
        "print(f\"Train size: {len(train_data)}\")\n",
        "print(f\"Validation size: {len(val_data)}\")\n",
        "print(f\"Test size: {len(test_data)}\")\n",
        "\n",
        "# Build vocabulary\n",
        "en_vocab, vi_vocab, en_idx2word, vi_idx2word = build_tokenizers(train_data)\n",
        "print(f\"English vocabulary size: {len(en_vocab)}\")\n",
        "print(f\"Vietnamese vocabulary size: {len(vi_vocab)}\")\n",
        "\n",
        "# Create custom dataset class\n",
        "class TranslationDataset(Dataset):\n",
        "    def __init__(self, data, en_vocab, vi_vocab):\n",
        "        self.data = data\n",
        "        self.en_vocab = en_vocab\n",
        "        self.vi_vocab = vi_vocab\n",
        "\n",
        "    def __len__(self):\n",
        "        return len(self.data)\n",
        "\n",
        "    def __getitem__(self, idx):\n",
        "        en_text = self.data[idx]['translation']['en']\n",
        "        vi_text = self.data[idx]['translation']['vi']\n",
        "\n",
        "        # Tokenize and add special tokens\n",
        "        en_tokens = tokenize_sentence(en_text, self.en_vocab)\n",
        "        vi_tokens = tokenize_sentence(vi_text, self.vi_vocab)\n",
        "\n",
        "        # Add <sos> and <eos> tokens for target sequence\n",
        "        vi_input = [self.vi_vocab['<sos>']] + vi_tokens\n",
        "        vi_output = vi_tokens + [self.vi_vocab['<eos>']]\n",
        "\n",
        "        return {\n",
        "            'en_text': en_text,\n",
        "            'vi_text': vi_text,\n",
        "            'en_tokens': torch.tensor(en_tokens),\n",
        "            'vi_input': torch.tensor(vi_input),\n",
        "            'vi_output': torch.tensor(vi_output),\n",
        "            'en_len': len(en_tokens),\n",
        "            'vi_len': len(vi_tokens) + 1  # +1 for <eos>\n",
        "        }\n",
        "\n",
        "# Collate function for DataLoader\n",
        "def collate_fn(batch):\n",
        "    # Sort batch by source sequence length (descending)\n",
        "    batch = sorted(batch, key=lambda x: x['en_len'], reverse=True)\n",
        "\n",
        "    # Get max lengths\n",
        "    max_en_len = max(x['en_len'] for x in batch)\n",
        "    max_vi_len = max(x['vi_len'] for x in batch)\n",
        "\n",
        "    # Pad sequences\n",
        "    en_tokens = [F.pad(x['en_tokens'], (0, max_en_len - x['en_len']), value=en_vocab['<pad>']) for x in batch]\n",
        "    vi_input = [F.pad(x['vi_input'], (0, max_vi_len - x['vi_len']), value=vi_vocab['<pad>']) for x in batch]\n",
        "    vi_output = [F.pad(x['vi_output'], (0, max_vi_len - x['vi_len']), value=vi_vocab['<pad>']) for x in batch]\n",
        "\n",
        "    # Stack tensors\n",
        "    en_tokens = torch.stack(en_tokens)\n",
        "    vi_input = torch.stack(vi_input)\n",
        "    vi_output = torch.stack(vi_output)\n",
        "\n",
        "    # Create mask tensors\n",
        "    en_mask = (en_tokens != en_vocab['<pad>']).type(torch.float)\n",
        "    vi_mask = (vi_input != vi_vocab['<pad>']).type(torch.float)\n",
        "\n",
        "    # Original texts\n",
        "    en_texts = [x['en_text'] for x in batch]\n",
        "    vi_texts = [x['vi_text'] for x in batch]\n",
        "\n",
        "    return {\n",
        "        'en_tokens': en_tokens,\n",
        "        'vi_input': vi_input,\n",
        "        'vi_output': vi_output,\n",
        "        'en_mask': en_mask,\n",
        "        'vi_mask': vi_mask,\n",
        "        'en_texts': en_texts,\n",
        "        'vi_texts': vi_texts\n",
        "    }\n",
        "\n",
        "# Create datasets\n",
        "train_dataset = TranslationDataset(train_data, en_vocab, vi_vocab)\n",
        "val_dataset = TranslationDataset(val_data, en_vocab, vi_vocab)\n",
        "test_dataset = TranslationDataset(test_data, en_vocab, vi_vocab)\n",
        "\n",
        "# Function to create dataloaders with different batch sizes\n",
        "def create_dataloaders(batch_size):\n",
        "    train_loader = DataLoader(\n",
        "        train_dataset,\n",
        "        batch_size=batch_size,\n",
        "        shuffle=True,\n",
        "        collate_fn=collate_fn\n",
        "    )\n",
        "\n",
        "    val_loader = DataLoader(\n",
        "        val_dataset,\n",
        "        batch_size=batch_size,\n",
        "        shuffle=False,\n",
        "        collate_fn=collate_fn\n",
        "    )\n",
        "\n",
        "    test_loader = DataLoader(\n",
        "        test_dataset,\n",
        "        batch_size=batch_size,\n",
        "        shuffle=False,\n",
        "        collate_fn=collate_fn\n",
        "    )\n",
        "\n",
        "    return train_loader, val_loader, test_loader\n",
        "\n",
        "# Print sample data\n",
        "sample = train_dataset[0]\n",
        "print(f\"Example data point:\")\n",
        "print(f\"English text: {sample['en_text']}\")\n",
        "print(f\"Vietnamese text: {sample['vi_text']}\")\n",
        "print(f\"English tokens (first 10): {sample['en_tokens'][:10]}\")\n",
        "print(f\"Vietnamese input tokens (first 10): {sample['vi_input'][:10]}\")"
      ]
    },
    {
      "cell_type": "markdown",
      "id": "b0a4930d",
      "metadata": {
        "id": "b0a4930d"
      },
      "source": [
        "# 3. Basic RNN Model"
      ]
    },
    {
      "cell_type": "code",
      "execution_count": null,
      "id": "DvJHJgHLDFGE",
      "metadata": {
        "id": "DvJHJgHLDFGE"
      },
      "outputs": [],
      "source": [
        "class BasicRNNEncoder(nn.Module):\n",
        "    def __init__(self, vocab_size, embed_size, hidden_size, n_layers, dropout):\n",
        "        super().__init__()\n",
        "        self.embedding = nn.Embedding(vocab_size, embed_size)\n",
        "        self.rnn = nn.GRU(\n",
        "            embed_size,\n",
        "            hidden_size,\n",
        "            n_layers,\n",
        "            bidirectional=True,\n",
        "            dropout=dropout if n_layers > 1 else 0,\n",
        "            batch_first=True\n",
        "        )\n",
        "        # Linear layer to reduce bidirectional hidden size to decoder hidden size\n",
        "        self.fc = nn.Linear(hidden_size * 2, hidden_size)\n",
        "        self.dropout = nn.Dropout(dropout)\n",
        "\n",
        "    def forward(self, src, src_mask=None):\n",
        "        # src: [batch_size, src_len]\n",
        "\n",
        "        embedded = self.dropout(self.embedding(src))\n",
        "        # embedded: [batch_size, src_len, embed_size]\n",
        "\n",
        "        # Create packed padded sequence if mask is provided\n",
        "        if src_mask is not None:\n",
        "            # Get lengths from mask\n",
        "            # Ensure lengths are on CPU for pack_padded_sequence\n",
        "            lengths = src_mask.sum(dim=1).cpu()\n",
        "\n",
        "            # Pack sequence\n",
        "            # lengths must be a list or tensor of integers\n",
        "            packed_embedded = nn.utils.rnn.pack_padded_sequence(\n",
        "                embedded, lengths.int(), batch_first=True, enforce_sorted=False\n",
        "            )\n",
        "\n",
        "            packed_outputs, hidden = self.rnn(packed_embedded)\n",
        "\n",
        "            # Unpack sequence\n",
        "            outputs, _ = nn.utils.rnn.pad_packed_sequence(\n",
        "                packed_outputs, batch_first=True\n",
        "            )\n",
        "\n",
        "        else:\n",
        "            outputs, hidden = self.rnn(embedded)\n",
        "\n",
        "        # outputs: [batch_size, src_len, hidden_size * 2] (after unpacking)\n",
        "        # hidden: [n_layers * 2, batch_size, hidden_size]\n",
        "\n",
        "        # Combine the bidirectional hidden states\n",
        "        # The hidden state passed to the decoder should be the initial hidden state for the decoder GRU.\n",
        "        # In sequence-to-sequence models, it's common to use the final hidden state of the encoder\n",
        "        # as the initial hidden state of the decoder.\n",
        "        # Here, we take the combined last hidden states of the bidirectional encoder.\n",
        "        # The shape is [batch_size, hidden_size * 2] after concatenation.\n",
        "        combined_hidden = torch.cat((hidden[-2,:,:], hidden[-1,:,:]), dim=1)\n",
        "        # combined_hidden: [batch_size, hidden_size * 2]\n",
        "\n",
        "        # Pass the combined hidden state through a linear layer to match the decoder's hidden size\n",
        "        # This output will be used as the initial hidden state for the decoder GRU.\n",
        "        initial_decoder_hidden = torch.tanh(self.fc(combined_hidden))\n",
        "        # initial_decoder_hidden: [batch_size, hidden_size]\n",
        "\n",
        "        # Return encoder outputs for attention and the initial decoder hidden state\n",
        "        return outputs, initial_decoder_hidden\n",
        "\n",
        "\n",
        "class BasicRNNDecoder(nn.Module):\n",
        "    def __init__(self, vocab_size, embed_size, hidden_size, n_layers, dropout):\n",
        "        super().__init__()\n",
        "        self.embedding = nn.Embedding(vocab_size, embed_size)\n",
        "        # The input to the GRU is the embedded target token concatenated with the context vector from attention.\n",
        "        # The context vector dimension is hidden_size * 2 (from bidirectional encoder).\n",
        "        self.rnn = nn.GRU(\n",
        "            embed_size + hidden_size * 2,\n",
        "            hidden_size,\n",
        "            n_layers,\n",
        "            dropout=dropout if n_layers > 1 else 0,\n",
        "            batch_first=True\n",
        "        )\n",
        "        # Linear layer for attention mechanism: projects decoder hidden state to match encoder output dimension\n",
        "        self.attn_linear = nn.Linear(hidden_size, hidden_size * 2)\n",
        "        # Final output layer: takes decoder GRU output, context vector, and embedded token\n",
        "        self.fc_out = nn.Linear(hidden_size + hidden_size * 2 + embed_size, vocab_size)\n",
        "        self.dropout = nn.Dropout(dropout)\n",
        "\n",
        "    def forward(self, trg, hidden, encoder_outputs):\n",
        "        # trg: [batch_size, 1] (single token at current timestep)\n",
        "        # hidden: [batch_size, hidden_size] (hidden state from *previous* decoder timestep, or initial from encoder)\n",
        "        # encoder_outputs: [batch_size, src_len, hidden_size * 2] (all encoder outputs for attention)\n",
        "\n",
        "        batch_size = trg.shape[0]\n",
        "        src_len = encoder_outputs.shape[1]\n",
        "\n",
        "        # Get embedding for the current target token\n",
        "        embedded = self.dropout(self.embedding(trg))\n",
        "        # embedded: [batch_size, 1, embed_size]\n",
        "\n",
        "        # Project the previous decoder hidden state for attention calculation\n",
        "        # This hidden state is what the decoder has learned up to the previous timestep.\n",
        "        # We need to expand it across the source sequence length for matrix multiplication with encoder_outputs.\n",
        "        # projected_hidden = self.attn_linear(hidden).unsqueeze(1).repeat(1, src_len, 1)\n",
        "        # projected_hidden: [batch_size, src_len, hidden_size * 2]\n",
        "\n",
        "        # Another common approach is to calculate attention weights by projecting the hidden state\n",
        "        # and taking the dot product with encoder outputs.\n",
        "        # Let's use the provided 'hidden' (which should be the last layer's hidden state from the previous decoder step)\n",
        "        # Project hidden state to be compatible with encoder_outputs dimension for dot product attention\n",
        "        projected_hidden_for_attention = self.attn_linear(hidden)\n",
        "        # projected_hidden_for_attention: [batch_size, hidden_size * 2]\n",
        "\n",
        "        # Calculate attention scores (dot product between encoder outputs and projected decoder hidden state)\n",
        "        # We need to unsqueeze the projected hidden state to make it compatible for bmm: [batch_size, hidden_size * 2, 1]\n",
        "        attention_scores = torch.bmm(encoder_outputs, projected_hidden_for_attention.unsqueeze(2)).squeeze(2)\n",
        "        # attention_scores: [batch_size, src_len]\n",
        "\n",
        "        # Apply softmax to get attention weights\n",
        "        attention = F.softmax(attention_scores, dim=1).unsqueeze(1)\n",
        "        # attention: [batch_size, 1, src_len]\n",
        "\n",
        "        # Calculate context vector as a weighted sum of encoder outputs using attention weights\n",
        "        context = torch.bmm(attention, encoder_outputs)\n",
        "        # context: [batch_size, 1, hidden_size * 2]\n",
        "\n",
        "        # Concatenate embedded target token and context vector to form the input for the GRU\n",
        "        # We concatenate along the last dimension (features).\n",
        "        rnn_input = torch.cat((embedded, context), dim=2)\n",
        "        # rnn_input: [batch_size, 1, embed_size + hidden_size * 2]\n",
        "\n",
        "        # Expand the previous decoder hidden state [batch_size, hidden_size] to [n_layers, batch_size, hidden_size]\n",
        "        # This is needed as the input hidden state to the GRU layer.\n",
        "        previous_hidden_expanded = hidden.unsqueeze(0).repeat(self.rnn.num_layers, 1, 1)\n",
        "        # previous_hidden_expanded: [n_layers, batch_size, hidden_size]\n",
        "\n",
        "\n",
        "        # Pass through GRU\n",
        "        # output: [batch_size, 1, hidden_size] (output for the current timestep)\n",
        "        # hidden_out: [n_layers, batch_size, hidden_size] (hidden state for the next timestep)\n",
        "        output, hidden_out = self.rnn(rnn_input, previous_hidden_expanded)\n",
        "\n",
        "        # Prepare input for the final linear layer\n",
        "        # This typically includes the decoder GRU output and the context vector.\n",
        "        # The original code also included the embedded input. Let's follow that structure.\n",
        "        # Flatten tensors from [batch_size, 1, dim] to [batch_size, dim]\n",
        "        output_flat = output.squeeze(1) # [batch_size, hidden_size]\n",
        "        context_flat = context.squeeze(1) # [batch_size, hidden_size * 2]\n",
        "        embedded_flat = embedded.squeeze(1) # [batch_size, embed_size]\n",
        "\n",
        "        # Concatenate for the final output layer\n",
        "        output_for_fc = torch.cat((output_flat, context_flat, embedded_flat), dim=1)\n",
        "        # output_for_fc: [batch_size, hidden_size + hidden_size * 2 + embed_size]\n",
        "\n",
        "        # Pass through the final linear layer to get predictions for the next token\n",
        "        prediction = self.fc_out(output_for_fc)\n",
        "        # prediction: [batch_size, vocab_size]\n",
        "\n",
        "        # The hidden state to be passed to the next timestep is the final hidden state of the GRU from this timestep.\n",
        "        next_hidden = hidden_out[-1] # Take the last layer's hidden state [batch_size, hidden_size]\n",
        "\n",
        "        # Return prediction, the hidden state for the next step, and the attention weights\n",
        "        return prediction, next_hidden, attention.squeeze(1) # Return attention shape [batch_size, src_len]\n",
        "\n",
        "\n",
        "class BasicRNNSeq2Seq(nn.Module):\n",
        "    def __init__(self, encoder, decoder, device):\n",
        "        super().__init__()\n",
        "        self.encoder = encoder\n",
        "        self.decoder = decoder\n",
        "        self.device = device\n",
        "\n",
        "        # Ensure encoder and decoder hidden sizes are compatible\n",
        "        # Encoder's final hidden state dimension (after fc layer) must match decoder's hidden size\n",
        "        assert encoder.fc.out_features == decoder.rnn.hidden_size, \\\n",
        "            \"Encoder hidden size after linear layer must match Decoder hidden size\"\n",
        "        # Decoder's GRU input dimension should match embed_size + encoder_output_dimension\n",
        "        assert decoder.rnn.input_size == decoder.embedding.embedding_dim + encoder.rnn.hidden_size * 2, \\\n",
        "             \"Decoder GRU input size mismatch\"\n",
        "        # Decoder's final output layer input dimension should match\n",
        "        assert decoder.fc_out.in_features == decoder.rnn.hidden_size + encoder.rnn.hidden_size * 2 + decoder.embedding.embedding_dim, \\\n",
        "            \"Decoder FC output input size mismatch\"\n",
        "\n",
        "\n",
        "    def forward(self, src, trg, src_mask=None, teacher_forcing_ratio=0.5):\n",
        "        # src: [batch_size, src_len]\n",
        "        # trg: [batch_size, trg_len]\n",
        "\n",
        "        batch_size = src.shape[0]\n",
        "        trg_len = trg.shape[1]\n",
        "        trg_vocab_size = self.decoder.fc_out.out_features\n",
        "\n",
        "        # Tensor to store decoder outputs\n",
        "        outputs = torch.zeros(batch_size, trg_len, trg_vocab_size).to(self.device)\n",
        "\n",
        "        # Get encoder outputs and hidden state\n",
        "        encoder_outputs, hidden = self.encoder(src, src_mask)\n",
        "\n",
        "        # First input to decoder is the <sos> token\n",
        "        input = trg[:, 0].unsqueeze(1)\n",
        "\n",
        "        for t in range(1, trg_len):\n",
        "            # Pass through decoder\n",
        "            output, hidden, _ = self.decoder(input, hidden, encoder_outputs)\n",
        "\n",
        "            # Store prediction\n",
        "            outputs[:, t, :] = output\n",
        "\n",
        "            # Teacher forcing\n",
        "            teacher_force = random.random() < teacher_forcing_ratio\n",
        "\n",
        "            # Get highest predicted token\n",
        "            top1 = output.argmax(1)\n",
        "\n",
        "            # Next input is either the target or the predicted token\n",
        "            input = trg[:, t].unsqueeze(1) if teacher_force else top1.unsqueeze(1)\n",
        "\n",
        "        return outputs\n",
        "\n",
        "    def translate(self, src, src_mask=None, max_len=50):\n",
        "        # src: [batch_size, src_len]\n",
        "        batch_size = src.shape[0]\n",
        "\n",
        "        # Get encoder outputs and hidden state\n",
        "        encoder_outputs, hidden = self.encoder(src, src_mask)\n",
        "\n",
        "        # First input to decoder is the <sos> token\n",
        "        input = torch.tensor([vi_vocab['<sos>']] * batch_size).unsqueeze(1).to(self.device)\n",
        "\n",
        "        outputs = []\n",
        "        attentions = []\n",
        "\n",
        "        for t in range(1, max_len):\n",
        "            # Pass through decoder\n",
        "            output, hidden, attention = self.decoder(input, hidden, encoder_outputs)\n",
        "\n",
        "            # Get highest predicted token\n",
        "            top1 = output.argmax(1)\n",
        "\n",
        "            # Add to outputs\n",
        "            outputs.append(top1.unsqueeze(1))\n",
        "            attentions.append(attention)\n",
        "\n",
        "            # Next input is the predicted token\n",
        "            input = top1.unsqueeze(1)\n",
        "\n",
        "            # Stop if all sequences have predicted <eos>\n",
        "            if all(top1 == vi_vocab['<eos>']):\n",
        "                break\n",
        "\n",
        "        # Concatenate all outputs\n",
        "        outputs = torch.cat(outputs, dim=1)\n",
        "\n",
        "        return outputs, attentions"
      ]
    },
    {
      "cell_type": "markdown",
      "id": "97f01bab",
      "metadata": {
        "id": "97f01bab"
      },
      "source": [
        "# 4. Transformer Model"
      ]
    },
    {
      "cell_type": "code",
      "execution_count": null,
      "id": "Sh1gkrSpDHkc",
      "metadata": {
        "id": "Sh1gkrSpDHkc"
      },
      "outputs": [],
      "source": [
        "class TransformerEncoderLayer(nn.Module):\n",
        "    def __init__(self, hidden_size, n_heads, pf_dim, dropout):\n",
        "        super().__init__()\n",
        "\n",
        "        self.self_attn_layer_norm = nn.LayerNorm(hidden_size)\n",
        "        self.ff_layer_norm = nn.LayerNorm(hidden_size)\n",
        "        self.self_attention = nn.MultiheadAttention(hidden_size, n_heads, dropout=dropout, batch_first=True)\n",
        "        self.positionwise_feedforward = nn.Sequential(\n",
        "            nn.Linear(hidden_size, pf_dim),\n",
        "            nn.ReLU(),\n",
        "            nn.Dropout(dropout),\n",
        "            nn.Linear(pf_dim, hidden_size),\n",
        "            nn.Dropout(dropout)\n",
        "        )\n",
        "        self.dropout = nn.Dropout(dropout)\n",
        "\n",
        "    def forward(self, src, src_mask=None):\n",
        "        # Self attention\n",
        "        _src, _ = self.self_attention(src, src, src, key_padding_mask=~src_mask.bool() if src_mask is not None else None)\n",
        "\n",
        "        # Residual connection and layer norm\n",
        "        src = self.self_attn_layer_norm(src + self.dropout(_src))\n",
        "\n",
        "        # Position-wise feedforward\n",
        "        _src = self.positionwise_feedforward(src)\n",
        "\n",
        "        # Residual connection and layer norm\n",
        "        src = self.ff_layer_norm(src + self.dropout(_src))\n",
        "\n",
        "        return src\n",
        "\n",
        "\n",
        "class TransformerDecoderLayer(nn.Module):\n",
        "    def __init__(self, hidden_size, n_heads, pf_dim, dropout):\n",
        "        super().__init__()\n",
        "\n",
        "        self.self_attn_layer_norm = nn.LayerNorm(hidden_size)\n",
        "        self.enc_attn_layer_norm = nn.LayerNorm(hidden_size)\n",
        "        self.ff_layer_norm = nn.LayerNorm(hidden_size)\n",
        "        self.self_attention = nn.MultiheadAttention(hidden_size, n_heads, dropout=dropout, batch_first=True)\n",
        "        self.encoder_attention = nn.MultiheadAttention(hidden_size, n_heads, dropout=dropout, batch_first=True)\n",
        "        self.positionwise_feedforward = nn.Sequential(\n",
        "            nn.Linear(hidden_size, pf_dim),\n",
        "            nn.ReLU(),\n",
        "            nn.Dropout(dropout),\n",
        "            nn.Linear(pf_dim, hidden_size),\n",
        "            nn.Dropout(dropout)\n",
        "        )\n",
        "        self.dropout = nn.Dropout(dropout)\n",
        "\n",
        "    def forward(self, trg, enc_src, trg_mask=None, src_mask=None):\n",
        "        # Self attention with target mask\n",
        "        _trg, _ = self.self_attention(trg, trg, trg,\n",
        "                                      attn_mask=self._generate_square_subsequent_mask(trg.size(1)).to(trg.device) if trg_mask is None else None,\n",
        "                                      key_padding_mask=~trg_mask.bool() if trg_mask is not None else None)\n",
        "\n",
        "        # Residual connection and layer norm\n",
        "        trg = self.self_attn_layer_norm(trg + self.dropout(_trg))\n",
        "\n",
        "        # Encoder attention\n",
        "        _trg, attention = self.encoder_attention(trg, enc_src, enc_src,\n",
        "                                                key_padding_mask=~src_mask.bool() if src_mask is not None else None)\n",
        "\n",
        "        # Residual connection and layer norm\n",
        "        trg = self.enc_attn_layer_norm(trg + self.dropout(_trg))\n",
        "\n",
        "        # Position-wise feedforward\n",
        "        _trg = self.positionwise_feedforward(trg)\n",
        "\n",
        "        # Residual connection and layer norm\n",
        "        trg = self.ff_layer_norm(trg + self.dropout(_trg))\n",
        "\n",
        "        return trg, attention\n",
        "\n",
        "    def _generate_square_subsequent_mask(self, sz):\n",
        "        mask = (torch.triu(torch.ones(sz, sz)) == 1).transpose(0, 1)\n",
        "        mask = mask.float().masked_fill(mask == 0, float('-inf')).masked_fill(mask == 1, float(0.0))\n",
        "        return mask\n",
        "\n",
        "\n",
        "class TransformerEncoder(nn.Module):\n",
        "    def __init__(self, vocab_size, hidden_size, n_layers, n_heads, pf_dim, dropout, max_length=512): # Increased max_length\n",
        "        super().__init__()\n",
        "\n",
        "        self.tok_embedding = nn.Embedding(vocab_size, hidden_size)\n",
        "        self.pos_embedding = nn.Embedding(max_length, hidden_size) # Use updated max_length\n",
        "\n",
        "        self.layers = nn.ModuleList([\n",
        "            TransformerEncoderLayer(hidden_size, n_heads, pf_dim, dropout)\n",
        "            for _ in range(n_layers)\n",
        "        ])\n",
        "\n",
        "        self.dropout = nn.Dropout(dropout)\n",
        "        self.scale = torch.sqrt(torch.FloatTensor([hidden_size]))\n",
        "\n",
        "    def forward(self, src, src_mask=None):\n",
        "        batch_size = src.shape[0]\n",
        "        src_len = src.shape[1]\n",
        "\n",
        "        # Create position indices tensor\n",
        "        # Ensure pos doesn't exceed max_length indices\n",
        "        pos = torch.arange(0, src_len).unsqueeze(0).repeat(batch_size, 1).to(src.device)\n",
        "        if src_len > self.pos_embedding.num_embeddings:\n",
        "            # Handle sequences longer than max_length - you might truncate,\n",
        "            # or use a different positional encoding scheme.\n",
        "            # For simplicity, let's assume increasing max_length is sufficient for this dataset.\n",
        "            # If not, a warning or error could be raised here.\n",
        "            print(f\"Warning: Source sequence length {src_len} exceeds pos_embedding max_length {self.pos_embedding.num_embeddings}.\")\n",
        "            # A simple approach if truncation is acceptable:\n",
        "            # pos = torch.clamp(pos, max=self.pos_embedding.num_embeddings - 1)\n",
        "\n",
        "\n",
        "        # Embedding layers\n",
        "        src = self.tok_embedding(src) * self.scale.to(src.device)\n",
        "        src = src + self.pos_embedding(pos)\n",
        "        src = self.dropout(src)\n",
        "\n",
        "        # Pass through encoder layers\n",
        "        for layer in self.layers:\n",
        "            src = layer(src, src_mask)\n",
        "\n",
        "        return src\n",
        "\n",
        "\n",
        "class TransformerDecoder(nn.Module):\n",
        "    def __init__(self, vocab_size, hidden_size, n_layers, n_heads, pf_dim, dropout, max_length=512): # Increased max_length\n",
        "        super().__init__()\n",
        "\n",
        "        self.tok_embedding = nn.Embedding(vocab_size, hidden_size)\n",
        "        self.pos_embedding = nn.Embedding(max_length, hidden_size) # Use updated max_length\n",
        "\n",
        "        self.layers = nn.ModuleList([\n",
        "            TransformerDecoderLayer(hidden_size, n_heads, pf_dim, dropout)\n",
        "            for _ in range(n_layers)\n",
        "        ])\n",
        "\n",
        "        self.fc_out = nn.Linear(hidden_size, vocab_size)\n",
        "        self.dropout = nn.Dropout(dropout)\n",
        "        self.scale = torch.sqrt(torch.FloatTensor([hidden_size]))\n",
        "\n",
        "    def forward(self, trg, enc_src, trg_mask=None, src_mask=None):\n",
        "        batch_size = trg.shape[0]\n",
        "        trg_len = trg.shape[1]\n",
        "\n",
        "        # Create position indices tensor\n",
        "        # Ensure pos doesn't exceed max_length indices\n",
        "        pos = torch.arange(0, trg_len).unsqueeze(0).repeat(batch_size, 1).to(trg.device)\n",
        "        if trg_len > self.pos_embedding.num_embeddings:\n",
        "             # Handle sequences longer than max_length\n",
        "             print(f\"Warning: Target sequence length {trg_len} exceeds pos_embedding max_length {self.pos_embedding.num_embeddings}.\")\n",
        "             # A simple approach if truncation is acceptable:\n",
        "             # pos = torch.clamp(pos, max=self.pos_embedding.num_embeddings - 1)\n",
        "\n",
        "\n",
        "        # Embedding layers\n",
        "        trg = self.tok_embedding(trg) * self.scale.to(trg.device)\n",
        "        trg = trg + self.pos_embedding(pos)\n",
        "        trg = self.dropout(trg)\n",
        "\n",
        "        # Store attention for visualization\n",
        "        attentions = []\n",
        "\n",
        "        # Pass through decoder layers\n",
        "        for layer in self.layers:\n",
        "            trg, attention = layer(trg, enc_src, trg_mask, src_mask)\n",
        "            attentions.append(attention)\n",
        "\n",
        "        # Final linear layer\n",
        "        output = self.fc_out(trg)\n",
        "\n",
        "        return output, attentions\n",
        "\n",
        "class Transformer(nn.Module):\n",
        "    def __init__(self, encoder, decoder, device):\n",
        "        super().__init__()\n",
        "\n",
        "        self.encoder = encoder\n",
        "        self.decoder = decoder\n",
        "        self.device = device\n",
        "\n",
        "    def forward(self, src, trg, src_mask=None, trg_mask=None):\n",
        "        # src: [batch_size, src_len]\n",
        "        # trg: [batch_size, trg_len]\n",
        "\n",
        "        # Encode source\n",
        "        enc_src = self.encoder(src, src_mask)\n",
        "\n",
        "        # Decode target (exclude last token as we only want to predict up to the penultimate token)\n",
        "        output, _ = self.decoder(trg[:, :-1], enc_src, trg_mask[:, :-1] if trg_mask is not None else None, src_mask)\n",
        "\n",
        "        return output\n",
        "\n",
        "    def translate(self, src, src_mask=None, max_len=50):\n",
        "        # src: [batch_size, src_len]\n",
        "        batch_size = src.shape[0]\n",
        "\n",
        "        # Encode source\n",
        "        enc_src = self.encoder(src, src_mask)\n",
        "\n",
        "        # Start with <sos> token\n",
        "        trg = torch.tensor([[vi_vocab['<sos>']] for _ in range(batch_size)]).to(self.device)\n",
        "\n",
        "        # Store predicted tokens and attentions\n",
        "        translations = []\n",
        "        all_attentions = []\n",
        "\n",
        "        for i in range(max_len):\n",
        "            # Predict next token\n",
        "            output, attentions = self.decoder(trg, enc_src, None, src_mask)\n",
        "\n",
        "            # Get prediction for last token in sequence\n",
        "            pred = output[:, -1, :].argmax(dim=1)\n",
        "\n",
        "            # Add predicted token to output\n",
        "            trg = torch.cat([trg, pred.unsqueeze(1)], dim=1)\n",
        "\n",
        "            # Store attention\n",
        "            all_attentions.append(attentions)\n",
        "\n",
        "            # If all sequences have predicted <eos>, stop\n",
        "            if all(pred == vi_vocab['<eos>']):\n",
        "                break\n",
        "\n",
        "        # Remove <sos> token\n",
        "        translations = trg[:, 1:]\n",
        "\n",
        "        return translations, all_attentions"
      ]
    },
    {
      "cell_type": "markdown",
      "id": "1eb8e807",
      "metadata": {
        "id": "1eb8e807"
      },
      "source": [
        "# 5. Training Functions"
      ]
    },
    {
      "cell_type": "code",
      "execution_count": null,
      "id": "xAJXyp_ADcyW",
      "metadata": {
        "id": "xAJXyp_ADcyW"
      },
      "outputs": [],
      "source": [
        "def initialize_weights(model):\n",
        "    for name, param in model.named_parameters():\n",
        "        if 'weight' in name:\n",
        "            nn.init.normal_(param.data, mean=0, std=0.01)\n",
        "        else:\n",
        "            nn.init.constant_(param.data, 0)\n",
        "\n",
        "def count_parameters(model):\n",
        "    return sum(p.numel() for p in model.parameters() if p.requires_grad)\n",
        "\n",
        "def epoch_time(start_time, end_time):\n",
        "    elapsed_time = end_time - start_time\n",
        "    elapsed_mins = int(elapsed_time / 60)\n",
        "    elapsed_secs = int(elapsed_time - (elapsed_mins * 60))\n",
        "    return elapsed_mins, elapsed_secs\n",
        "\n",
        "def train(model, iterator, optimizer, criterion, clip, device, writer=None, step=0):\n",
        "    model.train()\n",
        "\n",
        "    epoch_loss = 0\n",
        "\n",
        "    for i, batch in enumerate(tqdm(iterator, desc=\"Training\")):\n",
        "\n",
        "        src = batch['en_tokens'].to(device)\n",
        "        trg = batch['vi_input'].to(device)\n",
        "        trg_y = batch['vi_output'].to(device)\n",
        "        src_mask = batch['en_mask'].to(device)\n",
        "        trg_mask = batch['vi_mask'].to(device)\n",
        "\n",
        "        optimizer.zero_grad()\n",
        "\n",
        "        if isinstance(model, Transformer):\n",
        "            output = model(src, trg, src_mask, trg_mask)\n",
        "            # output: [batch_size, trg_len-1, output_dim]\n",
        "\n",
        "            # Reshape for loss calculation\n",
        "            output_dim = output.shape[-1]\n",
        "            output = output.contiguous().view(-1, output_dim)\n",
        "            trg_y = trg_y[:, 1:].contiguous().view(-1)\n",
        "\n",
        "        else:  # BasicRNNSeq2Seq\n",
        "            output = model(src, trg, src_mask)\n",
        "            # output: [batch_size, trg_len, output_dim]\n",
        "\n",
        "            # Reshape for loss calculation\n",
        "            output_dim = output.shape[-1]\n",
        "            output = output[:, 1:].contiguous().view(-1, output_dim)\n",
        "            trg_y = trg_y.contiguous().view(-1)\n",
        "\n",
        "        # Calculate loss (ignore padding index)\n",
        "        loss = criterion(output, trg_y)\n",
        "\n",
        "        loss.backward()\n",
        "\n",
        "        # Gradient clipping\n",
        "        torch.nn.utils.clip_grad_norm_(model.parameters(), clip)\n",
        "\n",
        "        optimizer.step()\n",
        "\n",
        "        epoch_loss += loss.item()\n",
        "\n",
        "        if writer and i % 100 == 0:\n",
        "            writer.add_scalar('Training Loss', loss.item(), step + i)\n",
        "\n",
        "    return epoch_loss / len(iterator)\n",
        "\n",
        "def train(model, iterator, optimizer, criterion, clip, device, writer=None, step=0):\n",
        "    model.train()\n",
        "\n",
        "    epoch_loss = 0\n",
        "\n",
        "    for i, batch in enumerate(tqdm(iterator, desc=\"Training\")):\n",
        "\n",
        "        src = batch['en_tokens'].to(device)\n",
        "        trg = batch['vi_input'].to(device)\n",
        "        trg_y = batch['vi_output'].to(device)\n",
        "        src_mask = batch['en_mask'].to(device)\n",
        "        trg_mask = batch['vi_mask'].to(device)\n",
        "\n",
        "        optimizer.zero_grad()\n",
        "\n",
        "        if isinstance(model, Transformer):\n",
        "            output = model(src, trg, src_mask, trg_mask)\n",
        "            # output: [batch_size, trg_len-1, output_dim]\n",
        "\n",
        "            # Reshape for loss calculation\n",
        "            output_dim = output.shape[-1]\n",
        "            output = output.contiguous().view(-1, output_dim)\n",
        "            trg_y = trg_y[:, 1:].contiguous().view(-1) # Correctly slice trg_y\n",
        "\n",
        "        else:  # BasicRNNSeq2Seq\n",
        "            output = model(src, trg, src_mask)\n",
        "            # output: [batch_size, trg_len, output_dim]\n",
        "\n",
        "            # Reshape for loss calculation\n",
        "            output_dim = output.shape[-1]\n",
        "            # Slice the output to exclude the first token's prediction\n",
        "            output = output[:, 1:].contiguous().view(-1, output_dim)\n",
        "            # Slice trg_y to align with the output\n",
        "            trg_y = trg_y[:, 1:].contiguous().view(-1)\n",
        "\n",
        "\n",
        "        # Calculate loss (ignore padding index)\n",
        "        loss = criterion(output, trg_y)\n",
        "\n",
        "        loss.backward()\n",
        "\n",
        "        # Gradient clipping\n",
        "        torch.nn.utils.clip_grad_norm_(model.parameters(), clip)\n",
        "\n",
        "        optimizer.step()\n",
        "\n",
        "        epoch_loss += loss.item()\n",
        "\n",
        "        if writer and i % 100 == 0:\n",
        "            writer.add_scalar('Training Loss', loss.item(), step + i)\n",
        "\n",
        "    return epoch_loss / len(iterator)\n",
        "\n",
        "def evaluate(model, iterator, criterion, device, writer=None, step=0, mode='val'):\n",
        "    model.eval()\n",
        "    epoch_loss = 0\n",
        "\n",
        "    with torch.no_grad():\n",
        "        for i, batch in enumerate(tqdm(iterator, desc=f\"Evaluating ({mode})\")):\n",
        "            src = batch['en_tokens'].to(device)\n",
        "            trg = batch['vi_input'].to(device)\n",
        "            trg_y = batch['vi_output'].to(device)\n",
        "            src_mask = batch['en_mask'].to(device)\n",
        "            trg_mask = batch['vi_mask'].to(device)\n",
        "\n",
        "            if isinstance(model, Transformer):\n",
        "                output = model(src, trg, src_mask, trg_mask)\n",
        "                # output: [batch_size, trg_len-1, output_dim]\n",
        "\n",
        "                # Reshape for loss calculation\n",
        "                output_dim = output.shape[-1]\n",
        "                output = output.contiguous().view(-1, output_dim)\n",
        "                trg_y = trg_y[:, 1:].contiguous().view(-1)\n",
        "\n",
        "            else:  # BasicRNNSeq2Seq\n",
        "                output = model(src, trg, src_mask, teacher_forcing_ratio=0)\n",
        "                # output: [batch_size, trg_len, output_dim]\n",
        "\n",
        "                # Reshape for loss calculation\n",
        "                output_dim = output.shape[-1]\n",
        "                # Slice the output to exclude the first token's prediction\n",
        "                output = output[:, 1:].contiguous().view(-1, output_dim)\n",
        "                # Slice trg_y to align with the output\n",
        "                trg_y = trg_y[:, 1:].contiguous().view(-1)\n",
        "\n",
        "            # Calculate loss\n",
        "            loss = criterion(output, trg_y)\n",
        "            epoch_loss += loss.item()\n",
        "\n",
        "            if writer and i % 50 == 0:\n",
        "                writer.add_scalar(f'{mode.capitalize()} Loss', loss.item(), step + i)\n",
        "\n",
        "    return epoch_loss / len(iterator)\n",
        "\n",
        "def calculate_bleu(predictions, references):\n",
        "    # Tokenize references\n",
        "    tokenized_refs = [[nltk.word_tokenize(ref.lower())] for ref in references]\n",
        "\n",
        "    # Tokenize predictions\n",
        "    tokenized_preds = [nltk.word_tokenize(pred.lower()) for pred in predictions]\n",
        "\n",
        "    # Calculate BLEU score with smoothing\n",
        "    smoothie = SmoothingFunction().method1\n",
        "    bleu = corpus_bleu(tokenized_refs, tokenized_preds, smoothing_function=smoothie)\n",
        "\n",
        "    return bleu\n",
        "\n",
        "def translate_sentence(model, sentence, device):\n",
        "    model.eval()\n",
        "\n",
        "    # Tokenize input sentence\n",
        "    tokens = tokenize_sentence(sentence, en_vocab)\n",
        "\n",
        "    # Convert to tensor and add batch dimension\n",
        "    src_tensor = torch.tensor(tokens).unsqueeze(0).to(device)\n",
        "    src_mask = torch.ones(src_tensor.size()).to(device)\n",
        "\n",
        "    # Translate\n",
        "    if isinstance(model, Transformer):\n",
        "        translations, attention = model.translate(src_tensor, src_mask)\n",
        "    else:\n",
        "        translations, attention = model.translate(src_tensor, src_mask)\n",
        "\n",
        "    # Convert output to text\n",
        "    translation = translations[0]\n",
        "\n",
        "    # Remove <eos> and subsequent tokens\n",
        "    if vi_vocab['<eos>'] in translation:\n",
        "        end_idx = translation.tolist().index(vi_vocab['<eos>'])\n",
        "        translation = translation[:end_idx]\n",
        "\n",
        "    # Convert to text\n",
        "    translated_text = ' '.join([vi_idx2word[idx.item()] for idx in translation])\n",
        "\n",
        "    return translated_text, attention"
      ]
    },
    {
      "cell_type": "markdown",
      "id": "963e550f",
      "metadata": {
        "id": "963e550f"
      },
      "source": [
        "# 6. Model Training with Different Hyperparameters"
      ]
    },
    {
      "cell_type": "code",
      "execution_count": null,
      "id": "pF5vJTUYDfI9",
      "metadata": {
        "id": "pF5vJTUYDfI9"
      },
      "outputs": [],
      "source": [
        "def run_experiment(model_type, hyperparams, experiment_name, num_epochs=10):\n",
        "    results = []\n",
        "\n",
        "    for i, hp in enumerate(hyperparams):\n",
        "        print(f\"\\n{'='*50}\")\n",
        "        print(f\"Running {model_type} experiment {i+1}/{len(hyperparams)}\")\n",
        "        print(f\"Hyperparameters: {hp}\")\n",
        "        print(f\"{'='*50}\\n\")\n",
        "\n",
        "        # Create tensorboard writer\n",
        "        writer = SummaryWriter(f'runs/{experiment_name}_{i+1}')\n",
        "\n",
        "        # Create dataloaders\n",
        "        train_loader, val_loader, test_loader = create_dataloaders(hp['batch_size'])\n",
        "\n",
        "        # Initialize model\n",
        "        if model_type == 'RNN':\n",
        "            # RNN model\n",
        "            enc = BasicRNNEncoder(\n",
        "                len(en_vocab), hp['embed_size'], hp['hidden_size'],\n",
        "                hp['n_layers'], hp['dropout']\n",
        "            )\n",
        "\n",
        "            dec = BasicRNNDecoder(\n",
        "                len(vi_vocab), hp['embed_size'], hp['hidden_size'],\n",
        "                hp['n_layers'], hp['dropout']\n",
        "            )\n",
        "\n",
        "            model = BasicRNNSeq2Seq(enc, dec, device).to(device)\n",
        "\n",
        "        else:  # 'Transformer'\n",
        "            # Transformer model\n",
        "            enc = TransformerEncoder(\n",
        "                len(en_vocab), hp['hidden_size'], hp['n_layers'],\n",
        "                hp['n_heads'], hp['pf_dim'], hp['dropout']\n",
        "            )\n",
        "\n",
        "            dec = TransformerDecoder(\n",
        "                len(vi_vocab), hp['hidden_size'], hp['n_layers'],\n",
        "                hp['n_heads'], hp['pf_dim'], hp['dropout']\n",
        "            )\n",
        "\n",
        "            model = Transformer(enc, dec, device).to(device)\n",
        "\n",
        "        # Initialize weights\n",
        "        model.apply(initialize_weights)\n",
        "\n",
        "        print(f'The model has {count_parameters(model):,} trainable parameters')\n",
        "\n",
        "        # Optimizer\n",
        "        if hp['optimizer'] == 'Adam':\n",
        "            optimizer = optim.Adam(model.parameters(), lr=hp['learning_rate'])\n",
        "        elif hp['optimizer'] == 'AdamW':\n",
        "            optimizer = optim.AdamW(model.parameters(), lr=hp['learning_rate'])\n",
        "        else:  # SGD\n",
        "            optimizer = optim.SGD(model.parameters(), lr=hp['learning_rate'], momentum=0.9)\n",
        "\n",
        "        # Learning rate scheduler\n",
        "        if hp['scheduler'] == 'step':\n",
        "            scheduler = optim.lr_scheduler.StepLR(optimizer, step_size=5, gamma=0.5)\n",
        "        elif hp['scheduler'] == 'cosine':\n",
        "            scheduler = optim.lr_scheduler.CosineAnnealingLR(optimizer, T_max=num_epochs)\n",
        "        else:\n",
        "            scheduler = None\n",
        "\n",
        "        # Loss function (ignore padding index)\n",
        "        criterion = nn.CrossEntropyLoss(ignore_index=vi_vocab['<pad>'])\n",
        "\n",
        "        # Training loop\n",
        "        best_valid_loss = float('inf')\n",
        "        best_model_path = None\n",
        "\n",
        "        train_losses = []\n",
        "        val_losses = []\n",
        "\n",
        "        for epoch in range(num_epochs):\n",
        "            start_time = time.time()\n",
        "\n",
        "            # Train\n",
        "            train_loss = train(model, train_loader, optimizer, criterion, hp['clip'], device, writer, epoch * len(train_loader))\n",
        "\n",
        "            # Evaluate\n",
        "            valid_loss = evaluate(model, val_loader, criterion, device, writer, epoch * len(val_loader), 'val')\n",
        "\n",
        "            # Update learning rate if scheduler is defined\n",
        "            if scheduler:\n",
        "                scheduler.step()\n",
        "\n",
        "            end_time = time.time()\n",
        "            epoch_mins, epoch_secs = epoch_time(start_time, end_time)\n",
        "\n",
        "            # Record metrics\n",
        "            train_losses.append(train_loss)\n",
        "            val_losses.append(valid_loss)\n",
        "\n",
        "            # Save the model if it's the best valid loss\n",
        "            if valid_loss < best_valid_loss:\n",
        "                best_valid_loss = valid_loss\n",
        "                best_model_path = f'{model_type}_best_loss_{i+1}.pt'\n",
        "                torch.save(model.state_dict(), best_model_path)\n",
        "\n",
        "            print(f'Epoch: {epoch+1:02} | Time: {epoch_mins}m {epoch_secs}s')\n",
        "            print(f'\\tTrain Loss: {train_loss:.3f}')\n",
        "            print(f'\\t Val. Loss: {valid_loss:.3f}')\n",
        "\n",
        "            # Early stopping\n",
        "            if len(val_losses) > 5 and valid_loss > min(val_losses[-6:-1]):\n",
        "                print(\"Early stopping...\")\n",
        "                break\n",
        "\n",
        "        # Test with the best model\n",
        "        if best_model_path and os.path.exists(best_model_path):\n",
        "            model.load_state_dict(torch.load(best_model_path))\n",
        "            test_loss = evaluate(model, test_loader, criterion, device, writer, num_epochs * len(train_loader), 'test')\n",
        "            print(f'Test Loss: {test_loss:.3f}')\n",
        "        else:\n",
        "            print(f\"Warning: No best model saved for experiment {i+1}. Skipping test evaluation.\")\n",
        "            test_loss = float('nan')\n",
        "\n",
        "        # Record results\n",
        "        results.append({\n",
        "            'hyperparams': hp,\n",
        "            'train_losses': train_losses,\n",
        "            'val_losses': val_losses,\n",
        "            'test_loss': test_loss\n",
        "        })\n",
        "\n",
        "        # Close tensorboard writer\n",
        "        writer.close()\n",
        "\n",
        "    return results\n",
        "\n",
        "# Optimized Hyperparameters for RNN model (faster training)\n",
        "rnn_hyperparams = [\n",
        "    {\n",
        "        'embed_size': 128,      # Reduced from 256\n",
        "        'hidden_size': 256,     # Reduced from 512\n",
        "        'n_layers': 1,          # Reduced from 2\n",
        "        'dropout': 0.2,         # Reduced from 0.3\n",
        "        'learning_rate': 0.001,\n",
        "        'batch_size': 128,      # Increased from 64\n",
        "        'clip': 1.0,\n",
        "        'optimizer': 'Adam',\n",
        "        'scheduler': None       # Removed scheduler for simplicity\n",
        "    },\n",
        "    {\n",
        "        'embed_size': 96,       # Reduced from 256\n",
        "        'hidden_size': 192,     # Reduced from 512\n",
        "        'n_layers': 2,          # Reduced from 3\n",
        "        'dropout': 0.3,         # Reduced from 0.5\n",
        "        'learning_rate': 0.001, # Increased from 0.0005\n",
        "        'batch_size': 64,       # Increased from 32\n",
        "        'clip': 1.0,\n",
        "        'optimizer': 'Adam',    # Changed from AdamW\n",
        "        'scheduler': None       # Removed scheduler\n",
        "    },\n",
        "    {\n",
        "        'embed_size': 64,       # Reduced from 128\n",
        "        'hidden_size': 128,     # Reduced from 256\n",
        "        'n_layers': 1,          # Reduced from 2\n",
        "        'dropout': 0.1,         # Reduced from 0.2\n",
        "        'learning_rate': 0.002,\n",
        "        'batch_size': 256,      # Increased from 128\n",
        "        'clip': 0.5,\n",
        "        'optimizer': 'Adam',\n",
        "        'scheduler': None\n",
        "    }\n",
        "]\n",
        "\n",
        "# Optimized Hyperparameters for Transformer model (faster training)\n",
        "transformer_hyperparams = [\n",
        "    {\n",
        "        'hidden_size': 128,     # Reduced from 256\n",
        "        'n_layers': 2,          # Reduced from 3\n",
        "        'n_heads': 4,           # Reduced from 8\n",
        "        'pf_dim': 256,          # Reduced from 512\n",
        "        'dropout': 0.1,\n",
        "        'learning_rate': 0.001, # Increased from 0.0005\n",
        "        'batch_size': 128,      # Increased from 64\n",
        "        'clip': 1.0,\n",
        "        'optimizer': 'Adam',\n",
        "        'scheduler': None       # Removed scheduler\n",
        "    },\n",
        "    {\n",
        "        'hidden_size': 96,      # Reduced from 128\n",
        "        'n_layers': 2,          # Reduced from 3\n",
        "        'n_heads': 4,\n",
        "        'pf_dim': 192,          # Reduced from 256\n",
        "        'dropout': 0.1,         # Reduced from 0.2\n",
        "        'learning_rate': 0.001,\n",
        "        'batch_size': 256,      # Increased from 128\n",
        "        'clip': 1.0,\n",
        "        'optimizer': 'Adam',    # Changed from AdamW\n",
        "        'scheduler': None       # Removed scheduler\n",
        "    },\n",
        "    {\n",
        "        'hidden_size': 192,\n",
        "        'n_layers': 3,\n",
        "        'n_heads': 4,\n",
        "        'pf_dim': 384,\n",
        "        'dropout': 0.1,\n",
        "        'learning_rate': 0.001,\n",
        "        'batch_size': 64,\n",
        "        'clip': 1.0,\n",
        "        'optimizer': 'Adam',\n",
        "        'scheduler': None\n",
        "    }\n",
        "\n",
        "]"
      ]
    },
    {
      "cell_type": "markdown",
      "id": "f849dcd4",
      "metadata": {
        "id": "f849dcd4"
      },
      "source": [
        "# 7. Run Experiments"
      ]
    },
    {
      "cell_type": "code",
      "execution_count": null,
      "id": "NNdyjROeDhyK",
      "metadata": {
        "colab": {
          "base_uri": "https://localhost:8080/",
          "height": 1000,
          "referenced_widgets": [
            "2f376a04ca8c47f8b85b3ea0a5e10839",
            "c062f40d5a844f8bb2283dc57c942dab",
            "2cfd8830259642429eb9e336ebe76000",
            "e8f2faaa090d4938a6f73e03e389128f",
            "d248b0561f2c4d569c40e80605a3e05a",
            "ae7729b0139e4b919892d2aa2f4190ba",
            "4a25d8cd1e744b4c809bda25fa034aab",
            "402cef4eceed48678a888b5cfa7df040",
            "07d88dc3be5142d49809b5facfdd8a21",
            "d31df565322e4cc983ca1c5c21d1188e",
            "4579fa28c834405b8b47578309e3ebfe",
            "fb09345c0e324f6a9afc94f54506b99b",
            "0aec38a30bca41f9b11fd55f62f0d7ac",
            "5bd58a1b1a2c488588c501647f0c0793",
            "3fe745468556443d97a8bca4d514ffea",
            "684d7186b37143408b78364a48922850",
            "e4107342495d41ad907206e53d0b496a",
            "f69fca9df21b40f7a3004f174c991712",
            "d59ab1d0e0284638ac2a41af053150d0",
            "f9845851199b4c8b85325ac1b87a4268",
            "98e5107abbe64f06a78cb1cca37de446",
            "6fdaf09ec309459d8caf08b7efc0a56e",
            "e9154a050fd1444aab158fd206db4990",
            "c7f45e0bdb6648459322a179e9f5c46e",
            "330e0477244f4c769920379cf107f06e",
            "e7d39afa15b9450ea4c719e4cdc23804",
            "0c4e4a475c724b13a33fd7a32f176546",
            "345111c710fe44e68d2e4ba7df121420",
            "c973bbda2f8d494a8e3bb74e02927427",
            "1943e82622224e8c8c71b256198e6979",
            "c8fa7d71171845088f003fa8e2c25455",
            "f5b24f283d3444ed9322d205fc983273",
            "2585758ebb8b4315a5917b95eab2892c",
            "2085d4e70c03458b80c7f6db1e2e8e87",
            "d5c7e3b11e5246da8b3930c4d02227fd",
            "cfa48e665d5b4878aa9c79c6c7b40a4b",
            "25e4dae0300942b0a6041d09bfad29ce",
            "3575de1fc1344a7b94a67e6c33a9a7b0",
            "8f47a5f188874075a3a3b3cde8d750c8",
            "c7ae9d90c0834f61944715b2e8626a66",
            "21ded95566b341a584c7e21990f6b9a2",
            "43a8b3e2395e41f9a84b7f7404b979c5",
            "6ea9bebf86f04a069c4784cf9759e2b5",
            "a37b37edf3724a60a16e9217e36002a9",
            "8ba25293f9a245e5a572440e0d30b90f",
            "157e256642c0433290047fdf47a2496a",
            "c11fcad8fb054673854b4003ecafbbd0",
            "b9e21a3083a6496198837560cbbc2f5c",
            "80230254cf77416f82a77523509e8356",
            "48a098a1b8af4fbeae56d35d1d44683e",
            "47fc0568a1964281b17a98d6627a6601",
            "502865291541493bacdeaf3dffe2ff6e",
            "ad2c876345b340fbbb2eb411aaed9208",
            "03df7fc958e649ea8849e60f52a3090a",
            "f769514eadc1499fad189814f0a0c0ac",
            "5205dad75b284e92898de5dc2015e7d7",
            "886b2525cfb74f9d907283fead87ca65",
            "1b1915231f084ead8d7a64fa0a066b50",
            "59a353cf552940ffb49e9912dd34297d",
            "4fb82d6d4cda4a23bd95695815a8f994",
            "6323621a542149128b645c6ad790175b",
            "36d9fdbfaea449859201cc39841dac3a",
            "26c9d3cbc7db4474a211498ee30ca8ed",
            "0efa4e197dc24644b8742136eccfaa57",
            "eabfc90b61784fd786fc1b97094ddb6d",
            "047b7202f04045ee86a7ea30681e63c5",
            "d7eecb17fe07407d958251a915efe7c5",
            "c486bd871f214523be7e7f224a26d324",
            "c12debc0da184d6da8ca94305fb507ba",
            "c637caaaa1ba49f7a0c551c9ec0e95dd",
            "d133242c1a144f80948e11828dd9bb0b",
            "70408a7fb8564c9e8a1b2a26206b8036",
            "c201211dd1524328b0d9314dcc901835",
            "a3f16e08add74823a67085cd517c1813",
            "e22a6bd215f5432b8a1b85c50be0e1c4",
            "c6aa275b675b4557a65ad98932ddff01",
            "ee726b96ecf14159ac36892fd2dea5d9",
            "5de458807c8046048527d45457255035",
            "ca3850d4bc0047c38d924442dd72bad0",
            "2ecb3d6a60e34bde96147886e9bd0f41",
            "7dde5b6c21124f01ba5324a2cad6bc30",
            "faed497bf2704e8ca620cb6057e331b6",
            "48dd4cf7480d439699508e3312f90ffa",
            "981a1736132243cb81b198d5bd183186",
            "9f4ceeb824eb4ab68c2f5f1169033926",
            "2a2474fbb51741d492bda6865b61f23e",
            "f17615b87f2f46738a454f1b0c3f24e2",
            "fb7c287842704635aea94c64acc50ec0",
            "015021874d464376a94d5f62fe2525bd",
            "d6bd090968e240668e1d53deeaeaab18",
            "8c72a2780bb6407ea5f1a09ea7f0ae78",
            "b1c69f18af6c4696b969f899250ac475",
            "ef34404c7d9f448b8cebfe9ae6ee5bc4",
            "948e495fc0064291998451e282e3e5a8",
            "d098698010f34ab5af526c22dc16291b",
            "881daa033c504f41b2100354fe442214",
            "56bc284dc3544b9d8489bf375a415ed9",
            "644d7b29b788495e9ba237d444e48a1c",
            "02d18d16693646d08322a3ec5000b5c3",
            "ea68380f9e044c469023acf4580c408a",
            "7be10b62b18f4645b3a3833db60bcfd6",
            "000d591e533c4a7aaa7a6d28d2c837ce",
            "c893704c34354bb186aa69509c3da39a",
            "2335297420aa444bad69c9723d812831",
            "e30310be8b7f473b95a59f52b63167ee",
            "a47cf9d482bd40a29c3bc90115a6ab24",
            "efe9cc5239e44bdc8c3a51ff13078068",
            "d11e1b1eb8b840e395f6789a316be662",
            "1ffd4970b6bd43f8a200872f4d96fb10",
            "80cf219ed3294214aa941af818f31fc4",
            "3c1b37d268874872adc11d66303056aa",
            "f0908cf7830f4392b83348ec479d4dc0",
            "15d96a40da424629ad9a81dbb165aa5b",
            "f34a64de553c4c62ae4f58748c5c5552",
            "705d3170583946c3af87fac748f83680",
            "bb267829171a473684e39c6991d79523",
            "a3fc2d62270b410bbe3542a7daa8247a",
            "dc1ce08624324c93b8c98553ed28b461",
            "d4b92965fc20499f97ced81e1284d757",
            "af0ad25b0f594cd8bc6f1d153f44d0f8",
            "f8d694d3e0664624b431e45d0b1da914",
            "10d560bd291546838cb2a65389e919ce",
            "32b817e153e54383a0f5539787df998a",
            "7dfee43c4d754eb8a2c637614a024439",
            "f67b213fc3e244d0a671c055af359917",
            "3a1c11047a284a6ebcf6b0e29d292729",
            "ebb172896b99467dab04d739fc39ad8a",
            "dbba48ec40734dc5afefd8e26378041b",
            "87287ab1bde1487399996c942b213002",
            "6ac3a3ea32044c8393b4b5bb257a371d",
            "13423f98d35b4e5ea5ae7fba6fd2c3e2",
            "7542e90314fb4b988e441bbe7f303be8",
            "c2ee7d56f36b40cb9b07946d90bc4923",
            "36b11de28a5f45b5b0fb5d52fabacd87",
            "724a4aef6c8b48babbf5733b8cf188dc",
            "2e2c10510c0343038a76ba7fae127f45",
            "699cc83eef7841128c4dab4b681e87a4",
            "75a361ef00d041879d1b031608ddeb77",
            "f93cae7c71dd4d2d837dbf8fd386d48a",
            "83e8dddfc0004d8a942f0e6ab5c463b9",
            "e27bc77e0be44282af5ac9271f1ad2e2",
            "c2595ea04797471d9f79a997d1dcac7a",
            "fa65afc5df254f42b0f65a1848b20983",
            "c1c1d1f3245b4012aa216f8fa9301406",
            "4a35d801d3f344ee93491844795b9724",
            "1905e003729949f183779bd31eeaf5ba",
            "c30c92e2fca5420693504c0b4aff5c25",
            "3c69454b7b91439ca3cd7ad261906270",
            "2f73060aa706492e9306e4dc7a06c5d5",
            "92204d375e7041028b5c525d8db8c7ef",
            "b6a137d60df94e0baf79230ed655606f",
            "0a4b252ab1754185984731eb43320164",
            "4011e06230fb4c418c3c7e9690daea74",
            "8a338846b9724ee1852594acb4d5e5b3",
            "d76f36edd15e48dea4a561f2a906245f",
            "ae1a5051e4614edb9881f568f7887163",
            "a7b86ad5f9c64c479951caab54d1cab3",
            "b4b863edab774e48846b448c13630fa4",
            "3e8eab9424db44aeb9ff0427c5eaf537",
            "0e8066f54de04aeb99cea1c9771e32e9",
            "d8aa1e88ead54f23adb3f8865e121021",
            "47a3139f3764458fabf399ba18a075f7",
            "841f769bdf544d8db08fb77f42721384",
            "f0867b3d0c6d4b8bad18749412ce2058",
            "14b11d2c419349609333e327f62b6079",
            "c7e5417f9f7749a5a9da305f3ad82304",
            "ce87a3c2aff44fd0b85da74db7bf89a5",
            "e462387c5df84ac18b537c6ba9d73524",
            "e3996b052d55436a8a642b051aadaffa",
            "af194466340942e897c81c3fa32491bc",
            "c02cf409ff3c43a5ad1cfe49eac6f996",
            "9a9acf8b90bd457b855cc9e3f596f197",
            "32d1bd9061bc4a5e914380b3141dfa97",
            "96dc14b1abc54abebafd1e6a4c42318b",
            "4e409741528c48ea856d3055d3fb9763",
            "9261508e34ef47adac265f999ddb3d67",
            "73eba1cd317a473da4bbe19077184a49",
            "fe5f68597cc1434a930cbb3725767656",
            "b6e18276ae8048a280d2b1834e7e3b86",
            "b37fd55c869f4813a01ece4d013b7c2c",
            "18c4f6fb8d4d435fb8c1c0b35ab91d33",
            "dac5360f2db3446487f15c4362b3145d",
            "a40ef6680e4a4547b657f3cdc18aee00",
            "8aa29f0d09554d11873aec29b9bdb656",
            "bc792b524d42469b8cf1ef0697740e81",
            "4fbb3db70d234421a01c7ed7d081b6f7",
            "dc3deb830ca840aa930ff17172229134",
            "0dd8bc7e816a46e8bf6af525a14e0dbb",
            "1b3f771725014c31b0e6b643b55813ca",
            "46a8abc86e2b43d89c3f8dc80b1f660e",
            "3b54ca4b523e4ab7bf6de2627d367ef7",
            "8cc1b5ec6dfa4b188625411cf573f5d6",
            "7fbe8298d0204d45b6bb20636a6a7c34",
            "1d27cfaa4dde433eb4232dceb07bbeb4",
            "44fb1d4875d24f089b93c92ae394785c",
            "55aac9364827460cb30686d90a4339de",
            "abe2259b395f4fd69ecbc33b23977d30",
            "0ca4120661c74d81b8975a8595476176",
            "dda48fc0d76b4ccda6bf7fbc8a08aa73",
            "6cbae77050fc4651a52cf8f8d6ecdea7",
            "b77bdcb7726441ddae5f2f88d7f184ab",
            "5120b573b3b94068a10ba3e1f443d65d",
            "ef3f355b4bb448928a1a58311a9f7a0c",
            "4bc092265fa14c52ab8fe554655579ce",
            "6279fd50712a488a951905232745065c",
            "f4afa35237164b81980e7ea4be11ffd3",
            "70bd8b99c0824343bd452b152cfa099d",
            "60309e93a0214c31ba1d46e92bca7360",
            "2059b9e4e294434a96e109d22c0931a2",
            "9cc459e20ee8497ab7e23d15f2f2aa03",
            "0770ee7edae1462c9ce202518a09fb96",
            "b0626e2e88d447199a6c26ddea735f74",
            "8fc69a3c379e498385a1bb9cd1795601",
            "99d7491a118f484588bba5e1bb31ca79",
            "3dd1395bf7ff4edd899bf200800dc73b",
            "1c6dd6d04202407b8d8f0aae00417938",
            "634120422c3b4d62a02cf9b229de57d3",
            "4cabe62e0fa54d98ba612859c5b335c5",
            "82d52915e2be4ebcb3cc4021899f4184",
            "f858c86ffeda47d5b8cf3efc5995ac88",
            "e015b1a005714583ba6ea4f639a4809b",
            "2ca54fc85308456ea9e115dfcfbfe33f",
            "68fe7d5d33c24944add0d2fe653b5a03",
            "9d3335ec58bf46f5878e85496bd5bc02",
            "cc8ddbedaf4b4895ad249aef41cd3f1a",
            "95b372a2edb24dec95f6d390c90e4c89",
            "a338ce3b6af84789943e18fe348af291",
            "b5207e27cf304a73956742fdd5ea9140",
            "40fa4df025cd40448c3decfff71523ff",
            "35b11aec35584e23ba793573e173c6f3",
            "eb86431fdd4a4a17b8522dca19f5e9b6",
            "d0bf072b348a43f4adec91d68e52d913",
            "c68b1af8c1094b028083445b24124e3f",
            "ba21ad8c44b14aac8557b6ff689a047d",
            "e6913b32f6a54ea593be7f5c6a068b05",
            "8869ee6f23314b50a66a4152287d205f",
            "cdddcec9a1e04da7ba38de0944bbf4aa",
            "ee69db92924442ca953761ea179ad4ed",
            "1906ff2117d34bf8a148e3bfa9f95c51",
            "a682c50c90c34817845626834a55af9c",
            "82e05eba3f4f4ca88a980e72aec7ba5d",
            "00d3a83cabe04021a93b266ff35c0a43",
            "7a43283d8a7d4748abac77cfc8e34bd4",
            "98b14b13e7134cc0a6fbd49e5e532392",
            "f30ccf771f2d49a39b9cec1fabf00c4b",
            "c8751bb0fafa4328a070eb310c29fa05",
            "e830cf2621bb4f0ea7b39782d4c21b6f",
            "8d9a76191bef4be086e6a2dd2169e4e8",
            "5e720a3edaf841b794c37b76c72f8627",
            "959df7f47c73434b9be29438c8112479",
            "57efebcc5e6b473d94d33aac34407e85",
            "c3ba9ed2afd74ed680094c073b4ee9c0",
            "35769b171b8142d8a5a4f611fc8916f3",
            "d9467060816c48f28643a22bb284589e",
            "b0dfb209bd4f4887880662fde506782e",
            "435c7880443a420ca52d3fc5801f453b",
            "5f1e9716346c4bcdb31c825e31be0bd1",
            "462f03e11e224c119a64f28a06f92cf0",
            "6297ccba95d04c5696a9bcc8d1decbf8",
            "8c8f71b14a334e1993fbf0f1e422cf02",
            "a433cee35fd94bb48995154b6feff1ec",
            "b47c7ab7fbd742c2b871ef1c7346d9b0",
            "91a9265fc5654028bf59c50670e3138b",
            "63ac652d768f452bac36005dc970b9e1",
            "90c2c173ec1d4b0889ab95dbcb91890d",
            "8aab925ae72140bc8e135313734d9aca",
            "2fed963844f042dc934c3461f190dbbd",
            "70ec2e6a63a24c34930ff5618eb80c76",
            "69e13e5bd7af4cecbdcf32154e0f1c71",
            "a8776a40d5e74ad5b3c1c66579814608",
            "5f78945cb16245bcabbfc0793e7c6e09",
            "d1c062e43e0d48aabe7e163d993c49ec",
            "846549b8a9bf4b30ab1dedcf15325d89",
            "570da3eb626740fda749e7a9c6147aa1",
            "351d5ace398f4873babe3925f19d6b9f",
            "a24f3a902e134c379d285aa2230b62c6",
            "4c4037cf0e704fca920f251fa4c4cd14",
            "ed90f6e488c6439aab2c95233df130ef",
            "041f98801c4a4b84a4a8ff1730bb9989",
            "3914c2f608d0430abf257b307b8c8425",
            "fc5b0ed1ce404e37806e2e9b302cf132",
            "db39b533c36c4168bac719d1a1658398",
            "122d3c565aff49009f681521164f6763",
            "dbbaaeaa0ae34e46b58365a44cdf683e",
            "f31bd176243d4cb5ab3fae13d8ea09b2",
            "0d71bcc37c2c493eab6f2b7e97184632",
            "5086ac10a26e463f9d833206c22e7464",
            "0c1efa27ba984cbfb534ee781e11c9c9",
            "81be912a521d43ea9f00a696d0a5bdd0",
            "c91ef9c1bf044eda8ad065b71c0efd00",
            "3f0b2a19456e4b6c8de6531799e167dd",
            "25043ce2e74447908addef7dd1230efa",
            "38cb1127ef674e6886003421efdcedac",
            "0dcdd4470d284a9e93e4beab9460be9f",
            "8c9d29e0448e467abe41022de8a4d5ec",
            "ab7c9454ff6646708cd72bc49f7c374b",
            "510408615e3549d8a38b552d24971dc9",
            "e127da92414b46cba68d88176411ce17",
            "7cb5f80c2b484d52af7989bc22224be7",
            "628bc21e88a54dbc973e89b40b01ed40",
            "5a7c0311deb04ddc835ce52fd94e14a4",
            "0c6c0cb5263f481eab0e0b048ddea99e",
            "5cf4c7882713450f94916127bfcc8c35",
            "e6aee44160ca43e78ca708d305b3452f",
            "69578df6ea964ea78e00cd6b212aca54",
            "fc9f10b18ace41daa6f3ab3c4fe4b191",
            "14af1fcf2d1448419d89bbc281603f4f",
            "1846cefb105b457987674fd43c1d37d2",
            "728a072ea85341598695dce4d3e8262f",
            "815d33263092418f8dbf6a5b75d5e587",
            "cba23aec594341488182e82ebcbaf7f5",
            "4d25a956bc554a468fd5afca8273b8a7",
            "0eef5719feda45ff8587f1b06cdc7150",
            "7e7fa5a0d8694b5ebe7c38721bc40097",
            "e09054e7433540da8dbe794f6e4db38d",
            "2a651dc76d274ed4b1d38c6ba76a6242",
            "6591200264ca4567ace2ea4452a7919c",
            "879694e2879745d3913d7c971312d5d6",
            "01dfd4acb40d432ba0c1778d95de7a9c",
            "b08ebc6997e847baaeb64f4830f27cbc",
            "aad6e9cd15f9403b82bf50d72de01ed9",
            "dcaac654ee29416eae7942900cb03ccf",
            "125ea5114767432a8def15912b983b58",
            "49620ee60a4340828c98d17710372fbd",
            "317037b906ce430f8a5537fe2df922bb",
            "9d716ecbb4304b97b95915981854949f",
            "6b4c2ea34b144ca18185b059282adc71",
            "e90a766c01a7470faf6dca37973004c2",
            "104f1d767ae141ab954fd533025fac13",
            "30db61a1f4b34f4990e1379afe4e834c",
            "2a63f1a985fc4b928fc521262e411097",
            "0c9abe092a2a41548fc0b0c3fb914225",
            "c131f3aa175e4640a055b7e76320f05d",
            "e5d733367a3f4a96a1df928c915093e4",
            "22e57740a1fd44fc92c1b4c8470ff944",
            "c47a7761c4ae425da29be8502142f0f1",
            "0c90ab655c734de0ac5e4807ccd3ebbf",
            "0217201039af4ee1b6caf68e9b44f438",
            "f5d63166268d43f197a90f7ffc324a5c",
            "ea37caa1d65f477ba267b07ce72e2bc5",
            "1568df178410481eb09fd8d2a3459ca4",
            "a40928239ac049f4a912ce5f6bed08c4",
            "85b0029b451944b3abb9b2c4091ee0bd",
            "0930e9e1daa1435fb9ec6fbe6f2d558e",
            "5aabc6a7793d48cca17b40698c7b0407",
            "8ae4197569674ffe92cee456099f6572",
            "b5842ccb0f8043c8bcd39925ba44a00f",
            "21a81711e1a4442fac60879b51395b3e",
            "8a4cdbbb88234dfb91a1d56ea36b104c",
            "946baedd5fff4f7585409057b6aa2562",
            "605e97d3f77e4ee79c21713214aae519",
            "f751384b501842858b446783438ed194",
            "8ec64457fae341da89848ffca1226cfd",
            "ef923c96f9a44a2db3fbf8044e63a833",
            "5e1d36310ff345f2b066374ac46de444",
            "a76528866a5a4f3d96eee36bbd0a8d0a",
            "e4075714eff14b28ad622f807319a775",
            "fb6cf9d4d72f455c8891e3cee45e23f6",
            "766ee5d95b30406491e0649dbcb3a5d0",
            "f3c3c98387d5467d95553a6d781c7196",
            "f37111f5b22b4b899bd62dd493853b6a",
            "8fe2d051cbfb43a28988971afef462cd",
            "87a64c884f82466385b662d71e407163",
            "5156826203714f3284e47f10be51e64b",
            "d54088a864594022928a980d21d05ff7",
            "72fdb09359984671b12a174922cf8809",
            "eb30386d98ae4d7d98e1f9b30121eb97",
            "1f6bc8580edb4125b62ba13156dc6bb5",
            "a1602859c9854e50ad3bc8d1217d296b",
            "68bf2d559b844f97926d3e800445e730",
            "0110666424654ec68915a6eccf12a168",
            "ee24c71cb0ff422eb7f902c421cad7c8",
            "1ed4dbe69f1843658ecc5d626ee3bfe1",
            "445a2f0d933849c1add4d58e033af970",
            "a23c8f24b7a44a5b8267e3a958fa7bf7",
            "f41a29f265de432b9aeffde2e59a5aa9",
            "dd353e6a63114521a6093abc94c448ae",
            "7a08f9fb15924d5f84746bdc9456ddd0",
            "6c0599c737a24d5da98dbead4239dbbd",
            "8e430a14e5a4402e823cccbaab980a8f",
            "4870772ed23840a18eeae3db88f7dc53",
            "f8ca5162caa5433295515efd607b58a6",
            "e2f9eae75c9041f9ad5542675973d1d3",
            "de501a08034b4ab59c91b2a3d4e07190",
            "59933d427b534932ac86ab637a78ff78",
            "05083c137d2646dea263b4872e6845db",
            "39e8c1c3a5464f639f3b3126b23f8b36",
            "e44c66c51cdf409ca6a2f1a155620569",
            "8611e822baad40aabd40ca0bff9ff7a3",
            "7935023d39dd43c2a77b9a3bbb1c032e",
            "f1470e5ef0d84f679a045d123a00da6a",
            "f4bc297802ef4607ba37217667b4216e",
            "1eb63791efc24ce99cc5e60f9e7bc03b",
            "99aeef507bbe4fbf911bbb34228b5632",
            "c0072d940ec441c8937db46bfafcb2c9",
            "24b7080785a94a498258ec784b0d3560",
            "90a4f124e9c54b2cb62b834d94d5332e",
            "164caad089d1420da1f3707b293f0302",
            "6555820fe3004616a946f8aeb85ca6cd",
            "b7ea55cf4d7d4d0c91fc4c0e919f9f00",
            "f34773e44f8c411d915101a1dd0a21f6",
            "2cf11ef740594b02bf636f70f352b90a",
            "55673062d99247e1ba2b17f98de0e6d2",
            "696ee2b842054eee83ce3241cdb86e22",
            "acff2ebf38714b05b81193d304bc6277",
            "30696199b0014cb59016025418fad6b6",
            "f7c27ed7804143f193b95b5df9f0fe51",
            "d2ea43336c244c978bd7af118d8fd0b1",
            "e521c9ebdd394e4099ddf17e9339f527",
            "eedc03f1114a4180bb6769539bfceba7",
            "e6a9af1f8f054dfbb780e4a3d76c86f8",
            "2a1c38ce51db46b9be121ed82d5b8704",
            "0e105f788390437e80e9bb81aff840c4",
            "45b44ba35ec5456881806677cdf612e3",
            "3d0f750aefe6476792b4e17ce299ccda",
            "87610836a7534fe4b63a296e4ffa6f6d",
            "cf0634546a15410facfff0032b3c856f",
            "b1493de0f7b049868c53fb5c520bfe35",
            "6dde6604711648189018c8cbf09f3744",
            "e09129adaf0145159ddb3b56f7740fc5",
            "504bdbfe186e43e69fdf8c9e649d5082",
            "66696b8a3f584a04bce15765eb5a4560",
            "03649b46e22541788d3f30a24237fa75",
            "e8c0b377733949d79fb28bcf97919ecc",
            "43c21c21d48743c7afc9d304a79d63c2",
            "1c7cd72075e44adcb504204636832b9e",
            "5aa4953f983d4248a2edb24ecca37da8",
            "1e3e0b5f55d04b648167332b7db7d95e",
            "3edfaba59801459c9d999d9440456ea6",
            "58f2cc125f0a41d2ab2e6f1276de582f",
            "2d3c697c4674436a984253cda8535167",
            "da415a308265446ab968c14494b557c0",
            "33768a2b0eb340409cad2eeaf7567e5b",
            "e980ccbca1854f2e95896effa80bfdd3",
            "64c6ebc3d40b487b9a719b04bf10f338",
            "eb26bbc5ffb642f1b62cf514694a6274",
            "fe2dec06cc2049f29a109929af5cfed6",
            "aeac09f20311413f8fa8d565f20fe029",
            "c731d9358bcb45838e12331ae58a8fd0",
            "539c18c71b334d55be0b5e4adfbc3ce2",
            "f1fa4dd202e349c486e6145e61e0818a",
            "100f2deae9f248c1b6b0c464339fdd2c",
            "cefb4b8b5f3b4a44bc4802d90a39df40",
            "a60f015d4d9a40f39dfcc7c057311276",
            "a177411513084bc6b1977c11ac03a8c8",
            "ef5c3e104ce34383843788452e712a99",
            "408aa13c1477471a843cd19d96451a31",
            "db08acab5a7d43f1a9234872aa3411f2",
            "1d055feae86d47e1a0a03fc9f6f30f2d",
            "a36c53653c6847efa05769c5a697fc7e",
            "999f71733ed747da866e14f2afa9ff79",
            "19381d9c11b840f596f05ff95954c17c",
            "58fb7513269c48d8a5eb30741fe2291e",
            "5b6cba42608d40099554c674775ebd99",
            "4798146d4d0e4283a43d0aff87e4f430",
            "4f64246740cc4a73a2dadf1c736ef5cd",
            "118693532b3f48e3890660387e61bdb2",
            "d0d63ab26fec4cbda00b357839baed9e",
            "36454ea81ef940468fb9c67b5522e105",
            "0ee4caab84a14076b0d561ab51b9f857",
            "d40e1008e3ad4643abba01a189a3a50d",
            "bf9422e9054943518be023aae9ef680e",
            "cb25222913884f99a5de1126eb352e2e",
            "044bac074c764f9991339babb59072fa",
            "fe926e5401ee4312ad3278686237c270",
            "e49a46acce7549428d316a5b3a2995fd",
            "338a06359a9f4d7fa18d98bbb6da7724",
            "66fedcf77a73428792ff9d5eeac9bec9",
            "1b001072fd9e4b288fa391b64679a91d",
            "7c285b271cc142d7a52a35b1c6ad1ef7",
            "42e0816df55844c3aca19a21beaede9c",
            "4c92936a30cc4c80b57ce532144f9a2b",
            "82bea20b411b40ac9844459c96145935",
            "ece0cf0a77a8401fa2dc0cf1ed592513",
            "4143a0d008104994ae06b81debfac7e3",
            "694f796255c84e939cba68c5dbd97a58",
            "a3457e2ec9de4dddbd470927477063a7",
            "47f9e3c0ef174608ac73a840e82fd83b",
            "d4849e75dd404e7f995fe7a8a55260a5",
            "8e763729c02844eaa2b97cc94b8b1778",
            "450be392970e4da59b7e60f78022dc24",
            "bd2b2c477a3043888b69be7087fb8576",
            "54308bb1ea274ff7ac8f2685e0c15df3",
            "b27cfff2ad6f41419aeadfcf43d2261b",
            "61418583110f4e5fae50624d43828c09",
            "1d5ced3efb634d2f8387617c711dfc9d",
            "b400ee623487494eae555d0232ff229b",
            "f770f8596e44408fbdf44faa6246b75a",
            "340300536041417fb47760af5d5828a2",
            "52c931188ea044ac9540810b42d29f0e",
            "acb119fa402540bdac1b7285d82b00d5",
            "e71b753e914d443d8b419d57e6978e8b",
            "81162ce540844c178618f0c0b4da51d1",
            "69b1500ef4e441d696013765f02ada12",
            "740cab3e1cf94839ad0336ac0ebb5a02",
            "4467b787d0004600ad1197e4678f7a4a",
            "253dbf30a9694396afcfbcfffebc9e91",
            "ab6cd2120b6a4a5d88b50db3bca950f3",
            "2569e21e43394a46b756dddd41d48c72",
            "a1d784f5f731405eb6670d943edd496b",
            "9cf83c1c1f7b4fa0b7a91a287fcf2b91",
            "639fe04e9db1423785df66662df36504",
            "fc15df21d5db4ce79c896f126904023f",
            "14255d8df22441588c13f0295cd2f718",
            "7c5ecb7990404b1a94267694804925ef",
            "a391969f74374541a22e58acece802da",
            "505ef18ef6114dafb065cafba36882ac",
            "5a59f0bfd36e4a139565fdb3223e58ea",
            "3289c8d619074df9bcde3c92380d3bf6",
            "4f7cb76da55143fa814f8cd059b592ae",
            "aaf24471eab640178d1c7d983deab72d",
            "0de614914fe4443f9ae1ff53b0ea4d9d",
            "fc4d746556824c918e19ebfac00fa080",
            "63eb8f9ffc1c4d91ae6d4ba365518904",
            "2afaee42a6ff482b853ff3d5f6d75c5e",
            "0e124ce5c5394593b4f749a5e2fae4dd",
            "ff9e574f8e0b4cb5bedbf008f542c24b",
            "66c93b2b8a9c45c0a5a9c993468d7807",
            "47c7352dcdf744fb8ac5a52123eb612b",
            "d5631eabee7b4533b5dc18347f8f2945",
            "7b973db6fd39476992ace34f60c70937",
            "d42f4676ecfb487a9051105aeef36f19",
            "a7f0fff130ab431f9227a1bac94183a7",
            "6d7168890dca44c1a15e99a3be73592c",
            "e38fee01bc594a9196ce1c54dad0f783",
            "2d4439f94698402f99028d7b9743a8a6",
            "728c3baa7e3246a993838538c455aa24",
            "02ecf54bee05447ba540f2c730930a91",
            "4b6b3a64ebd744f2932b116a400b8491",
            "ff4ffca625294eebbd747561ab80f884",
            "1c71e58e50104be2aa18addd3f94f26e",
            "8698344dfae7402281832e5772fe6cd2",
            "6fc6ec580a134f69b75f75b836e9f889",
            "4565160687c941f59f8491fa730ee995",
            "1f43516cd0cb496189ad7cb527a52f47",
            "3ba75650c66f411a9f182d6bcec14b02",
            "92d22eaf50fe4e44b435656e2102d7da",
            "eb92965f0eb1413ba7a0fd59826def01",
            "67546731c1ce41e6bbd75c4cf0b7ab4c",
            "183b44ad46754236833e745c0d30aa69",
            "4af2227d8ccc4920ab5f71d25322f5ba",
            "8bab4e95f0c84743a94bf33fb0a37bb0",
            "aaad11754b614195b8ff8f85cc6a02ff",
            "c738988f18ef4f48bc2f7cffb7207062",
            "9cc10e916368421bb1c0c7e536cb4622",
            "d03f09252ecf47338e73aa096db05cc7",
            "2da2312ee10742b6a30b79369973d989",
            "2ba127df5d3e43f38f724c7bdb52edbe",
            "2811af17de3e4327bc3aa6540740211e",
            "bfefd56e88b74ed1a38228bb9f2e84cc",
            "897ff234d02f4cfb85af92e9d8cf8038",
            "0d18d43ede8c4934889f0158c154ca0a",
            "975bd5cc47bb42938b964c2c42604f38",
            "fec6f75e3d724058b58e35f730e755a4",
            "a654cfc8ab964180b2e6189bb9df6404",
            "c022183c6e6e4cb18836fdf95f65c35f",
            "ad0606ca9a0c4fe1ac5bf83e31063a57",
            "87f758d124ec414196934fe2f9e490d7",
            "3300e60bdf5549fd9a8bb4db827f07dd",
            "2884336e28ea4b9198ec135fcd86c038",
            "ec4153e295e54284baae5c09e815b94e",
            "23288a5dc8ec453daafbe3bb669ce2e4",
            "feb82502f3f047aea68288cf9a7cda7c",
            "84d5af0ccb7e476eb11afcfd74c4193d",
            "4fbd6ae77464440eb363e0251abc43b8",
            "0cdd0131c87a468d862e3c8063e9cc2d",
            "6466372b33684bccbc51200467bc2c14",
            "2552fa7da1c749829c15d9a0b5e73bfd",
            "bd706c64bf3a4817bb98e66937f3d672",
            "20fd6d4004fc4a66a58e79d4b09350f0",
            "ca64788201e24405b1bec43a668d79dc",
            "1bf0cb3a142f4bb0ac287c794d597789",
            "6098e78bdd074a04a8e2741aa80a19f1",
            "2b415436e08a4ea5a3c76de81c66cee9",
            "8e5e150a6b424a3895b4796d8a8f3f0e",
            "78ad124c7dbc4193816c1cf3a69c12d2",
            "872e2ed954d64f268bb207b34abc368c",
            "43e4fbcaffe34068b612771fe0065b97",
            "18d4e4107a1b4eb199554c76c3bcf08f",
            "7ad3dac7bccc41579a81e86fc55071f2",
            "ab61ace91bb04f04be4de3da59e1e725",
            "a4d4eed936bd4b44a0e0bb1de91c9d73",
            "25ee1d80f44944a58cee5549245ea0fc",
            "e73d7719d36c4c80a8a8f07c52657a0f",
            "b7565a9eff9b4f9397e9fe7b38b8324f",
            "f0fc0fa1c4f34455bc14e2f245b82a19",
            "3680fa73c6d34eaa99d6716a64417015",
            "7d3fe8cf17ee4ec7b530f2c1f8991ef7",
            "bb8f3fa7656641edb320b1f3384b2abd",
            "dacc9ee2fe4f4d6888af35fa254a9029",
            "1a8f16231bd04bf08761377f3bc76328",
            "205d62a4983a4562ad6c1163d5c389bf",
            "6fe06eee0bdb4048b26997a8bac2c56d",
            "3b3e65628a2443d08c3d1436a4cb9a03",
            "87d05ed65fce41a8a314e2ce03df49bf",
            "0384c450184344649e524692dbd49a9e",
            "90a8fa6f596f4e70b424e124ff66e5aa",
            "00769fe96d0e43de93ec71d85c84f949",
            "89d93eb4d0db452db6eb6a6e9018786a",
            "ef5e5814e3294929ad6118473e01d2ab",
            "ef3f437cedaf4c69b41369dedceeb5c3",
            "8d9ef3d1d7ce41ee9099db8c65b473b8",
            "07c776fb5a54482c8426a95389fdd7ca",
            "b54028f5a2b54b74b4fde3262f9c711c",
            "69d36eb801ec45ac88307b4ea9a9a7e9",
            "c67c44b9fe844c75b9cb43e11d0a4de3",
            "2b7a493e63304691afaf58302a64ac60",
            "7354ea8571fe4b8d8f1c14f5946842d5",
            "84499bb0ab9c40ef820e763bfdcde3f1",
            "b9648001af2f4a6eb70eb9473c5815c3",
            "32929bb31f5f42518c405bf4424c053c",
            "945c97d54b9f4b6dba7c96bbf75d794a",
            "906d3a2ab07044a7bd352e8dbc16e97a",
            "19f9f00054644d7fa91cfd9e4cee9a1d",
            "5a62ade3dc024e32a080948e9443e694",
            "6b81b592232d49f3a9a25c8e59d7bae0",
            "ff16f9778a764d5c98bf44158f0c0e86",
            "181377e3dd4141d89819c90376510219",
            "1a17a891c9974110aaecbe76f05ef35f",
            "17dbad3007fe4c10bc30c028b4f86db1",
            "d03a7d76cf89401ea7526dc3fb75dbc2",
            "f941f09e10644ca4bd048294dc6383ce",
            "59938402dd854beb84e97b6a6737fd6a",
            "cfdfa4e1f3aa4af28693115591656f93",
            "c2f2afd05aa5448383d0d4a2b15236d2",
            "a0b2e8cfd9ff4b7ca6891f3ec3c4db46",
            "5d93d1aa21e24c619d79eb3745f91532",
            "2fe950bcc4e54923afdb2cffe62104c5",
            "ab994358e159419ea9820966e1896e30",
            "9fbd4766e5c54cfcaca5e6560a133694",
            "a1290bac933a403abe0f76638d42ef58",
            "5ce6c17538bc4525a58a8f0e1f04d10a",
            "5c131effc52941c1b3f7de7690ffe4f1",
            "729926e353504b5ea3d45c7ab4a1d389",
            "d2322c5a014942c7acfda8c24af8cf09",
            "f296a4bfa3104c3c9ecf804cee74a472",
            "07f9b400a6844fe8bda855575fbe6ef4",
            "c3a0618e2e734f1a833a1db887801bd0",
            "3c3914e02da542559790ab60b7547d27",
            "6f48bf0d09094865ae387aa4a556bc73",
            "a230ecad89ad43d88149179e07894312",
            "a590e351e1c44b4e9984898e60f08818",
            "2528d09b03d74867bc518741a4166cb7",
            "32430b3b3ea84d37b6ad40ba61b624e8",
            "4df41a8e9b5346d780d6103da74178ee",
            "648a09a7325548469821dd3bb37f9bf1",
            "19ea50d0aa334722a8dbe45459ed3932",
            "794341e41d5947bcbec2d8cacabba658",
            "e63ad4ff881e4f04bf35606c3ddd1d90",
            "8ef30405211d46909f386f74d1b41eba",
            "4749fb06b003444c9ba1eda4603f95bb",
            "78142b82e9a14023aec976b86f61dc3e",
            "3d5aa39f12f046c3a1c57e8e3a71cbfd",
            "a2278517e41f49a1b24bf554ab2c5c61",
            "3bbcbc3046f6431685d6a5cfe01d22c2",
            "0fd66d66da2b40ca8d43449626f7c06f",
            "378a0da544a047ca86a9edea687a0707",
            "5ebe9c81995b4b0ea0c6011cd651ecf7",
            "52c69528fe9740318c32d8a921bd0e11",
            "4761b360a5364985b3495555e320bf91",
            "7d9a33593ccc4434b2315c46619a3733",
            "a5f5f4ea86ac4e11a37b73d54b597519",
            "10c3b980c0f346449cea679f0419b6ce",
            "f0163bc3a0db4b7ea9961aeb681aa835",
            "f42e8760457646e7a5ee6d438b2830bb",
            "7f5b4f6a3ad34786a592a6079c83f436",
            "79d11d9d96e14b5182c5375d2091bb17",
            "1c3fa454d42b43d69e2b2df9c367731e",
            "852527cfb31443b199709f1b95f9fe27",
            "7568cc0ace5443f1b31109f664c940ae",
            "730a1682bd9a495ebccd3e5ac4bdf02d",
            "21afe2df16b345878b1182e6d7ac7da5",
            "e76a57ad33694d47ad233cbd0ea887eb",
            "2d2510056abe474592c1a2fe82afa7ce",
            "ded41322b18641048c388c385b350240",
            "b269b8dd18504806ba9bb69ec297e289",
            "6bb4a52d490149229070e96fcc04abad",
            "e835c39f739848fe890e7db520ae6efe",
            "85382ece1c744b819bab6a28e6a43d24",
            "742609ac0aec4e57badc3c9b26db96ef",
            "9e31d233153244d98a6ae3977031fe5f",
            "7111900eb1ff4a7795e2891b432e34b1",
            "6b2c3d5439924191903a7ec6331411a4",
            "ba18191f88b34fbd8eec684fa3892d80",
            "fa243c5499e441f9a1ad8f41bb0f8a83",
            "720b3a3993f14cc685ff189e5b89bf40",
            "a58905e5597c46ce89d06e0f0976b2ed",
            "b2a81460deb4421eafa2a0db7b2069d9",
            "652e3b19d6f9425e8fd3effe7da85fbb",
            "c5938c6ed2484a5bb7ee456b5caba5dc",
            "87a7906b05c5401ea105b20ff686e937",
            "849fa069eecc4f5f8ec4f05cac9694b1",
            "396cf270c448441781d2264da9417646",
            "ff55ce632df243fd930ef7064d102b5e",
            "60b78ae0816e48e9811dc9f6149e0c83",
            "c77361f8e9a2475a962f9e7297905fa7",
            "997bce027a444c1fb78f56dd3fe75c5f",
            "65f485dd2ff64d3eb7a65663463462e5",
            "807c089675664c4b8bf5d6905ebbd940",
            "2460346f1e5b4fe79a5dbc9ea2b9a79b",
            "3f34b71b8c974da488a700b4e615d247",
            "5f72b5f96ecf4d6bb33f7ea0426d326e",
            "38d8b0d7ea45482c85ac4c487afe2f0e",
            "44b71c35281445a3a02dd2cee4f7df63",
            "e45b7ec7a3814af4b0576e63330d9fc3",
            "7a38aee061bc46639bdbe39221da6b08",
            "0b6b26fe119541109a06b3c5900bc90d",
            "e40ae82afff7483ba0c8176e29df5542",
            "49d27d56aaf24fc38f78c852a5df2607",
            "e5444b4d45a545d9a1c87e10ceb62986",
            "3988fe9bae394a65ae0ad57cec3e3b98",
            "ef483d93ea7044cab1b209cde14e2dc5",
            "7245482a7f694a1a939cf2a1b5df6729",
            "9f68f81113b847bc91df798a41f56bdf",
            "69aca476676b473884074d8d982bd6dd",
            "0614a69eef14431c93898304305eb04e",
            "f8366ff72c2d4d90966facdf390ea897",
            "b438ebf4e46144fbb17ed9a4e3f864a9",
            "6366bcd790e04167a8e0c7a068020b9c",
            "bef63dddc4d04705af59a23700540c00",
            "5f182c08d232456d96f12e73cc8035b2",
            "66d1d4fa3a8741c49823b9fc6a3745d7",
            "3b2147e15ee44a8a9c3f905d35074b6a",
            "f9f0e3211c3f4585a9ebef4d2cdbcf0d",
            "0cc52578e9e34832acd7a865ec00cd72",
            "ad3d7557a02d4337a3508216b027942f",
            "d8bb58e9a4c145a99a18cddc36d8c22b",
            "e996ff9b1d0f433fa59197ed59a43c2d",
            "f15e6f6eed06422dac0b0606c1a0c494",
            "1b6c3c017e874af88fe17ff8fe7f6bc4",
            "cd92f6887a2a4b8e8b4a543f13a6314d",
            "f1e3caef4de441f7a3803486164c2907",
            "cdd99744cdbb4f0ab46c38f2bbabb634",
            "e7e4f1dc1c67427cbfa7bd59410fd80a",
            "555bb4843b214f46b5455cf41c915982",
            "1af6243cf2c74b569ed6fa1e76a541bf",
            "1ec116d5a572405caaeedf66ee8baf09",
            "fef4956aa5ff41c287667291eee7bd5f",
            "902fd8fecb404538b0d1045a36e410e8",
            "54c9086890794852b0d1b8e74795771e",
            "048f9bb54e2f4802a12b56fe21a4dbcf",
            "e082f9b557a74a2486fe839f7ea165d2",
            "79c6fa3bb9eb46ba922d7dc8be54b6b0",
            "8352e87345904f688a240db855a139ee",
            "834a0def9914444a9870a1f107143a3a",
            "dcba608c5b894950868770873d8e40cd",
            "121091d942394e4f91fb98c752d0bcd9",
            "0ee24d72dee44a51aa3c5154894a4afa",
            "eee65f8229bd4e83a8817e64f9fca963",
            "8a4e188282424dffbda02460d0e07e37",
            "a61ab6723e8f43248af99e230e84c2ef",
            "52c8e3303d1b499ebdd67f4be4555a24",
            "e006746b3b2d4f989cb79d1845c4fb33",
            "e519f175f384484abc1c76da99eb8d9e",
            "cec05ae6574a4de0ba79a72f844db59b",
            "915aebc553f6429f8e0aa3fbd06c9b82",
            "8464774fa28740a6afb989e0771ce025",
            "25fb9973f2d94ecba27829d39269b4e7",
            "0efa761ad2c0487dba14ca27f76c42a4",
            "a43bfcb44c9346319393ba8d4d10e828",
            "bab6e7d3032941f5b1b9bea6428b6098",
            "675f28e099e145e888863ec832a10d39",
            "6d8154f1d7be46cfbda8d0439303009c",
            "309f3bdee6df4bde924f4e280767fe0b",
            "6319d2c6d1ab4f0ca8c5ee44fcf6a754",
            "3d88b7d861fc4b388ea22f5ab0bc84ac",
            "5d73ec1be4cc4dfda60f66add2e2991e",
            "c59087755cc34f848b1e4867d24291c6",
            "2c32536135f64338b43ed3838e5a6ae9",
            "fc529972b0284a1bbf6c9be89a1eb06e",
            "4729b5316cf64a86afe9dbadbd73d8fc",
            "0fac37ed00804bfe9fd2bfd261cab0c7",
            "51ef3b6ca1ed4cecb4875a3f8172105e",
            "177825dc65594ea181372194266c0526",
            "cc96f51bfcbc4f8990897db88b7b7ddf",
            "8798e4fee076470b9b69e39e537ee46b",
            "40931937f11e415598e78e94c67b23f4",
            "6ff15272925741989a14f7257fdbe51c",
            "5bfb4941c2114d4c899cc9b3660517be",
            "cb8e5d0b0ce145048dcd4063dcb7b147",
            "d921255436f84b5493cbff000ba496c4",
            "7f8211de63ee4d8d811e95f8f50105f3",
            "8e40ae67297645aeb725bfc3eadbc459",
            "94cc1f1ae66d44ac83f3fec118910129",
            "2fd36f8364854d3d8ca6f799e2c5532b",
            "07d4fd581e92488a9df70e91689eebe3",
            "2aeed10925f94eb09d53e5a11857e935",
            "ecf81cca6d854198833894e0cca19bbf",
            "5c0068d1b96d4d6d8744a9efe99e8f2f",
            "0e7b6f8f2c584a96a7efad59261635bb",
            "cdb87ebbe24f438fba2f69053d0144e9",
            "6b1c4674aa6f4d9f936560257cfa57da",
            "cfab0afa7b3d44dca8919c35f185589b",
            "6dc5e648b539488baf5a9cf82a4f57a1",
            "0092869c74cf46e7bca800d263252501",
            "07ea42151b9a45fab89d57315daf543d",
            "ff8bd474e5074993b312d610e81efe45",
            "d96490ee06fa474bad5c7c91afcedf64",
            "608668fdacfa4228b0ce8c78b98b547a",
            "82f1be14f0a7479ebf50bc90f3163891",
            "b568fb4a9a24499592fab45f765614bf",
            "f82357f8d6324c47889edf8e04c91902",
            "b32fa53159b7497d8b0ab641dfffc0d2",
            "9805697c552d4d75855503a216635c59",
            "d87a24d51c4a4073894fbc9dedaf619f",
            "7b6f05a45f214a13bc244f4106535d1d",
            "c414239517c24201853469e8b6f78c93",
            "f48a9ebeb8dd46b2a71d1d5f447e9d98",
            "bd5879b7747140b4a043ef2910a3e171",
            "7c78525afe9d411888bf3c88d9fb9090",
            "41cb0e984b2e44ad9ab7d10592ee3f74",
            "50bd7c548bc543979fb83d65e8031cfa",
            "091942913666438f86e099213526ef8e",
            "b5226db5d90e46ffac8f9f0a4b784e36",
            "775c63ae9b284faeb02db51f99c8fb9d",
            "1a71bc95fac74c2aba4ab1335d0d631a",
            "86708ee191fb4a82a649466387abf6db",
            "20f67a51285f462fb5570a7324b86d07",
            "97a544e1eb7e4704b5f2eb0b75218899",
            "38e5cb3caf7f46fb8dbe121d0d87eb72",
            "bad5380ba2644f7993b622b94ce0844f",
            "4efa1b611b404728bee5d39463b6553b",
            "784133533d0b4b0da7a78bcb015ddb08",
            "c4d3cd9fbb4249a190c0555980e859e9",
            "c4cb12fb4af34ff2abfcaf1fddb0236f",
            "3936a06845c24506b8066a5feba110bd",
            "00baa452d701409ba4dda0d72bd414b2",
            "73e40eee97e641fd967cb74a21500ec1",
            "c8307d1c3d074874bd6618df25791b62",
            "bfcc04fb427e49888dc259e0228d8903",
            "49c6a93d5cfd41698672834a4a348bd5",
            "3efe15570f4c410aab2934b6983fdbe0",
            "978dc2cf3c834880966d92bd9990505f",
            "e08ecaf1e98c4ca3a074848e08cee254",
            "d48f1dd2135f498cb3bb5926ab0fc5cb",
            "8927da756a134b5e8c577b72078e60a1",
            "1f593f1a6efb466bbed1ab4427c3a5e1",
            "3fad277d27034270ae109a48a5e90448",
            "8dfb069c167043bbb08147d91c00dfe4",
            "f9ad512ba5bc4711931193f1185def3b",
            "fff2370d9b144771b6b46e253536c569",
            "d87e865de247491ab22c38a51ee59d97",
            "24e420dd7c3b4ce2b6cdd5632c29dbb7",
            "a3df5af294914009b9732f181700877d",
            "23e9e8b1c7464638812f00e1c2e6e146",
            "b75d48437a9a41c8967dc1d0fde604e7",
            "a0b42fa1c5dd4d6287374796641cf9c7",
            "ed052843d75a4af5ab10889001f0386f",
            "0d287ac021874e5487247c7352ccdfa0",
            "b2ea5fa4f00740dfab233557649338b7",
            "0def78deab7e4dd4876a8f6b4f759444",
            "3690b53243c74290966289db801140cb",
            "5bee5121b42d4e71be03809164a0c9f0",
            "f66740fa39de4974bae2432daf8c1102",
            "af7fee64b477441baff41fa363506084",
            "5aee10b89734422586984c99b46b64f0",
            "b0f9580e7a404d7ca4e49d0b95df4834",
            "2a019b8f621847779a8099ec9e16b023",
            "d868bda89c9a4fbea0b609d0eae549a6",
            "e091f8058c724db7998af1912bd4ccb3",
            "56e5314715cf4d029b61e17ff9076e7a",
            "79a63061ca964ff2937dd8498aa1c068",
            "3a8a5936ec9d45f28dfec5eddacba695",
            "5acd0ad2add64f2fab44514714bce760",
            "42586e07b1934f309b5b259f21c972f1",
            "3e334317ecf34706b3231cd4dda6fa16",
            "76dc1b2c922a4523bbf9f66b0ab21e8b",
            "98cc374e6baf417c8aa40c9af27fb741",
            "90a617f2ea7f4f5b9e5e9db3d5fd2dcb",
            "7fb965affd4a4637bd4b76bbefd3e3aa",
            "f2cf64266e2b4bd58d0fe026005613e6",
            "980e162ca57640b0994d0697ee730a7f",
            "5a425f514c094cefbdf231692869c5f4",
            "26e0d44575724c18a868bfc87c277846",
            "df8d25666c624c429c66ff6c186b2322",
            "b7ab1360e785410cbe9da1c9cf7d53f6",
            "9a131cb83a714a6194e51a02847ca4b1",
            "482697b27c904dfda118b616a534f68d",
            "6aafa959ad3943059e748dcf3b956531",
            "130e702511724da99414576d9204aed6",
            "6d00d4a3c8a74656a11107a95493cec0",
            "f1d14294450844cea2a47116ba53a801",
            "5fde920b1fca4af3a44e39dc9f4aafee",
            "28695b7789e1429f894f2f36c3a81c7b",
            "b495fb077e1648d38dbf3a7aa8e16966",
            "847f778f066749a38d6e49690d9e6435",
            "409c1c3d58b542e8aa01f9023ca4af9a",
            "218b99e19faa4209af765e710892ea17",
            "eb979cd02ca943608860152dc8488fd9",
            "625ce1e1b34a48e18bd7c30520157c57",
            "f6527f6094d4450f9486c73ef8ac6266",
            "e83bef25449d4df88dc426c0050067f7",
            "b1f32b50d3d344b7af386b224b1c3139",
            "48fbf59f256841bbbfb9e85aa9b9ab45",
            "a68bf6da02cf4be0b98e1d918998b8fe",
            "8658bf2aff9c4eb3b28e6c9b892f6d93",
            "3105de9171b04f318a5518feaab095de",
            "1f701e9eb9ed4b99b3b5fba157b8e33a",
            "663d24d2c09f466ca8172108e898a8ea",
            "cb9dd3c87d3149819ab728e03dba2c14",
            "bf615554aa0846c7ac71538a89e6603b",
            "646454eb80ac4aa4b44ccb4036ddd2a0",
            "6279ef7625d642c1a90cb4a54dd33e16",
            "73ea342e70cd41c988b03ee3e9fc7f81",
            "a0c3834420f442c0bfc9e2a06c993436",
            "805ef0946229428fa1a9c3462a6c878b",
            "86aa091b27df4a7d922fef5a028df9ac",
            "41b3f3192d20418694c426766c54d34d",
            "e9d40ef7733444ef8e136129890c5006",
            "83360549931148a1bf1efb5966fa2916",
            "cc7531ac5fef4b71b76f479170f6e73f",
            "f1c8a73ef25d4213bd4ea740d4a34fbd",
            "1f13aa22f95a438fa1a0c729047e1f75",
            "e387f2666de34c0e8a449685baab3436",
            "3a50008a3ecb492e9936feea9ad12e23",
            "f07b035b846a4502a3312d6fee264dd1",
            "eb0ce150a1ae4fc8885637a618de9041",
            "8ae1029e4f024dd69b5fd122d1e1d20b",
            "748a67e9cdd64847af466c47ff387ca0",
            "fe80f3a62d6c40c78c58577afdc38e21",
            "5edbfd764dfe4ca2a23f0d16e794c4d6",
            "7d18567c0e0e4055834e141c604bea1f",
            "b42cb269586c4b7a8cdce7ffefb38945",
            "44e07c6711744dae83a33f400998e99c"
          ]
        },
        "id": "NNdyjROeDhyK",
        "outputId": "f3867be8-ad13-4ff9-d6c1-e94028a98c5c"
      },
      "outputs": [
        {
          "name": "stdout",
          "output_type": "stream",
          "text": [
            "Running Transformer experiments...\n",
            "\n",
            "==================================================\n",
            "Running Transformer experiment 1/3\n",
            "Hyperparameters: {'hidden_size': 128, 'n_layers': 2, 'n_heads': 4, 'pf_dim': 256, 'dropout': 0.1, 'learning_rate': 0.001, 'batch_size': 128, 'clip': 1.0, 'optimizer': 'Adam', 'scheduler': None}\n",
            "==================================================\n",
            "\n",
            "The model has 3,121,802 trainable parameters\n"
          ]
        },
        {
          "data": {
            "application/vnd.jupyter.widget-view+json": {
              "model_id": "2f376a04ca8c47f8b85b3ea0a5e10839",
              "version_major": 2,
              "version_minor": 0
            },
            "text/plain": [
              "Training:   0%|          | 0/79 [00:00<?, ?it/s]"
            ]
          },
          "metadata": {},
          "output_type": "display_data"
        },
        {
          "data": {
            "application/vnd.jupyter.widget-view+json": {
              "model_id": "fb09345c0e324f6a9afc94f54506b99b",
              "version_major": 2,
              "version_minor": 0
            },
            "text/plain": [
              "Evaluating (val):   0%|          | 0/1 [00:00<?, ?it/s]"
            ]
          },
          "metadata": {},
          "output_type": "display_data"
        },
        {
          "name": "stdout",
          "output_type": "stream",
          "text": [
            "Epoch: 01 | Time: 2m 3s\n",
            "\tTrain Loss: 7.733\n",
            "\t Val. Loss: 6.502\n"
          ]
        },
        {
          "data": {
            "application/vnd.jupyter.widget-view+json": {
              "model_id": "e9154a050fd1444aab158fd206db4990",
              "version_major": 2,
              "version_minor": 0
            },
            "text/plain": [
              "Training:   0%|          | 0/79 [00:00<?, ?it/s]"
            ]
          },
          "metadata": {},
          "output_type": "display_data"
        },
        {
          "data": {
            "application/vnd.jupyter.widget-view+json": {
              "model_id": "2085d4e70c03458b80c7f6db1e2e8e87",
              "version_major": 2,
              "version_minor": 0
            },
            "text/plain": [
              "Evaluating (val):   0%|          | 0/1 [00:00<?, ?it/s]"
            ]
          },
          "metadata": {},
          "output_type": "display_data"
        },
        {
          "name": "stdout",
          "output_type": "stream",
          "text": [
            "Epoch: 02 | Time: 1m 47s\n",
            "\tTrain Loss: 5.830\n",
            "\t Val. Loss: 6.015\n"
          ]
        },
        {
          "data": {
            "application/vnd.jupyter.widget-view+json": {
              "model_id": "8ba25293f9a245e5a572440e0d30b90f",
              "version_major": 2,
              "version_minor": 0
            },
            "text/plain": [
              "Training:   0%|          | 0/79 [00:00<?, ?it/s]"
            ]
          },
          "metadata": {},
          "output_type": "display_data"
        },
        {
          "data": {
            "application/vnd.jupyter.widget-view+json": {
              "model_id": "5205dad75b284e92898de5dc2015e7d7",
              "version_major": 2,
              "version_minor": 0
            },
            "text/plain": [
              "Evaluating (val):   0%|          | 0/1 [00:00<?, ?it/s]"
            ]
          },
          "metadata": {},
          "output_type": "display_data"
        },
        {
          "name": "stdout",
          "output_type": "stream",
          "text": [
            "Epoch: 03 | Time: 1m 46s\n",
            "\tTrain Loss: 5.510\n",
            "\t Val. Loss: 5.816\n"
          ]
        },
        {
          "data": {
            "application/vnd.jupyter.widget-view+json": {
              "model_id": "d7eecb17fe07407d958251a915efe7c5",
              "version_major": 2,
              "version_minor": 0
            },
            "text/plain": [
              "Training:   0%|          | 0/79 [00:00<?, ?it/s]"
            ]
          },
          "metadata": {},
          "output_type": "display_data"
        },
        {
          "data": {
            "application/vnd.jupyter.widget-view+json": {
              "model_id": "5de458807c8046048527d45457255035",
              "version_major": 2,
              "version_minor": 0
            },
            "text/plain": [
              "Evaluating (val):   0%|          | 0/1 [00:00<?, ?it/s]"
            ]
          },
          "metadata": {},
          "output_type": "display_data"
        },
        {
          "name": "stdout",
          "output_type": "stream",
          "text": [
            "Epoch: 04 | Time: 1m 49s\n",
            "\tTrain Loss: 5.147\n",
            "\t Val. Loss: 5.467\n"
          ]
        },
        {
          "data": {
            "application/vnd.jupyter.widget-view+json": {
              "model_id": "015021874d464376a94d5f62fe2525bd",
              "version_major": 2,
              "version_minor": 0
            },
            "text/plain": [
              "Training:   0%|          | 0/79 [00:00<?, ?it/s]"
            ]
          },
          "metadata": {},
          "output_type": "display_data"
        },
        {
          "data": {
            "application/vnd.jupyter.widget-view+json": {
              "model_id": "ea68380f9e044c469023acf4580c408a",
              "version_major": 2,
              "version_minor": 0
            },
            "text/plain": [
              "Evaluating (val):   0%|          | 0/1 [00:00<?, ?it/s]"
            ]
          },
          "metadata": {},
          "output_type": "display_data"
        },
        {
          "name": "stdout",
          "output_type": "stream",
          "text": [
            "Epoch: 05 | Time: 1m 46s\n",
            "\tTrain Loss: 4.688\n",
            "\t Val. Loss: 4.980\n"
          ]
        },
        {
          "data": {
            "application/vnd.jupyter.widget-view+json": {
              "model_id": "3c1b37d268874872adc11d66303056aa",
              "version_major": 2,
              "version_minor": 0
            },
            "text/plain": [
              "Training:   0%|          | 0/79 [00:00<?, ?it/s]"
            ]
          },
          "metadata": {},
          "output_type": "display_data"
        },
        {
          "data": {
            "application/vnd.jupyter.widget-view+json": {
              "model_id": "10d560bd291546838cb2a65389e919ce",
              "version_major": 2,
              "version_minor": 0
            },
            "text/plain": [
              "Evaluating (val):   0%|          | 0/1 [00:00<?, ?it/s]"
            ]
          },
          "metadata": {},
          "output_type": "display_data"
        },
        {
          "name": "stdout",
          "output_type": "stream",
          "text": [
            "Epoch: 06 | Time: 1m 47s\n",
            "\tTrain Loss: 4.142\n",
            "\t Val. Loss: 4.440\n"
          ]
        },
        {
          "data": {
            "application/vnd.jupyter.widget-view+json": {
              "model_id": "c2ee7d56f36b40cb9b07946d90bc4923",
              "version_major": 2,
              "version_minor": 0
            },
            "text/plain": [
              "Training:   0%|          | 0/79 [00:00<?, ?it/s]"
            ]
          },
          "metadata": {},
          "output_type": "display_data"
        },
        {
          "data": {
            "application/vnd.jupyter.widget-view+json": {
              "model_id": "c1c1d1f3245b4012aa216f8fa9301406",
              "version_major": 2,
              "version_minor": 0
            },
            "text/plain": [
              "Evaluating (val):   0%|          | 0/1 [00:00<?, ?it/s]"
            ]
          },
          "metadata": {},
          "output_type": "display_data"
        },
        {
          "name": "stdout",
          "output_type": "stream",
          "text": [
            "Epoch: 07 | Time: 1m 46s\n",
            "\tTrain Loss: 3.645\n",
            "\t Val. Loss: 3.851\n"
          ]
        },
        {
          "data": {
            "application/vnd.jupyter.widget-view+json": {
              "model_id": "d76f36edd15e48dea4a561f2a906245f",
              "version_major": 2,
              "version_minor": 0
            },
            "text/plain": [
              "Training:   0%|          | 0/79 [00:00<?, ?it/s]"
            ]
          },
          "metadata": {},
          "output_type": "display_data"
        },
        {
          "data": {
            "application/vnd.jupyter.widget-view+json": {
              "model_id": "c7e5417f9f7749a5a9da305f3ad82304",
              "version_major": 2,
              "version_minor": 0
            },
            "text/plain": [
              "Evaluating (val):   0%|          | 0/1 [00:00<?, ?it/s]"
            ]
          },
          "metadata": {},
          "output_type": "display_data"
        },
        {
          "name": "stdout",
          "output_type": "stream",
          "text": [
            "Epoch: 08 | Time: 1m 47s\n",
            "\tTrain Loss: 3.108\n",
            "\t Val. Loss: 3.250\n"
          ]
        },
        {
          "data": {
            "application/vnd.jupyter.widget-view+json": {
              "model_id": "73eba1cd317a473da4bbe19077184a49",
              "version_major": 2,
              "version_minor": 0
            },
            "text/plain": [
              "Training:   0%|          | 0/79 [00:00<?, ?it/s]"
            ]
          },
          "metadata": {},
          "output_type": "display_data"
        },
        {
          "data": {
            "application/vnd.jupyter.widget-view+json": {
              "model_id": "0dd8bc7e816a46e8bf6af525a14e0dbb",
              "version_major": 2,
              "version_minor": 0
            },
            "text/plain": [
              "Evaluating (val):   0%|          | 0/1 [00:00<?, ?it/s]"
            ]
          },
          "metadata": {},
          "output_type": "display_data"
        },
        {
          "name": "stdout",
          "output_type": "stream",
          "text": [
            "Epoch: 09 | Time: 1m 48s\n",
            "\tTrain Loss: 2.660\n",
            "\t Val. Loss: 2.800\n"
          ]
        },
        {
          "data": {
            "application/vnd.jupyter.widget-view+json": {
              "model_id": "dda48fc0d76b4ccda6bf7fbc8a08aa73",
              "version_major": 2,
              "version_minor": 0
            },
            "text/plain": [
              "Training:   0%|          | 0/79 [00:00<?, ?it/s]"
            ]
          },
          "metadata": {},
          "output_type": "display_data"
        },
        {
          "data": {
            "application/vnd.jupyter.widget-view+json": {
              "model_id": "9cc459e20ee8497ab7e23d15f2f2aa03",
              "version_major": 2,
              "version_minor": 0
            },
            "text/plain": [
              "Evaluating (val):   0%|          | 0/1 [00:00<?, ?it/s]"
            ]
          },
          "metadata": {},
          "output_type": "display_data"
        },
        {
          "name": "stdout",
          "output_type": "stream",
          "text": [
            "Epoch: 10 | Time: 1m 51s\n",
            "\tTrain Loss: 2.278\n",
            "\t Val. Loss: 2.459\n"
          ]
        },
        {
          "data": {
            "application/vnd.jupyter.widget-view+json": {
              "model_id": "e015b1a005714583ba6ea4f639a4809b",
              "version_major": 2,
              "version_minor": 0
            },
            "text/plain": [
              "Evaluating (test):   0%|          | 0/1 [00:00<?, ?it/s]"
            ]
          },
          "metadata": {},
          "output_type": "display_data"
        },
        {
          "name": "stdout",
          "output_type": "stream",
          "text": [
            "Test Loss: 1.956\n",
            "\n",
            "==================================================\n",
            "Running Transformer experiment 2/3\n",
            "Hyperparameters: {'hidden_size': 96, 'n_layers': 2, 'n_heads': 4, 'pf_dim': 192, 'dropout': 0.1, 'learning_rate': 0.001, 'batch_size': 256, 'clip': 1.0, 'optimizer': 'Adam', 'scheduler': None}\n",
            "==================================================\n",
            "\n",
            "The model has 2,219,818 trainable parameters\n"
          ]
        },
        {
          "data": {
            "application/vnd.jupyter.widget-view+json": {
              "model_id": "d0bf072b348a43f4adec91d68e52d913",
              "version_major": 2,
              "version_minor": 0
            },
            "text/plain": [
              "Training:   0%|          | 0/40 [00:00<?, ?it/s]"
            ]
          },
          "metadata": {},
          "output_type": "display_data"
        },
        {
          "data": {
            "application/vnd.jupyter.widget-view+json": {
              "model_id": "7a43283d8a7d4748abac77cfc8e34bd4",
              "version_major": 2,
              "version_minor": 0
            },
            "text/plain": [
              "Evaluating (val):   0%|          | 0/1 [00:00<?, ?it/s]"
            ]
          },
          "metadata": {},
          "output_type": "display_data"
        },
        {
          "name": "stdout",
          "output_type": "stream",
          "text": [
            "Epoch: 01 | Time: 1m 53s\n",
            "\tTrain Loss: 8.409\n",
            "\t Val. Loss: 8.057\n"
          ]
        },
        {
          "data": {
            "application/vnd.jupyter.widget-view+json": {
              "model_id": "d9467060816c48f28643a22bb284589e",
              "version_major": 2,
              "version_minor": 0
            },
            "text/plain": [
              "Training:   0%|          | 0/40 [00:00<?, ?it/s]"
            ]
          },
          "metadata": {},
          "output_type": "display_data"
        },
        {
          "data": {
            "application/vnd.jupyter.widget-view+json": {
              "model_id": "90c2c173ec1d4b0889ab95dbcb91890d",
              "version_major": 2,
              "version_minor": 0
            },
            "text/plain": [
              "Evaluating (val):   0%|          | 0/1 [00:00<?, ?it/s]"
            ]
          },
          "metadata": {},
          "output_type": "display_data"
        },
        {
          "name": "stdout",
          "output_type": "stream",
          "text": [
            "Epoch: 02 | Time: 1m 51s\n",
            "\tTrain Loss: 7.307\n",
            "\t Val. Loss: 6.723\n"
          ]
        },
        {
          "data": {
            "application/vnd.jupyter.widget-view+json": {
              "model_id": "a24f3a902e134c379d285aa2230b62c6",
              "version_major": 2,
              "version_minor": 0
            },
            "text/plain": [
              "Training:   0%|          | 0/40 [00:00<?, ?it/s]"
            ]
          },
          "metadata": {},
          "output_type": "display_data"
        },
        {
          "data": {
            "application/vnd.jupyter.widget-view+json": {
              "model_id": "5086ac10a26e463f9d833206c22e7464",
              "version_major": 2,
              "version_minor": 0
            },
            "text/plain": [
              "Evaluating (val):   0%|          | 0/1 [00:00<?, ?it/s]"
            ]
          },
          "metadata": {},
          "output_type": "display_data"
        },
        {
          "name": "stdout",
          "output_type": "stream",
          "text": [
            "Epoch: 03 | Time: 1m 52s\n",
            "\tTrain Loss: 6.124\n",
            "\t Val. Loss: 6.135\n"
          ]
        },
        {
          "data": {
            "application/vnd.jupyter.widget-view+json": {
              "model_id": "e127da92414b46cba68d88176411ce17",
              "version_major": 2,
              "version_minor": 0
            },
            "text/plain": [
              "Training:   0%|          | 0/40 [00:00<?, ?it/s]"
            ]
          },
          "metadata": {},
          "output_type": "display_data"
        },
        {
          "data": {
            "application/vnd.jupyter.widget-view+json": {
              "model_id": "728a072ea85341598695dce4d3e8262f",
              "version_major": 2,
              "version_minor": 0
            },
            "text/plain": [
              "Evaluating (val):   0%|          | 0/1 [00:00<?, ?it/s]"
            ]
          },
          "metadata": {},
          "output_type": "display_data"
        },
        {
          "name": "stdout",
          "output_type": "stream",
          "text": [
            "Epoch: 04 | Time: 1m 47s\n",
            "\tTrain Loss: 5.721\n",
            "\t Val. Loss: 6.053\n"
          ]
        },
        {
          "data": {
            "application/vnd.jupyter.widget-view+json": {
              "model_id": "b08ebc6997e847baaeb64f4830f27cbc",
              "version_major": 2,
              "version_minor": 0
            },
            "text/plain": [
              "Training:   0%|          | 0/40 [00:00<?, ?it/s]"
            ]
          },
          "metadata": {},
          "output_type": "display_data"
        },
        {
          "data": {
            "application/vnd.jupyter.widget-view+json": {
              "model_id": "2a63f1a985fc4b928fc521262e411097",
              "version_major": 2,
              "version_minor": 0
            },
            "text/plain": [
              "Evaluating (val):   0%|          | 0/1 [00:00<?, ?it/s]"
            ]
          },
          "metadata": {},
          "output_type": "display_data"
        },
        {
          "name": "stdout",
          "output_type": "stream",
          "text": [
            "Epoch: 05 | Time: 1m 49s\n",
            "\tTrain Loss: 5.582\n",
            "\t Val. Loss: 5.924\n"
          ]
        },
        {
          "data": {
            "application/vnd.jupyter.widget-view+json": {
              "model_id": "a40928239ac049f4a912ce5f6bed08c4",
              "version_major": 2,
              "version_minor": 0
            },
            "text/plain": [
              "Training:   0%|          | 0/40 [00:00<?, ?it/s]"
            ]
          },
          "metadata": {},
          "output_type": "display_data"
        },
        {
          "data": {
            "application/vnd.jupyter.widget-view+json": {
              "model_id": "8ec64457fae341da89848ffca1226cfd",
              "version_major": 2,
              "version_minor": 0
            },
            "text/plain": [
              "Evaluating (val):   0%|          | 0/1 [00:00<?, ?it/s]"
            ]
          },
          "metadata": {},
          "output_type": "display_data"
        },
        {
          "name": "stdout",
          "output_type": "stream",
          "text": [
            "Epoch: 06 | Time: 1m 49s\n",
            "\tTrain Loss: 5.429\n",
            "\t Val. Loss: 5.796\n"
          ]
        },
        {
          "data": {
            "application/vnd.jupyter.widget-view+json": {
              "model_id": "5156826203714f3284e47f10be51e64b",
              "version_major": 2,
              "version_minor": 0
            },
            "text/plain": [
              "Training:   0%|          | 0/40 [00:00<?, ?it/s]"
            ]
          },
          "metadata": {},
          "output_type": "display_data"
        },
        {
          "data": {
            "application/vnd.jupyter.widget-view+json": {
              "model_id": "a23c8f24b7a44a5b8267e3a958fa7bf7",
              "version_major": 2,
              "version_minor": 0
            },
            "text/plain": [
              "Evaluating (val):   0%|          | 0/1 [00:00<?, ?it/s]"
            ]
          },
          "metadata": {},
          "output_type": "display_data"
        },
        {
          "name": "stdout",
          "output_type": "stream",
          "text": [
            "Epoch: 07 | Time: 1m 46s\n",
            "\tTrain Loss: 5.255\n",
            "\t Val. Loss: 5.652\n"
          ]
        },
        {
          "data": {
            "application/vnd.jupyter.widget-view+json": {
              "model_id": "05083c137d2646dea263b4872e6845db",
              "version_major": 2,
              "version_minor": 0
            },
            "text/plain": [
              "Training:   0%|          | 0/40 [00:00<?, ?it/s]"
            ]
          },
          "metadata": {},
          "output_type": "display_data"
        },
        {
          "data": {
            "application/vnd.jupyter.widget-view+json": {
              "model_id": "90a4f124e9c54b2cb62b834d94d5332e",
              "version_major": 2,
              "version_minor": 0
            },
            "text/plain": [
              "Evaluating (val):   0%|          | 0/1 [00:00<?, ?it/s]"
            ]
          },
          "metadata": {},
          "output_type": "display_data"
        },
        {
          "name": "stdout",
          "output_type": "stream",
          "text": [
            "Epoch: 08 | Time: 1m 46s\n",
            "\tTrain Loss: 5.047\n",
            "\t Val. Loss: 5.483\n"
          ]
        },
        {
          "data": {
            "application/vnd.jupyter.widget-view+json": {
              "model_id": "d2ea43336c244c978bd7af118d8fd0b1",
              "version_major": 2,
              "version_minor": 0
            },
            "text/plain": [
              "Training:   0%|          | 0/40 [00:00<?, ?it/s]"
            ]
          },
          "metadata": {},
          "output_type": "display_data"
        },
        {
          "data": {
            "application/vnd.jupyter.widget-view+json": {
              "model_id": "6dde6604711648189018c8cbf09f3744",
              "version_major": 2,
              "version_minor": 0
            },
            "text/plain": [
              "Evaluating (val):   0%|          | 0/1 [00:00<?, ?it/s]"
            ]
          },
          "metadata": {},
          "output_type": "display_data"
        },
        {
          "name": "stdout",
          "output_type": "stream",
          "text": [
            "Epoch: 09 | Time: 1m 49s\n",
            "\tTrain Loss: 4.787\n",
            "\t Val. Loss: 5.199\n"
          ]
        },
        {
          "data": {
            "application/vnd.jupyter.widget-view+json": {
              "model_id": "58f2cc125f0a41d2ab2e6f1276de582f",
              "version_major": 2,
              "version_minor": 0
            },
            "text/plain": [
              "Training:   0%|          | 0/40 [00:00<?, ?it/s]"
            ]
          },
          "metadata": {},
          "output_type": "display_data"
        },
        {
          "data": {
            "application/vnd.jupyter.widget-view+json": {
              "model_id": "f1fa4dd202e349c486e6145e61e0818a",
              "version_major": 2,
              "version_minor": 0
            },
            "text/plain": [
              "Evaluating (val):   0%|          | 0/1 [00:00<?, ?it/s]"
            ]
          },
          "metadata": {},
          "output_type": "display_data"
        },
        {
          "name": "stdout",
          "output_type": "stream",
          "text": [
            "Epoch: 10 | Time: 1m 47s\n",
            "\tTrain Loss: 4.480\n",
            "\t Val. Loss: 4.888\n"
          ]
        },
        {
          "data": {
            "application/vnd.jupyter.widget-view+json": {
              "model_id": "19381d9c11b840f596f05ff95954c17c",
              "version_major": 2,
              "version_minor": 0
            },
            "text/plain": [
              "Evaluating (test):   0%|          | 0/1 [00:00<?, ?it/s]"
            ]
          },
          "metadata": {},
          "output_type": "display_data"
        },
        {
          "name": "stdout",
          "output_type": "stream",
          "text": [
            "Test Loss: 4.466\n",
            "\n",
            "==================================================\n",
            "Running Transformer experiment 3/3\n",
            "Hyperparameters: {'hidden_size': 192, 'n_layers': 3, 'n_heads': 4, 'pf_dim': 384, 'dropout': 0.1, 'learning_rate': 0.001, 'batch_size': 64, 'clip': 1.0, 'optimizer': 'Adam', 'scheduler': None}\n",
            "==================================================\n",
            "\n",
            "The model has 5,914,186 trainable parameters\n"
          ]
        },
        {
          "data": {
            "application/vnd.jupyter.widget-view+json": {
              "model_id": "cb25222913884f99a5de1126eb352e2e",
              "version_major": 2,
              "version_minor": 0
            },
            "text/plain": [
              "Training:   0%|          | 0/157 [00:00<?, ?it/s]"
            ]
          },
          "metadata": {},
          "output_type": "display_data"
        },
        {
          "data": {
            "application/vnd.jupyter.widget-view+json": {
              "model_id": "ece0cf0a77a8401fa2dc0cf1ed592513",
              "version_major": 2,
              "version_minor": 0
            },
            "text/plain": [
              "Evaluating (val):   0%|          | 0/2 [00:00<?, ?it/s]"
            ]
          },
          "metadata": {},
          "output_type": "display_data"
        },
        {
          "name": "stdout",
          "output_type": "stream",
          "text": [
            "Epoch: 01 | Time: 2m 47s\n",
            "\tTrain Loss: 6.646\n",
            "\t Val. Loss: 6.070\n"
          ]
        },
        {
          "data": {
            "application/vnd.jupyter.widget-view+json": {
              "model_id": "61418583110f4e5fae50624d43828c09",
              "version_major": 2,
              "version_minor": 0
            },
            "text/plain": [
              "Training:   0%|          | 0/157 [00:00<?, ?it/s]"
            ]
          },
          "metadata": {},
          "output_type": "display_data"
        },
        {
          "data": {
            "application/vnd.jupyter.widget-view+json": {
              "model_id": "4467b787d0004600ad1197e4678f7a4a",
              "version_major": 2,
              "version_minor": 0
            },
            "text/plain": [
              "Evaluating (val):   0%|          | 0/2 [00:00<?, ?it/s]"
            ]
          },
          "metadata": {},
          "output_type": "display_data"
        },
        {
          "name": "stdout",
          "output_type": "stream",
          "text": [
            "Epoch: 02 | Time: 2m 46s\n",
            "\tTrain Loss: 5.452\n",
            "\t Val. Loss: 5.728\n"
          ]
        },
        {
          "data": {
            "application/vnd.jupyter.widget-view+json": {
              "model_id": "505ef18ef6114dafb065cafba36882ac",
              "version_major": 2,
              "version_minor": 0
            },
            "text/plain": [
              "Training:   0%|          | 0/157 [00:00<?, ?it/s]"
            ]
          },
          "metadata": {},
          "output_type": "display_data"
        },
        {
          "data": {
            "application/vnd.jupyter.widget-view+json": {
              "model_id": "66c93b2b8a9c45c0a5a9c993468d7807",
              "version_major": 2,
              "version_minor": 0
            },
            "text/plain": [
              "Evaluating (val):   0%|          | 0/2 [00:00<?, ?it/s]"
            ]
          },
          "metadata": {},
          "output_type": "display_data"
        },
        {
          "name": "stdout",
          "output_type": "stream",
          "text": [
            "Epoch: 03 | Time: 2m 46s\n",
            "\tTrain Loss: 4.909\n",
            "\t Val. Loss: 5.148\n"
          ]
        },
        {
          "data": {
            "application/vnd.jupyter.widget-view+json": {
              "model_id": "4b6b3a64ebd744f2932b116a400b8491",
              "version_major": 2,
              "version_minor": 0
            },
            "text/plain": [
              "Training:   0%|          | 0/157 [00:00<?, ?it/s]"
            ]
          },
          "metadata": {},
          "output_type": "display_data"
        },
        {
          "data": {
            "application/vnd.jupyter.widget-view+json": {
              "model_id": "183b44ad46754236833e745c0d30aa69",
              "version_major": 2,
              "version_minor": 0
            },
            "text/plain": [
              "Evaluating (val):   0%|          | 0/2 [00:00<?, ?it/s]"
            ]
          },
          "metadata": {},
          "output_type": "display_data"
        },
        {
          "name": "stdout",
          "output_type": "stream",
          "text": [
            "Epoch: 04 | Time: 2m 46s\n",
            "\tTrain Loss: 4.149\n",
            "\t Val. Loss: 4.319\n"
          ]
        },
        {
          "data": {
            "application/vnd.jupyter.widget-view+json": {
              "model_id": "897ff234d02f4cfb85af92e9d8cf8038",
              "version_major": 2,
              "version_minor": 0
            },
            "text/plain": [
              "Training:   0%|          | 0/157 [00:00<?, ?it/s]"
            ]
          },
          "metadata": {},
          "output_type": "display_data"
        },
        {
          "data": {
            "application/vnd.jupyter.widget-view+json": {
              "model_id": "23288a5dc8ec453daafbe3bb669ce2e4",
              "version_major": 2,
              "version_minor": 0
            },
            "text/plain": [
              "Evaluating (val):   0%|          | 0/2 [00:00<?, ?it/s]"
            ]
          },
          "metadata": {},
          "output_type": "display_data"
        },
        {
          "name": "stdout",
          "output_type": "stream",
          "text": [
            "Epoch: 05 | Time: 2m 41s\n",
            "\tTrain Loss: 3.414\n",
            "\t Val. Loss: 3.596\n"
          ]
        },
        {
          "data": {
            "application/vnd.jupyter.widget-view+json": {
              "model_id": "6098e78bdd074a04a8e2741aa80a19f1",
              "version_major": 2,
              "version_minor": 0
            },
            "text/plain": [
              "Training:   0%|          | 0/157 [00:00<?, ?it/s]"
            ]
          },
          "metadata": {},
          "output_type": "display_data"
        },
        {
          "data": {
            "application/vnd.jupyter.widget-view+json": {
              "model_id": "e73d7719d36c4c80a8a8f07c52657a0f",
              "version_major": 2,
              "version_minor": 0
            },
            "text/plain": [
              "Evaluating (val):   0%|          | 0/2 [00:00<?, ?it/s]"
            ]
          },
          "metadata": {},
          "output_type": "display_data"
        },
        {
          "name": "stdout",
          "output_type": "stream",
          "text": [
            "Epoch: 06 | Time: 2m 42s\n",
            "\tTrain Loss: 2.773\n",
            "\t Val. Loss: 2.987\n"
          ]
        },
        {
          "data": {
            "application/vnd.jupyter.widget-view+json": {
              "model_id": "87d05ed65fce41a8a314e2ce03df49bf",
              "version_major": 2,
              "version_minor": 0
            },
            "text/plain": [
              "Training:   0%|          | 0/157 [00:00<?, ?it/s]"
            ]
          },
          "metadata": {},
          "output_type": "display_data"
        },
        {
          "data": {
            "application/vnd.jupyter.widget-view+json": {
              "model_id": "c67c44b9fe844c75b9cb43e11d0a4de3",
              "version_major": 2,
              "version_minor": 0
            },
            "text/plain": [
              "Evaluating (val):   0%|          | 0/2 [00:00<?, ?it/s]"
            ]
          },
          "metadata": {},
          "output_type": "display_data"
        },
        {
          "name": "stdout",
          "output_type": "stream",
          "text": [
            "Epoch: 07 | Time: 2m 44s\n",
            "\tTrain Loss: 2.196\n",
            "\t Val. Loss: 2.431\n"
          ]
        },
        {
          "data": {
            "application/vnd.jupyter.widget-view+json": {
              "model_id": "ff16f9778a764d5c98bf44158f0c0e86",
              "version_major": 2,
              "version_minor": 0
            },
            "text/plain": [
              "Training:   0%|          | 0/157 [00:00<?, ?it/s]"
            ]
          },
          "metadata": {},
          "output_type": "display_data"
        },
        {
          "data": {
            "application/vnd.jupyter.widget-view+json": {
              "model_id": "2fe950bcc4e54923afdb2cffe62104c5",
              "version_major": 2,
              "version_minor": 0
            },
            "text/plain": [
              "Evaluating (val):   0%|          | 0/2 [00:00<?, ?it/s]"
            ]
          },
          "metadata": {},
          "output_type": "display_data"
        },
        {
          "name": "stdout",
          "output_type": "stream",
          "text": [
            "Epoch: 08 | Time: 2m 42s\n",
            "\tTrain Loss: 1.694\n",
            "\t Val. Loss: 1.907\n"
          ]
        },
        {
          "data": {
            "application/vnd.jupyter.widget-view+json": {
              "model_id": "3c3914e02da542559790ab60b7547d27",
              "version_major": 2,
              "version_minor": 0
            },
            "text/plain": [
              "Training:   0%|          | 0/157 [00:00<?, ?it/s]"
            ]
          },
          "metadata": {},
          "output_type": "display_data"
        },
        {
          "data": {
            "application/vnd.jupyter.widget-view+json": {
              "model_id": "8ef30405211d46909f386f74d1b41eba",
              "version_major": 2,
              "version_minor": 0
            },
            "text/plain": [
              "Evaluating (val):   0%|          | 0/2 [00:00<?, ?it/s]"
            ]
          },
          "metadata": {},
          "output_type": "display_data"
        },
        {
          "name": "stdout",
          "output_type": "stream",
          "text": [
            "Epoch: 09 | Time: 2m 44s\n",
            "\tTrain Loss: 1.308\n",
            "\t Val. Loss: 1.548\n"
          ]
        },
        {
          "data": {
            "application/vnd.jupyter.widget-view+json": {
              "model_id": "7d9a33593ccc4434b2315c46619a3733",
              "version_major": 2,
              "version_minor": 0
            },
            "text/plain": [
              "Training:   0%|          | 0/157 [00:00<?, ?it/s]"
            ]
          },
          "metadata": {},
          "output_type": "display_data"
        },
        {
          "data": {
            "application/vnd.jupyter.widget-view+json": {
              "model_id": "21afe2df16b345878b1182e6d7ac7da5",
              "version_major": 2,
              "version_minor": 0
            },
            "text/plain": [
              "Evaluating (val):   0%|          | 0/2 [00:00<?, ?it/s]"
            ]
          },
          "metadata": {},
          "output_type": "display_data"
        },
        {
          "name": "stdout",
          "output_type": "stream",
          "text": [
            "Epoch: 10 | Time: 2m 42s\n",
            "\tTrain Loss: 1.014\n",
            "\t Val. Loss: 1.320\n"
          ]
        },
        {
          "data": {
            "application/vnd.jupyter.widget-view+json": {
              "model_id": "6b2c3d5439924191903a7ec6331411a4",
              "version_major": 2,
              "version_minor": 0
            },
            "text/plain": [
              "Evaluating (test):   0%|          | 0/2 [00:00<?, ?it/s]"
            ]
          },
          "metadata": {},
          "output_type": "display_data"
        },
        {
          "name": "stdout",
          "output_type": "stream",
          "text": [
            "Test Loss: 1.056\n",
            "Running RNN experiments...\n",
            "\n",
            "==================================================\n",
            "Running RNN experiment 1/3\n",
            "Hyperparameters: {'embed_size': 128, 'hidden_size': 256, 'n_layers': 1, 'dropout': 0.2, 'learning_rate': 0.001, 'batch_size': 128, 'clip': 1.0, 'optimizer': 'Adam', 'scheduler': None}\n",
            "==================================================\n",
            "\n",
            "The model has 8,010,122 trainable parameters\n"
          ]
        },
        {
          "data": {
            "application/vnd.jupyter.widget-view+json": {
              "model_id": "ff55ce632df243fd930ef7064d102b5e",
              "version_major": 2,
              "version_minor": 0
            },
            "text/plain": [
              "Training:   0%|          | 0/79 [00:00<?, ?it/s]"
            ]
          },
          "metadata": {},
          "output_type": "display_data"
        },
        {
          "data": {
            "application/vnd.jupyter.widget-view+json": {
              "model_id": "e45b7ec7a3814af4b0576e63330d9fc3",
              "version_major": 2,
              "version_minor": 0
            },
            "text/plain": [
              "Evaluating (val):   0%|          | 0/1 [00:00<?, ?it/s]"
            ]
          },
          "metadata": {},
          "output_type": "display_data"
        },
        {
          "name": "stdout",
          "output_type": "stream",
          "text": [
            "Epoch: 01 | Time: 9m 52s\n",
            "\tTrain Loss: 6.326\n",
            "\t Val. Loss: 6.250\n"
          ]
        },
        {
          "data": {
            "application/vnd.jupyter.widget-view+json": {
              "model_id": "0614a69eef14431c93898304305eb04e",
              "version_major": 2,
              "version_minor": 0
            },
            "text/plain": [
              "Training:   0%|          | 0/79 [00:00<?, ?it/s]"
            ]
          },
          "metadata": {},
          "output_type": "display_data"
        },
        {
          "data": {
            "application/vnd.jupyter.widget-view+json": {
              "model_id": "d8bb58e9a4c145a99a18cddc36d8c22b",
              "version_major": 2,
              "version_minor": 0
            },
            "text/plain": [
              "Evaluating (val):   0%|          | 0/1 [00:00<?, ?it/s]"
            ]
          },
          "metadata": {},
          "output_type": "display_data"
        },
        {
          "name": "stdout",
          "output_type": "stream",
          "text": [
            "Epoch: 02 | Time: 10m 5s\n",
            "\tTrain Loss: 5.731\n",
            "\t Val. Loss: 6.253\n"
          ]
        },
        {
          "data": {
            "application/vnd.jupyter.widget-view+json": {
              "model_id": "fef4956aa5ff41c287667291eee7bd5f",
              "version_major": 2,
              "version_minor": 0
            },
            "text/plain": [
              "Training:   0%|          | 0/79 [00:00<?, ?it/s]"
            ]
          },
          "metadata": {},
          "output_type": "display_data"
        },
        {
          "data": {
            "application/vnd.jupyter.widget-view+json": {
              "model_id": "eee65f8229bd4e83a8817e64f9fca963",
              "version_major": 2,
              "version_minor": 0
            },
            "text/plain": [
              "Evaluating (val):   0%|          | 0/1 [00:00<?, ?it/s]"
            ]
          },
          "metadata": {},
          "output_type": "display_data"
        },
        {
          "name": "stdout",
          "output_type": "stream",
          "text": [
            "Epoch: 03 | Time: 10m 15s\n",
            "\tTrain Loss: 5.575\n",
            "\t Val. Loss: 6.148\n"
          ]
        },
        {
          "data": {
            "application/vnd.jupyter.widget-view+json": {
              "model_id": "a43bfcb44c9346319393ba8d4d10e828",
              "version_major": 2,
              "version_minor": 0
            },
            "text/plain": [
              "Evaluating (test):   0%|          | 0/1 [00:00<?, ?it/s]"
            ]
          },
          "metadata": {},
          "output_type": "display_data"
        },
        {
          "name": "stdout",
          "output_type": "stream",
          "text": [
            "Test Loss: 5.748\n",
            "\n",
            "==================================================\n",
            "Running RNN experiment 2/3\n",
            "Hyperparameters: {'embed_size': 96, 'hidden_size': 192, 'n_layers': 2, 'dropout': 0.3, 'learning_rate': 0.001, 'batch_size': 64, 'clip': 1.0, 'optimizer': 'Adam', 'scheduler': None}\n",
            "==================================================\n",
            "\n",
            "The model has 6,608,362 trainable parameters\n"
          ]
        },
        {
          "data": {
            "application/vnd.jupyter.widget-view+json": {
              "model_id": "4729b5316cf64a86afe9dbadbd73d8fc",
              "version_major": 2,
              "version_minor": 0
            },
            "text/plain": [
              "Training:   0%|          | 0/157 [00:00<?, ?it/s]"
            ]
          },
          "metadata": {},
          "output_type": "display_data"
        },
        {
          "data": {
            "application/vnd.jupyter.widget-view+json": {
              "model_id": "7f8211de63ee4d8d811e95f8f50105f3",
              "version_major": 2,
              "version_minor": 0
            },
            "text/plain": [
              "Evaluating (val):   0%|          | 0/2 [00:00<?, ?it/s]"
            ]
          },
          "metadata": {},
          "output_type": "display_data"
        },
        {
          "name": "stdout",
          "output_type": "stream",
          "text": [
            "Epoch: 01 | Time: 6m 13s\n",
            "\tTrain Loss: 6.061\n",
            "\t Val. Loss: 6.231\n"
          ]
        },
        {
          "data": {
            "application/vnd.jupyter.widget-view+json": {
              "model_id": "cfab0afa7b3d44dca8919c35f185589b",
              "version_major": 2,
              "version_minor": 0
            },
            "text/plain": [
              "Training:   0%|          | 0/157 [00:00<?, ?it/s]"
            ]
          },
          "metadata": {},
          "output_type": "display_data"
        },
        {
          "data": {
            "application/vnd.jupyter.widget-view+json": {
              "model_id": "9805697c552d4d75855503a216635c59",
              "version_major": 2,
              "version_minor": 0
            },
            "text/plain": [
              "Evaluating (val):   0%|          | 0/2 [00:00<?, ?it/s]"
            ]
          },
          "metadata": {},
          "output_type": "display_data"
        },
        {
          "name": "stdout",
          "output_type": "stream",
          "text": [
            "Epoch: 02 | Time: 6m 15s\n",
            "\tTrain Loss: 5.554\n",
            "\t Val. Loss: 6.075\n"
          ]
        },
        {
          "data": {
            "application/vnd.jupyter.widget-view+json": {
              "model_id": "775c63ae9b284faeb02db51f99c8fb9d",
              "version_major": 2,
              "version_minor": 0
            },
            "text/plain": [
              "Training:   0%|          | 0/157 [00:00<?, ?it/s]"
            ]
          },
          "metadata": {},
          "output_type": "display_data"
        },
        {
          "data": {
            "application/vnd.jupyter.widget-view+json": {
              "model_id": "3936a06845c24506b8066a5feba110bd",
              "version_major": 2,
              "version_minor": 0
            },
            "text/plain": [
              "Evaluating (val):   0%|          | 0/2 [00:00<?, ?it/s]"
            ]
          },
          "metadata": {},
          "output_type": "display_data"
        },
        {
          "name": "stdout",
          "output_type": "stream",
          "text": [
            "Epoch: 03 | Time: 6m 17s\n",
            "\tTrain Loss: 5.338\n",
            "\t Val. Loss: 6.077\n"
          ]
        },
        {
          "data": {
            "application/vnd.jupyter.widget-view+json": {
              "model_id": "1f593f1a6efb466bbed1ab4427c3a5e1",
              "version_major": 2,
              "version_minor": 0
            },
            "text/plain": [
              "Evaluating (test):   0%|          | 0/2 [00:00<?, ?it/s]"
            ]
          },
          "metadata": {},
          "output_type": "display_data"
        },
        {
          "name": "stdout",
          "output_type": "stream",
          "text": [
            "Test Loss: 5.665\n",
            "\n",
            "==================================================\n",
            "Running RNN experiment 3/3\n",
            "Hyperparameters: {'embed_size': 64, 'hidden_size': 128, 'n_layers': 1, 'dropout': 0.1, 'learning_rate': 0.002, 'batch_size': 256, 'clip': 0.5, 'optimizer': 'Adam', 'scheduler': None}\n",
            "==================================================\n",
            "\n",
            "The model has 3,622,730 trainable parameters\n"
          ]
        },
        {
          "data": {
            "application/vnd.jupyter.widget-view+json": {
              "model_id": "ed052843d75a4af5ab10889001f0386f",
              "version_major": 2,
              "version_minor": 0
            },
            "text/plain": [
              "Training:   0%|          | 0/40 [00:00<?, ?it/s]"
            ]
          },
          "metadata": {},
          "output_type": "display_data"
        },
        {
          "data": {
            "application/vnd.jupyter.widget-view+json": {
              "model_id": "d868bda89c9a4fbea0b609d0eae549a6",
              "version_major": 2,
              "version_minor": 0
            },
            "text/plain": [
              "Evaluating (val):   0%|          | 0/1 [00:00<?, ?it/s]"
            ]
          },
          "metadata": {},
          "output_type": "display_data"
        },
        {
          "name": "stdout",
          "output_type": "stream",
          "text": [
            "Epoch: 01 | Time: 10m 3s\n",
            "\tTrain Loss: 6.619\n",
            "\t Val. Loss: 6.323\n"
          ]
        },
        {
          "data": {
            "application/vnd.jupyter.widget-view+json": {
              "model_id": "7fb965affd4a4637bd4b76bbefd3e3aa",
              "version_major": 2,
              "version_minor": 0
            },
            "text/plain": [
              "Training:   0%|          | 0/40 [00:00<?, ?it/s]"
            ]
          },
          "metadata": {},
          "output_type": "display_data"
        },
        {
          "data": {
            "application/vnd.jupyter.widget-view+json": {
              "model_id": "6d00d4a3c8a74656a11107a95493cec0",
              "version_major": 2,
              "version_minor": 0
            },
            "text/plain": [
              "Evaluating (val):   0%|          | 0/1 [00:00<?, ?it/s]"
            ]
          },
          "metadata": {},
          "output_type": "display_data"
        },
        {
          "name": "stdout",
          "output_type": "stream",
          "text": [
            "Epoch: 02 | Time: 10m 5s\n",
            "\tTrain Loss: 5.800\n",
            "\t Val. Loss: 6.232\n"
          ]
        },
        {
          "data": {
            "application/vnd.jupyter.widget-view+json": {
              "model_id": "e83bef25449d4df88dc426c0050067f7",
              "version_major": 2,
              "version_minor": 0
            },
            "text/plain": [
              "Training:   0%|          | 0/40 [00:00<?, ?it/s]"
            ]
          },
          "metadata": {},
          "output_type": "display_data"
        },
        {
          "data": {
            "application/vnd.jupyter.widget-view+json": {
              "model_id": "6279ef7625d642c1a90cb4a54dd33e16",
              "version_major": 2,
              "version_minor": 0
            },
            "text/plain": [
              "Evaluating (val):   0%|          | 0/1 [00:00<?, ?it/s]"
            ]
          },
          "metadata": {},
          "output_type": "display_data"
        },
        {
          "name": "stdout",
          "output_type": "stream",
          "text": [
            "Epoch: 03 | Time: 10m 26s\n",
            "\tTrain Loss: 5.692\n",
            "\t Val. Loss: 6.241\n"
          ]
        },
        {
          "data": {
            "application/vnd.jupyter.widget-view+json": {
              "model_id": "e387f2666de34c0e8a449685baab3436",
              "version_major": 2,
              "version_minor": 0
            },
            "text/plain": [
              "Evaluating (test):   0%|          | 0/1 [00:00<?, ?it/s]"
            ]
          },
          "metadata": {},
          "output_type": "display_data"
        },
        {
          "name": "stdout",
          "output_type": "stream",
          "text": [
            "Test Loss: 5.886\n"
          ]
        }
      ],
      "source": [
        "# Run Transformer experiments\n",
        "print(\"Running Transformer experiments...\")\n",
        "transformer_results = run_experiment('Transformer', transformer_hyperparams, 'Transformer_Experiment', num_epochs=10)\n",
        "\n",
        "# Run RNN experiments\n",
        "print(\"Running RNN experiments...\")\n",
        "rnn_results = run_experiment('RNN', rnn_hyperparams, 'RNN_Experiment', num_epochs=10)\n",
        "\n",
        "\n",
        "# Save results\n",
        "import pickle\n",
        "\n",
        "with open('rnn_results.pkl', 'wb') as f:\n",
        "    pickle.dump(rnn_results, f)\n",
        "\n",
        "with open('transformer_results.pkl', 'wb') as f:\n",
        "    pickle.dump(transformer_results, f)"
      ]
    },
    {
      "cell_type": "markdown",
      "id": "aa29fd2b",
      "metadata": {
        "id": "aa29fd2b"
      },
      "source": [
        "# 8. Analyze Results"
      ]
    },
    {
      "cell_type": "code",
      "execution_count": null,
      "id": "tlGTu5Eua1nZ",
      "metadata": {
        "colab": {
          "base_uri": "https://localhost:8080/",
          "height": 544
        },
        "id": "tlGTu5Eua1nZ",
        "outputId": "5f4d65e6-43ba-4311-f87b-4f66474004fe"
      },
      "outputs": [
        {
          "name": "stdout",
          "output_type": "stream",
          "text": [
            "RNN Stats:\n",
            "Mean Loss: 5.7663 ± 0.0914\n",
            "\n",
            "Transformer Stats:\n",
            "Mean Loss: 2.4928 ± 1.4427\n",
            "\n",
            "Best RNN model:\n",
            "Hyperparameters: {'embed_size': 96, 'hidden_size': 192, 'n_layers': 2, 'dropout': 0.3, 'learning_rate': 0.001, 'batch_size': 64, 'clip': 1.0, 'optimizer': 'Adam', 'scheduler': None}\n",
            "Test Loss: 5.6647\n",
            "\n",
            "Best Transformer model:\n",
            "Hyperparameters: {'hidden_size': 192, 'n_layers': 3, 'n_heads': 4, 'pf_dim': 384, 'dropout': 0.1, 'learning_rate': 0.001, 'batch_size': 64, 'clip': 1.0, 'optimizer': 'Adam', 'scheduler': None}\n",
            "Test Loss: 1.0564\n"
          ]
        },
        {
          "data": {
            "image/png": "[encoded data removed]",
            "text/plain": [
              "<Figure size 1500x500 with 2 Axes>"
            ]
          },
          "metadata": {},
          "output_type": "display_data"
        }
      ],
      "source": [
        "# Load results if not already in memory\n",
        "try:\n",
        "    with open('rnn_results.pkl', 'rb') as f:\n",
        "        rnn_results = pickle.load(f)\n",
        "\n",
        "    with open('transformer_results.pkl', 'rb') as f:\n",
        "        transformer_results = pickle.load(f)\n",
        "except:\n",
        "    print(\"Results not found. Please run the experiments first.\")\n",
        "\n",
        "# Calculate statistics\n",
        "def calculate_stats(results):\n",
        "    test_losses = [r['test_loss'] for r in results]\n",
        "    mean_loss = np.mean(test_losses)\n",
        "    std_loss = np.std(test_losses)\n",
        "\n",
        "    return {\n",
        "        'mean_loss': mean_loss,\n",
        "        'std_loss': std_loss,\n",
        "        'test_losses': test_losses\n",
        "    }\n",
        "\n",
        "rnn_stats = calculate_stats(rnn_results)\n",
        "transformer_stats = calculate_stats(transformer_results)\n",
        "\n",
        "print(\"RNN Stats:\")\n",
        "print(f\"Mean Loss: {rnn_stats['mean_loss']:.4f} ± {rnn_stats['std_loss']:.4f}\")\n",
        "print(\"\\nTransformer Stats:\")\n",
        "print(f\"Mean Loss: {transformer_stats['mean_loss']:.4f} ± {transformer_stats['std_loss']:.4f}\")\n",
        "\n",
        "# Find best models\n",
        "best_rnn_idx = np.argmin(rnn_stats['test_losses'])\n",
        "best_transformer_idx = np.argmin(transformer_stats['test_losses'])\n",
        "\n",
        "print(\"\\nBest RNN model:\")\n",
        "print(f\"Hyperparameters: {rnn_results[best_rnn_idx]['hyperparams']}\")\n",
        "print(f\"Test Loss: {rnn_stats['test_losses'][best_rnn_idx]:.4f}\")\n",
        "\n",
        "print(\"\\nBest Transformer model:\")\n",
        "print(f\"Hyperparameters: {transformer_results[best_transformer_idx]['hyperparams']}\")\n",
        "print(f\"Test Loss: {transformer_stats['test_losses'][best_transformer_idx]:.4f}\")\n",
        "\n",
        "# Visualize training process\n",
        "plt.figure(figsize=(15, 5))\n",
        "\n",
        "# Loss curves\n",
        "plt.subplot(1, 2, 1)\n",
        "for i, result in enumerate(rnn_results):\n",
        "    plt.plot(result['train_losses'], label=f'RNN {i+1} train')\n",
        "    plt.plot(result['val_losses'], label=f'RNN {i+1} val')\n",
        "plt.title('RNN Loss Curves')\n",
        "plt.xlabel('Epoch')\n",
        "plt.ylabel('Loss')\n",
        "plt.legend()\n",
        "\n",
        "plt.subplot(1, 2, 2)\n",
        "for i, result in enumerate(transformer_results):\n",
        "    plt.plot(result['train_losses'], label=f'Transformer {i+1} train')\n",
        "    plt.plot(result['val_losses'], label=f'Transformer {i+1} val')\n",
        "plt.title('Transformer Loss Curves')\n",
        "plt.xlabel('Epoch')\n",
        "plt.ylabel('Loss')\n",
        "plt.legend()\n",
        "\n",
        "plt.tight_layout()\n",
        "plt.savefig('training_curves.png')\n",
        "plt.show()"
      ]
    },
    {
      "cell_type": "markdown",
      "id": "aab30d11",
      "metadata": {
        "id": "aab30d11"
      },
      "source": [
        "# 9. Example Usage"
      ]
    },
    {
      "cell_type": "code",
      "execution_count": null,
      "id": "Th-Cf-McljlY",
      "metadata": {
        "colab": {
          "base_uri": "https://localhost:8080/"
        },
        "id": "Th-Cf-McljlY",
        "outputId": "ee0e29b9-bb92-4681-811d-1f1d4381a284"
      },
      "outputs": [
        {
          "name": "stdout",
          "output_type": "stream",
          "text": [
            "\n",
            "Testing the best Transformer model:\n",
            "EN: Hello, how are you today?\n",
            "VI: Xin chào, bạn thế nào hôm nay?\n",
            "\n",
            "EN: I am a student.\n",
            "VI: Tôi là một học sinh.\n",
            "\n",
            "EN: The weather is nice today\n",
            "VI: Thời tiết hôm nay thì đẹp.\n",
            "\n"
          ]
        }
      ],
      "source": [
        "# Test the model with some examples\n",
        "test_sentences = [\n",
        "    \"Hello, how are you today?\",\n",
        "    \"I am a student.\",\n",
        "    \"The weather is nice today\"\n",
        "]\n",
        "\n",
        "print(f\"\\nTesting the best {best_model_type} model:\")\n",
        "for sentence in test_sentences:\n",
        "    translation, _ = translate_sentence(best_model, sentence, device)\n",
        "    print(f\"EN: {sentence}\")\n",
        "    print(f\"VI: {translation}\")\n",
        "    print()"
      ]
    },
    {
      "cell_type": "markdown",
      "id": "8cecfa6a",
      "metadata": {
        "id": "8cecfa6a"
      },
      "source": [
        "# 10. Gradio Demo Interface"
      ]
    },
    {
      "cell_type": "code",
      "execution_count": null,
      "id": "scZt829Obsq9",
      "metadata": {
        "colab": {
          "base_uri": "https://localhost:8080/",
          "height": 628
        },
        "id": "scZt829Obsq9",
        "outputId": "208f86b0-919b-4316-dc21-5e51ac717477"
      },
      "outputs": [
        {
          "name": "stdout",
          "output_type": "stream",
          "text": [
            "Loading the best model: Transformer (configuration 3)\n",
            "Colab notebook detected. To show errors in colab notebook, set debug=True in launch()\n",
            "* Running on public URL: https://f4a9264338965ad185.gradio.live\n",
            "\n",
            "This share link expires in 1 week. For free permanent hosting and GPU upgrades, run `gradio deploy` from the terminal in the working directory to deploy to Hugging Face Spaces (https://huggingface.co/spaces)\n"
          ]
        },
        {
          "data": {
            "text/html": [
              "<div><iframe src=\"https://f4a9264338965ad185.gradio.live\" width=\"100%\" height=\"500\" allow=\"autoplay; camera; microphone; clipboard-read; clipboard-write;\" frameborder=\"0\" allowfullscreen></iframe></div>"
            ],
            "text/plain": [
              "<IPython.core.display.HTML object>"
            ]
          },
          "metadata": {},
          "output_type": "display_data"
        },
        {
          "data": {
            "text/plain": []
          },
          "execution_count": 18,
          "metadata": {},
          "output_type": "execute_result"
        }
      ],
      "source": [
        "# Load the best model (based on previous runs)\n",
        "best_model_type = 'Transformer' if transformer_stats['mean_loss'] < rnn_stats['mean_loss'] else 'RNN'\n",
        "best_model_idx = best_transformer_idx if best_model_type == 'Transformer' else best_rnn_idx\n",
        "\n",
        "print(f\"Loading the best model: {best_model_type} (configuration {best_model_idx+1})\")\n",
        "\n",
        "if best_model_type == 'Transformer':\n",
        "    # Create Transformer model\n",
        "    hp = transformer_hyperparams[best_model_idx]\n",
        "    enc = TransformerEncoder(\n",
        "        len(en_vocab), hp['hidden_size'], hp['n_layers'],\n",
        "        hp['n_heads'], hp['pf_dim'], hp['dropout']\n",
        "    )\n",
        "\n",
        "    dec = TransformerDecoder(\n",
        "        len(vi_vocab), hp['hidden_size'], hp['n_layers'],\n",
        "        hp['n_heads'], hp['pf_dim'], hp['dropout']\n",
        "    )\n",
        "\n",
        "    best_model = Transformer(enc, dec, device).to(device)\n",
        "else:\n",
        "    # Create RNN model\n",
        "    hp = rnn_hyperparams[best_model_idx]\n",
        "    enc = BasicRNNEncoder(\n",
        "        len(en_vocab), hp['embed_size'], hp['hidden_size'],\n",
        "        hp['n_layers'], hp['dropout']\n",
        "    )\n",
        "\n",
        "    dec = BasicRNNDecoder(\n",
        "        len(vi_vocab), hp['embed_size'], hp['hidden_size'],\n",
        "        hp['n_layers'], hp['dropout']\n",
        "    )\n",
        "\n",
        "    best_model = BasicRNNSeq2Seq(enc, dec, device).to(device)\n",
        "\n",
        "# Load the best weights\n",
        "best_model.load_state_dict(torch.load(f'{best_model_type}_best_loss_{best_model_idx+1}.pt'))\n",
        "best_model.eval()\n",
        "\n",
        "# Define translation function for Gradio\n",
        "def translate_text(text):\n",
        "    translated, _ = translate_sentence(best_model, text, device)\n",
        "    return translated\n",
        "\n",
        "# Create Gradio interface\n",
        "demo = gr.Interface(\n",
        "    fn=translate_text,\n",
        "    inputs=gr.Textbox(lines=5, placeholder=\"Enter English text here...\"),\n",
        "    outputs=gr.Textbox(lines=5, placeholder=\"Vietnamese translation will appear here...\"),\n",
        "    title=\"English to Vietnamese Translation\",\n",
        "    description=f\"This demo uses a {best_model_type} model trained on the Opus100 English-Vietnamese dataset.\",\n",
        "    examples=[\n",
        "        [\"Hello, how are you today?\"],\n",
        "        [\"I am a student.\"],\n",
        "        [\"The weather is nice today\"]\n",
        "    ]\n",
        ")\n",
        "\n",
        "# Launch the demo\n",
        "demo.launch(share=True)"
      ]
    }
  ],
  "metadata": {
    "colab": {
      "provenance": [],
      "include_colab_link": true
    },
    "kernelspec": {
      "display_name": "Python 3",
      "name": "python3"
    },
    "language_info": {
      "name": "python"
    }
  },
  "nbformat": 4,
  "nbformat_minor": 5
}